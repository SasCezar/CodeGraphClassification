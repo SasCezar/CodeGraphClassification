{
 "cells": [
  {
   "cell_type": "code",
   "execution_count": 4,
   "metadata": {
    "collapsed": true
   },
   "outputs": [],
   "source": [
    "from pathlib import Path\n",
    "\n",
    "import pandas\n",
    "import pandas as pd\n",
    "\n",
    "keywords_path = Path(\"/home/sasce/PycharmProjects/CodeGraphClassification/data/processed/keywords/all\")\n",
    "\n",
    "keywords_files = list(keywords_path.glob(\"*.csv\"))"
   ]
  },
  {
   "cell_type": "code",
   "execution_count": 13,
   "outputs": [],
   "source": [
    "\n",
    "keywords = {}\n",
    "\n",
    "for keywords_file in keywords_files[:1]:\n",
    "    label = keywords_file.stem\n",
    "    df = pandas.read_csv(keywords_file)\n",
    "    top_freq = df.nlargest(10, 'frequency')\n",
    "    top_sim = df.nlargest(10, 'similarity')\n",
    "    final = pd.concat([top_freq, top_sim], axis=0)\n",
    "    final.drop_duplicates(keep='last', inplace=True)"
   ],
   "metadata": {
    "collapsed": false
   }
  },
  {
   "cell_type": "code",
   "execution_count": 14,
   "outputs": [
    {
     "data": {
      "text/plain": "            keyword  similarity  frequency\n11             jdbc    0.444263        336\n66             test    0.281955        142\n40       connection    0.340988        128\n51             core    0.315584        126\n67           fabric    0.280841        104\n24              sql    0.400840         82\n120       exception    0.147064         82\n127           photo    0.074936         68\n42          android    0.334654         64\n0            neural    0.849975          2\n1     convolutional    0.820118          1\n2       convolution    0.708695          1\n3           network    0.682583          4\n4        regression    0.533833         92\n5    authentication    0.492421         14\n6       replication    0.489036         20\n7            opencv    0.488524         52\n8         detection    0.475857          3\n9           imgproc    0.460436         28",
      "text/html": "<div>\n<style scoped>\n    .dataframe tbody tr th:only-of-type {\n        vertical-align: middle;\n    }\n\n    .dataframe tbody tr th {\n        vertical-align: top;\n    }\n\n    .dataframe thead th {\n        text-align: right;\n    }\n</style>\n<table border=\"1\" class=\"dataframe\">\n  <thead>\n    <tr style=\"text-align: right;\">\n      <th></th>\n      <th>keyword</th>\n      <th>similarity</th>\n      <th>frequency</th>\n    </tr>\n  </thead>\n  <tbody>\n    <tr>\n      <th>11</th>\n      <td>jdbc</td>\n      <td>0.444263</td>\n      <td>336</td>\n    </tr>\n    <tr>\n      <th>66</th>\n      <td>test</td>\n      <td>0.281955</td>\n      <td>142</td>\n    </tr>\n    <tr>\n      <th>40</th>\n      <td>connection</td>\n      <td>0.340988</td>\n      <td>128</td>\n    </tr>\n    <tr>\n      <th>51</th>\n      <td>core</td>\n      <td>0.315584</td>\n      <td>126</td>\n    </tr>\n    <tr>\n      <th>67</th>\n      <td>fabric</td>\n      <td>0.280841</td>\n      <td>104</td>\n    </tr>\n    <tr>\n      <th>24</th>\n      <td>sql</td>\n      <td>0.400840</td>\n      <td>82</td>\n    </tr>\n    <tr>\n      <th>120</th>\n      <td>exception</td>\n      <td>0.147064</td>\n      <td>82</td>\n    </tr>\n    <tr>\n      <th>127</th>\n      <td>photo</td>\n      <td>0.074936</td>\n      <td>68</td>\n    </tr>\n    <tr>\n      <th>42</th>\n      <td>android</td>\n      <td>0.334654</td>\n      <td>64</td>\n    </tr>\n    <tr>\n      <th>0</th>\n      <td>neural</td>\n      <td>0.849975</td>\n      <td>2</td>\n    </tr>\n    <tr>\n      <th>1</th>\n      <td>convolutional</td>\n      <td>0.820118</td>\n      <td>1</td>\n    </tr>\n    <tr>\n      <th>2</th>\n      <td>convolution</td>\n      <td>0.708695</td>\n      <td>1</td>\n    </tr>\n    <tr>\n      <th>3</th>\n      <td>network</td>\n      <td>0.682583</td>\n      <td>4</td>\n    </tr>\n    <tr>\n      <th>4</th>\n      <td>regression</td>\n      <td>0.533833</td>\n      <td>92</td>\n    </tr>\n    <tr>\n      <th>5</th>\n      <td>authentication</td>\n      <td>0.492421</td>\n      <td>14</td>\n    </tr>\n    <tr>\n      <th>6</th>\n      <td>replication</td>\n      <td>0.489036</td>\n      <td>20</td>\n    </tr>\n    <tr>\n      <th>7</th>\n      <td>opencv</td>\n      <td>0.488524</td>\n      <td>52</td>\n    </tr>\n    <tr>\n      <th>8</th>\n      <td>detection</td>\n      <td>0.475857</td>\n      <td>3</td>\n    </tr>\n    <tr>\n      <th>9</th>\n      <td>imgproc</td>\n      <td>0.460436</td>\n      <td>28</td>\n    </tr>\n  </tbody>\n</table>\n</div>"
     },
     "execution_count": 14,
     "metadata": {},
     "output_type": "execute_result"
    }
   ],
   "source": [
    "final"
   ],
   "metadata": {
    "collapsed": false
   }
  },
  {
   "cell_type": "code",
   "execution_count": null,
   "outputs": [],
   "source": [],
   "metadata": {
    "collapsed": false
   }
  }
 ],
 "metadata": {
  "kernelspec": {
   "display_name": "Python 3",
   "language": "python",
   "name": "python3"
  },
  "language_info": {
   "codemirror_mode": {
    "name": "ipython",
    "version": 2
   },
   "file_extension": ".py",
   "mimetype": "text/x-python",
   "name": "python",
   "nbconvert_exporter": "python",
   "pygments_lexer": "ipython2",
   "version": "2.7.6"
  }
 },
 "nbformat": 4,
 "nbformat_minor": 0
}
