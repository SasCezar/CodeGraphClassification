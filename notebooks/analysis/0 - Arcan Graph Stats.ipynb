{
 "cells": [
  {
   "cell_type": "code",
   "execution_count": 1,
   "outputs": [
    {
     "name": "stdout",
     "output_type": "stream",
     "text": [
      "{'num_workers': 1, 'extraction': {'_target_': 'src.feature.extract.NameFeatureExtraction', 'graph_path': '${arcan_graphs}', 'out_path': '${out_path}/processed/', 'stopwords': 'None'}, 'embedding': {'_target_': 'src.feature.embedding.FastTextEmbedding', 'model': 'fastText', 'path': '${base_path}/data/models/wiki.en.bin'}, 'base_path': '/home/sasce/PycharmProjects/CodeGraphClassification', 'out_path': '${base_path}/data/', 'arcan_out': '${base_path}/data/interim/', 'arcan_graphs': '${arcan_out}/arcanOutput', 'dataset': '${base_path}/data/raw/classification_dataset_lang.csv', 'language': 'JAVA', 'repositories_path': '${base_path}/data/raw/repositories/', 'arcan_script': '${base_path}/scripts/bash/run-arcan.sh', 'arcan_path': '${base_path}/tools/arcan', 'repository_path': '${base_path}/data/raw/repositories', 'logs_path': '${base_path}/logs/'}\n"
     ]
    }
   ],
   "source": [
    "from hydra import initialize, compose\n",
    "from tqdm import tqdm\n",
    "with initialize(version_base=None, config_path=\"../../src/conf/\"):\n",
    "    cfg = compose(config_name='main.yaml', overrides=[\"local=default\"])\n",
    "    print(cfg)"
   ],
   "metadata": {
    "collapsed": false
   }
  },
  {
   "cell_type": "code",
   "execution_count": 2,
   "outputs": [
    {
     "name": "stdout",
     "output_type": "stream",
     "text": [
      "Number of projects 60337\n"
     ]
    }
   ],
   "source": [
    "from os.path import join\n",
    "import pathlib\n",
    "\n",
    "arcan_path_project = pathlib.Path(join(cfg.arcan_out, 'arcanOutput/'))\n",
    "projects = list(arcan_path_project.glob('**/*.graphml'))\n",
    "print(f\"Number of projects {len(projects)}\")"
   ],
   "metadata": {
    "collapsed": false
   }
  },
  {
   "cell_type": "code",
   "execution_count": 25,
   "outputs": [
    {
     "data": {
      "text/plain": "PosixPath('/home/sasce/PycharmProjects/CodeGraphClassification/data/interim/arcanOutput/Norconex|collector-filesystem/dependency-graph-63_c01cf7bf4093aa21fafc1fba93ba50ca0343c619.graphml')"
     },
     "execution_count": 25,
     "metadata": {},
     "output_type": "execute_result"
    }
   ],
   "source": [
    "projects[1]"
   ],
   "metadata": {
    "collapsed": false
   }
  },
  {
   "cell_type": "markdown",
   "source": [
    "# Statistics"
   ],
   "metadata": {
    "collapsed": false
   }
  },
  {
   "cell_type": "markdown",
   "source": [
    "#### 1 - Graph size"
   ],
   "metadata": {
    "collapsed": false
   }
  },
  {
   "cell_type": "code",
   "execution_count": 3,
   "outputs": [
    {
     "name": "stderr",
     "output_type": "stream",
     "text": [
      "100%|██████████| 60337/60337 [17:30<00:00, 57.43it/s]  \n"
     ]
    }
   ],
   "source": [
    "from data.graph import ArcanGraphLoader\n",
    "\n",
    "num_nodes = []\n",
    "num_edges = []\n",
    "\n",
    "loader = ArcanGraphLoader()\n",
    "empty = 0\n",
    "for project_path in tqdm(projects):\n",
    "    try:\n",
    "        project = loader.load(str(project_path))\n",
    "        num_edges.append(len(project.es))\n",
    "        num_nodes.append(len(project.vs))\n",
    "    except:\n",
    "        empty += 1"
   ],
   "metadata": {
    "collapsed": false
   }
  },
  {
   "cell_type": "code",
   "execution_count": 4,
   "outputs": [
    {
     "name": "stdout",
     "output_type": "stream",
     "text": [
      "Number of nodes on average: 349.43303719419214\n",
      "Number of edges on average: 2931.1985347742493\n",
      "Number of min nodes: 1\n",
      "Number of max nodes: 8971\n",
      "Number of min edges: 0\n",
      "Number of max edges: 93408\n"
     ]
    }
   ],
   "source": [
    "import numpy as np\n",
    "\n",
    "print(f'Number of nodes on average: {np.mean(num_nodes)}')\n",
    "print(f'Number of edges on average: {np.mean(num_edges)}')\n",
    "print(f'Number of min nodes: {np.min(num_nodes)}')\n",
    "print(f'Number of max nodes: {np.max(num_nodes)}')\n",
    "print(f'Number of min edges: {np.min(num_edges)}')\n",
    "print(f'Number of max edges: {np.max(num_edges)}')\n"
   ],
   "metadata": {
    "collapsed": false
   }
  },
  {
   "cell_type": "code",
   "execution_count": 7,
   "outputs": [],
   "source": [
    "count = sum([1 for x in num_edges if x < 5000])"
   ],
   "metadata": {
    "collapsed": false
   }
  },
  {
   "cell_type": "code",
   "execution_count": 8,
   "outputs": [
    {
     "name": "stdout",
     "output_type": "stream",
     "text": [
      "51055\n"
     ]
    }
   ],
   "source": [
    "print(count)"
   ],
   "metadata": {
    "collapsed": false
   }
  },
  {
   "cell_type": "code",
   "execution_count": 9,
   "outputs": [],
   "source": [
    "import seaborn as sns"
   ],
   "metadata": {
    "collapsed": false
   }
  },
  {
   "cell_type": "code",
   "execution_count": 24,
   "outputs": [
    {
     "data": {
      "text/plain": "<AxesSubplot: >"
     },
     "execution_count": 24,
     "metadata": {},
     "output_type": "execute_result"
    },
    {
     "data": {
      "text/plain": "<Figure size 640x480 with 1 Axes>",
      "image/png": "[encoded data removed]"
     },
     "metadata": {},
     "output_type": "display_data"
    }
   ],
   "source": [
    "sns.violinplot(y=num_nodes)"
   ],
   "metadata": {
    "collapsed": false
   }
  },
  {
   "cell_type": "code",
   "execution_count": 22,
   "outputs": [
    {
     "data": {
      "text/plain": "<seaborn.axisgrid.FacetGrid at 0x7f51dea94a30>"
     },
     "execution_count": 22,
     "metadata": {},
     "output_type": "execute_result"
    },
    {
     "data": {
      "text/plain": "<Figure size 500x500 with 1 Axes>",
      "image/png": "[encoded data removed]"
     },
     "metadata": {},
     "output_type": "display_data"
    }
   ],
   "source": [
    "sns.displot(x=num_nodes,log_scale=(False, True))"
   ],
   "metadata": {
    "collapsed": false
   }
  },
  {
   "cell_type": "code",
   "execution_count": null,
   "outputs": [],
   "source": [],
   "metadata": {
    "collapsed": false,
    "pycharm": {
     "is_executing": true
    }
   }
  }
 ],
 "metadata": {
  "kernelspec": {
   "display_name": "Python 3",
   "language": "python",
   "name": "python3"
  },
  "language_info": {
   "codemirror_mode": {
    "name": "ipython",
    "version": 2
   },
   "file_extension": ".py",
   "mimetype": "text/x-python",
   "name": "python",
   "nbconvert_exporter": "python",
   "pygments_lexer": "ipython2",
   "version": "2.7.6"
  }
 },
 "nbformat": 4,
 "nbformat_minor": 0
}
