{
 "cells": [
  {
   "cell_type": "code",
   "execution_count": 4,
   "metadata": {
    "collapsed": true
   },
   "outputs": [
    {
     "name": "stderr",
     "output_type": "stream",
     "text": [
      "No sentence-transformers model found with name /home/sasce/.cache/torch/sentence_transformers/NinedayWang_PolyCoder-160M. Creating a new one with MEAN pooling.\n",
      "Some weights of the model checkpoint at /home/sasce/.cache/torch/sentence_transformers/NinedayWang_PolyCoder-160M were not used when initializing GPTNeoXModel: ['embed_out.weight']\n",
      "- This IS expected if you are initializing GPTNeoXModel from the checkpoint of a model trained on another task or with another architecture (e.g. initializing a BertForSequenceClassification model from a BertForPreTraining model).\n",
      "- This IS NOT expected if you are initializing GPTNeoXModel from the checkpoint of a model that you expect to be exactly identical (initializing a BertForSequenceClassification model from a BertForSequenceClassification model).\n"
     ]
    },
    {
     "data": {
      "text/plain": "1"
     },
     "execution_count": 4,
     "metadata": {},
     "output_type": "execute_result"
    }
   ],
   "source": [
    "from sentence_transformers import SentenceTransformer\n",
    "model = SentenceTransformer(\"NinedayWang/PolyCoder-160M\", device='cpu')\n",
    "model.tokenizer.add_special_tokens({'pad_token': '[PAD]'})"
   ]
  },
  {
   "cell_type": "code",
   "execution_count": 5,
   "outputs": [],
   "source": [
    "\n",
    "#Sentences we want to encode. Example:\n",
    "sentence = ['notifyListeners(LexerNoViableAltException e) { String text = _input.getText(Interval.of(_tokenStartCharIndex, _input.index())); String msg = \"token recognition error at: \\'\"+ getErrorDisplay(text) + \"\\'\"; ANTLRErrorListener listener = getErrorListenerDispatch(); listener.syntaxError(this, null, _tokenStartLine, _tokenStartCharPositionInLine, msg, e); }']\n"
   ],
   "metadata": {
    "collapsed": false
   }
  },
  {
   "cell_type": "code",
   "execution_count": 6,
   "outputs": [
    {
     "name": "stdout",
     "output_type": "stream",
     "text": [
      "['notify', 'Listeners', '(', 'Lexer', 'No', 'V', 'iable', 'Alt', 'Exception', 'Ġe', ')', 'Ġ{', 'ĠString', 'Ġtext', 'Ġ=', 'Ġ_', 'input', '.', 'getText', '(', 'Interval', '.', 'of', '(_', 'token', 'Start', 'Char', 'Index', ',', 'Ġ_', 'input', '.', 'index', '()));', 'ĠString', 'Ġmsg', 'Ġ=', 'Ġ\"', 'token', 'Ġrecogn', 'ition', 'Ġerror', 'Ġat', ':', \"Ġ'\", '\"+', 'Ġget', 'Error', 'Display', '(', 'text', ')', 'Ġ+', 'Ġ\"\\'', '\";', 'ĠAN', 'TL', 'RE', 'rror', 'Listener', 'Ġlistener', 'Ġ=', 'Ġget', 'Error', 'Listener', 'Dispatch', '();', 'Ġlistener', '.', 'syntax', 'Error', '(', 'this', ',', 'Ġnull', ',', 'Ġ_', 'token', 'Start', 'Line', ',', 'Ġ_', 'token', 'Start', 'Char', 'Position', 'In', 'Line', ',', 'Ġmsg', ',', 'Ġe', ');', 'Ġ}']\n"
     ]
    }
   ],
   "source": [
    "input_ids = model.tokenizer(sentence)['input_ids']\n",
    "for tid in input_ids:\n",
    "    print(model.tokenizer.convert_ids_to_tokens(tid))"
   ],
   "metadata": {
    "collapsed": false
   }
  },
  {
   "cell_type": "code",
   "execution_count": 7,
   "outputs": [
    {
     "name": "stdout",
     "output_type": "stream",
     "text": [
      "61.8 ms ± 7.27 ms per loop (mean ± std. dev. of 7 runs, 10 loops each)\n"
     ]
    }
   ],
   "source": [
    "%%timeit\n",
    "embedding2 = model.encode(sentence)"
   ],
   "metadata": {
    "collapsed": false
   }
  },
  {
   "cell_type": "code",
   "execution_count": 8,
   "outputs": [
    {
     "ename": "NameError",
     "evalue": "name 'embedding2' is not defined",
     "output_type": "error",
     "traceback": [
      "\u001B[0;31m---------------------------------------------------------------------------\u001B[0m",
      "\u001B[0;31mNameError\u001B[0m                                 Traceback (most recent call last)",
      "Cell \u001B[0;32mIn[8], line 1\u001B[0m\n\u001B[0;32m----> 1\u001B[0m \u001B[43membedding2\u001B[49m\n",
      "\u001B[0;31mNameError\u001B[0m: name 'embedding2' is not defined"
     ]
    }
   ],
   "source": [
    "embedding2"
   ],
   "metadata": {
    "collapsed": false
   }
  },
  {
   "cell_type": "code",
   "execution_count": null,
   "outputs": [],
   "source": [
    "embedding2"
   ],
   "metadata": {
    "collapsed": false
   }
  },
  {
   "cell_type": "code",
   "execution_count": null,
   "outputs": [],
   "source": [],
   "metadata": {
    "collapsed": false
   }
  }
 ],
 "metadata": {
  "kernelspec": {
   "display_name": "Python 3",
   "language": "python",
   "name": "python3"
  },
  "language_info": {
   "codemirror_mode": {
    "name": "ipython",
    "version": 2
   },
   "file_extension": ".py",
   "mimetype": "text/x-python",
   "name": "python",
   "nbconvert_exporter": "python",
   "pygments_lexer": "ipython2",
   "version": "2.7.6"
  }
 },
 "nbformat": 4,
 "nbformat_minor": 0
}
