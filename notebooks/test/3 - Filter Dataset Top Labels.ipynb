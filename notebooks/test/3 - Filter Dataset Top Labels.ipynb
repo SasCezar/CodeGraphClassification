{
 "cells": [
  {
   "cell_type": "code",
   "execution_count": 1,
   "metadata": {
    "collapsed": true
   },
   "outputs": [],
   "source": [
    "project_path = \"/home/sasce/PycharmProjects/CodeGraphClassification/data/raw/dataset_with_graphs.csv\""
   ]
  },
  {
   "cell_type": "code",
   "execution_count": 2,
   "outputs": [],
   "source": [
    "import pandas\n",
    "\n",
    "projects = pandas.read_csv(project_path)\n"
   ],
   "metadata": {
    "collapsed": false
   }
  },
  {
   "cell_type": "code",
   "execution_count": 3,
   "outputs": [
    {
     "data": {
      "text/plain": "(60195, 7)"
     },
     "execution_count": 3,
     "metadata": {},
     "output_type": "execute_result"
    }
   ],
   "source": [
    "projects.shape"
   ],
   "metadata": {
    "collapsed": false
   }
  },
  {
   "cell_type": "code",
   "execution_count": 4,
   "outputs": [
    {
     "name": "stderr",
     "output_type": "stream",
     "text": [
      "2022-10-25 15:02:57.111 | INFO     | utils:filter_by_label:104 - Labels ['database', 'server', 'microservices', 'security', 'machine learning', 'video game', 'software testing', 'big data', 'application performance management', 'authentication']\n",
      "/home/sasce/PycharmProjects/CodeGraphClassification/src/utils.py:108: SettingWithCopyWarning: \n",
      "A value is trying to be set on a copy of a slice from a DataFrame.\n",
      "Try using .loc[row_indexer,col_indexer] = value instead\n",
      "\n",
      "See the caveats in the documentation: https://pandas.pydata.org/pandas-docs/stable/user_guide/indexing.html#returning-a-view-versus-a-copy\n",
      "  df['label'] = df['label'].apply(tuple)\n"
     ]
    }
   ],
   "source": [
    "from utils import only_top_labels\n",
    "\n",
    "res = only_top_labels(projects, 10)"
   ],
   "metadata": {
    "collapsed": false
   }
  },
  {
   "cell_type": "code",
   "execution_count": 5,
   "outputs": [
    {
     "data": {
      "text/plain": "(19261, 6)"
     },
     "execution_count": 5,
     "metadata": {},
     "output_type": "execute_result"
    }
   ],
   "source": [
    "res.shape"
   ],
   "metadata": {
    "collapsed": false
   }
  },
  {
   "cell_type": "code",
   "execution_count": 11,
   "outputs": [
    {
     "data": {
      "text/plain": "                             name     label  version  \\\n46     awslabs|multi-model-server  [server]     1157   \n47     awslabs|multi-model-server  [server]     1176   \n48     awslabs|multi-model-server  [server]     1204   \n49     awslabs|multi-model-server  [server]     1173   \n50     awslabs|multi-model-server  [server]     1221   \n...                           ...       ...      ...   \n60190    VelocityPowered|Velocity  [server]      918   \n60191    VelocityPowered|Velocity  [server]      555   \n60192    VelocityPowered|Velocity  [server]     1532   \n60193    VelocityPowered|Velocity  [server]      943   \n60194    VelocityPowered|Velocity  [server]     2055   \n\n                                            sha  nodes  edges  \n46     c8efee5821b26e5da3239f37d9bfd684f2aec429    125    596  \n47     363c5642444b42d290c0a6a57a8674506efc6e3f    125    596  \n48     aa7c2309aa7da429c4f86c0b863918ddf0fbceb1    125    596  \n49     0b635b675fef813cd550fe552ac17c1c67b1490d    125    596  \n50     1fee69499137522aca6946275b298a2bf1c01baf    124    590  \n...                                         ...    ...    ...  \n60190  35856fec047a189f5354ce7bf9caf7dd83b9b81e    297   2054  \n60191  a4cdc4884aa7994df4bd2ecbffcec987ef74dbbf    246   1678  \n60192  7ca40094cb208abdc29beaad3dcafeb9b3488618    342   2453  \n60193  20559e059dd037ae1efde85b207ac7556aec43e2    303   2111  \n60194  311133a4d3342e81ac99fafd8955e1641524d33e    374   2601  \n\n[19261 rows x 6 columns]",
      "text/html": "<div>\n<style scoped>\n    .dataframe tbody tr th:only-of-type {\n        vertical-align: middle;\n    }\n\n    .dataframe tbody tr th {\n        vertical-align: top;\n    }\n\n    .dataframe thead th {\n        text-align: right;\n    }\n</style>\n<table border=\"1\" class=\"dataframe\">\n  <thead>\n    <tr style=\"text-align: right;\">\n      <th></th>\n      <th>name</th>\n      <th>label</th>\n      <th>version</th>\n      <th>sha</th>\n      <th>nodes</th>\n      <th>edges</th>\n    </tr>\n  </thead>\n  <tbody>\n    <tr>\n      <th>46</th>\n      <td>awslabs|multi-model-server</td>\n      <td>[server]</td>\n      <td>1157</td>\n      <td>c8efee5821b26e5da3239f37d9bfd684f2aec429</td>\n      <td>125</td>\n      <td>596</td>\n    </tr>\n    <tr>\n      <th>47</th>\n      <td>awslabs|multi-model-server</td>\n      <td>[server]</td>\n      <td>1176</td>\n      <td>363c5642444b42d290c0a6a57a8674506efc6e3f</td>\n      <td>125</td>\n      <td>596</td>\n    </tr>\n    <tr>\n      <th>48</th>\n      <td>awslabs|multi-model-server</td>\n      <td>[server]</td>\n      <td>1204</td>\n      <td>aa7c2309aa7da429c4f86c0b863918ddf0fbceb1</td>\n      <td>125</td>\n      <td>596</td>\n    </tr>\n    <tr>\n      <th>49</th>\n      <td>awslabs|multi-model-server</td>\n      <td>[server]</td>\n      <td>1173</td>\n      <td>0b635b675fef813cd550fe552ac17c1c67b1490d</td>\n      <td>125</td>\n      <td>596</td>\n    </tr>\n    <tr>\n      <th>50</th>\n      <td>awslabs|multi-model-server</td>\n      <td>[server]</td>\n      <td>1221</td>\n      <td>1fee69499137522aca6946275b298a2bf1c01baf</td>\n      <td>124</td>\n      <td>590</td>\n    </tr>\n    <tr>\n      <th>...</th>\n      <td>...</td>\n      <td>...</td>\n      <td>...</td>\n      <td>...</td>\n      <td>...</td>\n      <td>...</td>\n    </tr>\n    <tr>\n      <th>60190</th>\n      <td>VelocityPowered|Velocity</td>\n      <td>[server]</td>\n      <td>918</td>\n      <td>35856fec047a189f5354ce7bf9caf7dd83b9b81e</td>\n      <td>297</td>\n      <td>2054</td>\n    </tr>\n    <tr>\n      <th>60191</th>\n      <td>VelocityPowered|Velocity</td>\n      <td>[server]</td>\n      <td>555</td>\n      <td>a4cdc4884aa7994df4bd2ecbffcec987ef74dbbf</td>\n      <td>246</td>\n      <td>1678</td>\n    </tr>\n    <tr>\n      <th>60192</th>\n      <td>VelocityPowered|Velocity</td>\n      <td>[server]</td>\n      <td>1532</td>\n      <td>7ca40094cb208abdc29beaad3dcafeb9b3488618</td>\n      <td>342</td>\n      <td>2453</td>\n    </tr>\n    <tr>\n      <th>60193</th>\n      <td>VelocityPowered|Velocity</td>\n      <td>[server]</td>\n      <td>943</td>\n      <td>20559e059dd037ae1efde85b207ac7556aec43e2</td>\n      <td>303</td>\n      <td>2111</td>\n    </tr>\n    <tr>\n      <th>60194</th>\n      <td>VelocityPowered|Velocity</td>\n      <td>[server]</td>\n      <td>2055</td>\n      <td>311133a4d3342e81ac99fafd8955e1641524d33e</td>\n      <td>374</td>\n      <td>2601</td>\n    </tr>\n  </tbody>\n</table>\n<p>19261 rows × 6 columns</p>\n</div>"
     },
     "execution_count": 11,
     "metadata": {},
     "output_type": "execute_result"
    }
   ],
   "source": [
    "res"
   ],
   "metadata": {
    "collapsed": false
   }
  },
  {
   "cell_type": "code",
   "execution_count": null,
   "outputs": [],
   "source": [],
   "metadata": {
    "collapsed": false
   }
  }
 ],
 "metadata": {
  "kernelspec": {
   "display_name": "Python 3",
   "language": "python",
   "name": "python3"
  },
  "language_info": {
   "codemirror_mode": {
    "name": "ipython",
    "version": 2
   },
   "file_extension": ".py",
   "mimetype": "text/x-python",
   "name": "python",
   "nbconvert_exporter": "python",
   "pygments_lexer": "ipython2",
   "version": "2.7.6"
  }
 },
 "nbformat": 4,
 "nbformat_minor": 0
}
