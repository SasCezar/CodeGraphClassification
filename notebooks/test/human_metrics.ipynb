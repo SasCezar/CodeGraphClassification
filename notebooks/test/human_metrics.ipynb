{
 "cells": [
  {
   "cell_type": "code",
   "execution_count": 1,
   "metadata": {
    "collapsed": true,
    "ExecuteTime": {
     "start_time": "2023-04-20T08:38:18.481808Z",
     "end_time": "2023-04-20T08:38:18.944812Z"
    }
   },
   "outputs": [],
   "source": [
    "import numpy as np\n",
    "import pandas as pd\n",
    "from agreement import krippendorffs_alpha"
   ]
  },
  {
   "cell_type": "code",
   "execution_count": 2,
   "outputs": [],
   "source": [
    "def read_annotations(path):\n",
    "    # Load Excel file into a Pandas ExcelFile object\n",
    "    xlsx_file = pd.ExcelFile(path)\n",
    "\n",
    "    # Read all sheets except the first one into a dictionary of dataframes with column headers set to the first row\n",
    "    dfs_dict = pd.read_excel(xlsx_file, sheet_name=xlsx_file.sheet_names[1:], header=0)\n",
    "\n",
    "    # Rename the first column header to \"annot_id\" for all dataframes\n",
    "    for df in dfs_dict.values():\n",
    "        df.rename(columns={df.columns[0]: 'annot_id'}, inplace=True)\n",
    "        df.rename(columns={df.columns[-1]: 'annotation'}, inplace=True)\n",
    "\n",
    "    # Concatenate all dataframes in the dictionary into a single dataframe\n",
    "    result_df = pd.concat(dfs_dict.values(), ignore_index=True)\n",
    "\n",
    "    return result_df\n"
   ],
   "metadata": {
    "collapsed": false,
    "ExecuteTime": {
     "start_time": "2023-04-20T08:38:18.938126Z",
     "end_time": "2023-04-20T08:38:18.991682Z"
    }
   }
  },
  {
   "cell_type": "code",
   "execution_count": 3,
   "outputs": [],
   "source": [
    "def project_group_annotations(df):\n",
    "    df_grouped = df.groupby('annot_id').agg({'project': 'first',\n",
    "                                         'url': 'first',\n",
    "                                         'label': 'first',\n",
    "                                         'annotator': list,\n",
    "                                         'annotation': [('annotation1', lambda x: x.iloc[0]),\n",
    "                                                        ('annotation2', lambda x: x.iloc[1])]}).reset_index()\n",
    "\n",
    "    df_grouped.columns = list(map(lambda x: x[0] if x[1] in ['list', 'first'] else x[1], df_grouped.columns.values))\n",
    "    df_grouped.columns = ['annot_id'] + list(df_grouped.columns.values)[1:]\n",
    "    return df_grouped"
   ],
   "metadata": {
    "collapsed": false,
    "ExecuteTime": {
     "start_time": "2023-04-20T08:38:18.946807Z",
     "end_time": "2023-04-20T08:38:19.039182Z"
    }
   }
  },
  {
   "cell_type": "code",
   "execution_count": 4,
   "outputs": [],
   "source": [
    "def others_group_annotations(df, level='file'):\n",
    "    df_grouped = df.groupby('annot_id').agg({\n",
    "                                        'project': 'first',\n",
    "                                         'url': 'first',\n",
    "                                         level: 'first',\n",
    "                                         'label_1': 'first',\n",
    "                                         'label_2': 'first',\n",
    "                                         'label_3': 'first',\n",
    "                                         'annotator': list,\n",
    "                                         'annotation': [('annotation1', lambda x: x.iloc[0]),\n",
    "                                                        ('annotation2', lambda x: x.iloc[1])]}).reset_index()\n",
    "\n",
    "    df_grouped.columns = list(map(lambda x: x[0] if x[1] in ['list', 'first'] else x[1], df_grouped.columns.values))\n",
    "    df_grouped.columns = ['annot_id'] + list(df_grouped.columns.values)[1:]\n",
    "    return df_grouped"
   ],
   "metadata": {
    "collapsed": false,
    "ExecuteTime": {
     "start_time": "2023-04-20T08:38:18.954232Z",
     "end_time": "2023-04-20T08:38:19.091739Z"
    }
   }
  },
  {
   "cell_type": "code",
   "execution_count": 5,
   "outputs": [],
   "source": [
    "def create_annot_table(df):\n",
    "    question_id = df['annot_id']\n",
    "    annotator_id = df['annotator']\n",
    "    annotation = df['annotation']\n",
    "\n",
    "    annot_table = np.column_stack((question_id, annotator_id, annotation))\n",
    "    return annot_table"
   ],
   "metadata": {
    "collapsed": false,
    "ExecuteTime": {
     "start_time": "2023-04-20T08:38:18.960975Z",
     "end_time": "2023-04-20T08:38:19.136940Z"
    }
   }
  },
  {
   "cell_type": "code",
   "execution_count": 32,
   "outputs": [],
   "source": [
    "def load_disagreement(path):\n",
    "    df = pd.read_csv(path, header=0)\n",
    "    df.rename(columns={df.columns[-1]: 'resolved'}, inplace=True)\n",
    "    df = df[df.columns.intersection(['annot_id', 'resolved'])]\n",
    "    return df\n",
    "\n",
    "\n",
    "def join_disagreement(df, disagreement_df):\n",
    "    df = df.merge(disagreement_df, how='left', left_on='annot_id', right_on='annot_id')\n",
    "    df['final'] = df['resolved']\n",
    "    df['final'].fillna(df['annotation1'], inplace=True)\n",
    "    df['final'] = df['final'].astype('uint8')\n",
    "    return df\n"
   ],
   "metadata": {
    "collapsed": false,
    "ExecuteTime": {
     "start_time": "2023-04-20T09:01:07.178426Z",
     "end_time": "2023-04-20T09:01:07.185411Z"
    }
   }
  },
  {
   "cell_type": "code",
   "execution_count": 33,
   "outputs": [],
   "source": [
    "df = read_annotations('/home/sasce/PycharmProjects/CodeGraphClassification/data/processed/manual_eval/project_human_eval_best-voting.xlsx')\n",
    "# df = group_annotations(df)\n",
    "annot_table = create_annot_table(df)"
   ],
   "metadata": {
    "collapsed": false,
    "ExecuteTime": {
     "start_time": "2023-04-20T09:01:07.482871Z",
     "end_time": "2023-04-20T09:01:07.786551Z"
    }
   }
  },
  {
   "cell_type": "code",
   "execution_count": 34,
   "outputs": [],
   "source": [
    "df['annotation'] = df['annotation'].replace('-', '0').fillna(0).astype('int64')\n",
    "agg_df = project_group_annotations(df)\n"
   ],
   "metadata": {
    "collapsed": false,
    "ExecuteTime": {
     "start_time": "2023-04-20T09:01:07.813203Z",
     "end_time": "2023-04-20T09:01:07.884047Z"
    }
   }
  },
  {
   "cell_type": "code",
   "execution_count": 35,
   "outputs": [],
   "source": [
    "disagreement_df = load_disagreement('/home/sasce/PycharmProjects/CodeGraphClassification/data/processed/manual_eval/project_human_disagreements.xlsx')"
   ],
   "metadata": {
    "collapsed": false,
    "ExecuteTime": {
     "start_time": "2023-04-20T09:01:07.909002Z",
     "end_time": "2023-04-20T09:01:07.952922Z"
    }
   }
  },
  {
   "cell_type": "code",
   "execution_count": 36,
   "outputs": [],
   "source": [
    "resolved_df = join_disagreement(agg_df, disagreement_df)\n"
   ],
   "metadata": {
    "collapsed": false,
    "ExecuteTime": {
     "start_time": "2023-04-20T09:01:08.084675Z",
     "end_time": "2023-04-20T09:01:08.129221Z"
    }
   }
  },
  {
   "cell_type": "code",
   "execution_count": 37,
   "outputs": [
    {
     "data": {
      "text/plain": "     annot_id                 project  \\\n0           0    wandora-team|wandora   \n1           1    wandora-team|wandora   \n2           2    wandora-team|wandora   \n3           3    wandora-team|wandora   \n4           4    wandora-team|wandora   \n..        ...                     ...   \n811       811  apache|brooklyn-server   \n812       812  apache|brooklyn-server   \n813       813  apache|brooklyn-server   \n814       814  apache|brooklyn-server   \n815       815  apache|brooklyn-server   \n\n                                           url                     label  \\\n0      https://github.com/wandora-team/wandora          Containerization   \n1      https://github.com/wandora-team/wandora            bioinformatics   \n2      https://github.com/wandora-team/wandora  graphical user interface   \n3      https://github.com/wandora-team/wandora                   science   \n4      https://github.com/wandora-team/wandora                shell tool   \n..                                         ...                       ...   \n811  https://github.com/apache/brooklyn-server                  big data   \n812  https://github.com/apache/brooklyn-server  web application security   \n813  https://github.com/apache/brooklyn-server             random forest   \n814  https://github.com/apache/brooklyn-server    computer configuration   \n815  https://github.com/apache/brooklyn-server             microservices   \n\n    annotator  annotation1  annotation2  resolved  final  \n0      [G, H]            0            0       NaN      0  \n1      [G, H]            0            0       NaN      0  \n2      [G, H]            1            1       NaN      1  \n3      [G, H]            1            1       NaN      1  \n4      [G, H]            0            0       NaN      0  \n..        ...          ...          ...       ...    ...  \n811    [F, G]            0            0       NaN      0  \n812    [F, G]            0            0       NaN      0  \n813    [F, G]            0            0       NaN      0  \n814    [F, G]            0            1       1.0      1  \n815    [F, G]            1            0       0.0      0  \n\n[816 rows x 9 columns]",
      "text/html": "<div>\n<style scoped>\n    .dataframe tbody tr th:only-of-type {\n        vertical-align: middle;\n    }\n\n    .dataframe tbody tr th {\n        vertical-align: top;\n    }\n\n    .dataframe thead th {\n        text-align: right;\n    }\n</style>\n<table border=\"1\" class=\"dataframe\">\n  <thead>\n    <tr style=\"text-align: right;\">\n      <th></th>\n      <th>annot_id</th>\n      <th>project</th>\n      <th>url</th>\n      <th>label</th>\n      <th>annotator</th>\n      <th>annotation1</th>\n      <th>annotation2</th>\n      <th>resolved</th>\n      <th>final</th>\n    </tr>\n  </thead>\n  <tbody>\n    <tr>\n      <th>0</th>\n      <td>0</td>\n      <td>wandora-team|wandora</td>\n      <td>https://github.com/wandora-team/wandora</td>\n      <td>Containerization</td>\n      <td>[G, H]</td>\n      <td>0</td>\n      <td>0</td>\n      <td>NaN</td>\n      <td>0</td>\n    </tr>\n    <tr>\n      <th>1</th>\n      <td>1</td>\n      <td>wandora-team|wandora</td>\n      <td>https://github.com/wandora-team/wandora</td>\n      <td>bioinformatics</td>\n      <td>[G, H]</td>\n      <td>0</td>\n      <td>0</td>\n      <td>NaN</td>\n      <td>0</td>\n    </tr>\n    <tr>\n      <th>2</th>\n      <td>2</td>\n      <td>wandora-team|wandora</td>\n      <td>https://github.com/wandora-team/wandora</td>\n      <td>graphical user interface</td>\n      <td>[G, H]</td>\n      <td>1</td>\n      <td>1</td>\n      <td>NaN</td>\n      <td>1</td>\n    </tr>\n    <tr>\n      <th>3</th>\n      <td>3</td>\n      <td>wandora-team|wandora</td>\n      <td>https://github.com/wandora-team/wandora</td>\n      <td>science</td>\n      <td>[G, H]</td>\n      <td>1</td>\n      <td>1</td>\n      <td>NaN</td>\n      <td>1</td>\n    </tr>\n    <tr>\n      <th>4</th>\n      <td>4</td>\n      <td>wandora-team|wandora</td>\n      <td>https://github.com/wandora-team/wandora</td>\n      <td>shell tool</td>\n      <td>[G, H]</td>\n      <td>0</td>\n      <td>0</td>\n      <td>NaN</td>\n      <td>0</td>\n    </tr>\n    <tr>\n      <th>...</th>\n      <td>...</td>\n      <td>...</td>\n      <td>...</td>\n      <td>...</td>\n      <td>...</td>\n      <td>...</td>\n      <td>...</td>\n      <td>...</td>\n      <td>...</td>\n    </tr>\n    <tr>\n      <th>811</th>\n      <td>811</td>\n      <td>apache|brooklyn-server</td>\n      <td>https://github.com/apache/brooklyn-server</td>\n      <td>big data</td>\n      <td>[F, G]</td>\n      <td>0</td>\n      <td>0</td>\n      <td>NaN</td>\n      <td>0</td>\n    </tr>\n    <tr>\n      <th>812</th>\n      <td>812</td>\n      <td>apache|brooklyn-server</td>\n      <td>https://github.com/apache/brooklyn-server</td>\n      <td>web application security</td>\n      <td>[F, G]</td>\n      <td>0</td>\n      <td>0</td>\n      <td>NaN</td>\n      <td>0</td>\n    </tr>\n    <tr>\n      <th>813</th>\n      <td>813</td>\n      <td>apache|brooklyn-server</td>\n      <td>https://github.com/apache/brooklyn-server</td>\n      <td>random forest</td>\n      <td>[F, G]</td>\n      <td>0</td>\n      <td>0</td>\n      <td>NaN</td>\n      <td>0</td>\n    </tr>\n    <tr>\n      <th>814</th>\n      <td>814</td>\n      <td>apache|brooklyn-server</td>\n      <td>https://github.com/apache/brooklyn-server</td>\n      <td>computer configuration</td>\n      <td>[F, G]</td>\n      <td>0</td>\n      <td>1</td>\n      <td>1.0</td>\n      <td>1</td>\n    </tr>\n    <tr>\n      <th>815</th>\n      <td>815</td>\n      <td>apache|brooklyn-server</td>\n      <td>https://github.com/apache/brooklyn-server</td>\n      <td>microservices</td>\n      <td>[F, G]</td>\n      <td>1</td>\n      <td>0</td>\n      <td>0.0</td>\n      <td>0</td>\n    </tr>\n  </tbody>\n</table>\n<p>816 rows × 9 columns</p>\n</div>"
     },
     "execution_count": 37,
     "metadata": {},
     "output_type": "execute_result"
    }
   ],
   "source": [
    "resolved_df"
   ],
   "metadata": {
    "collapsed": false,
    "ExecuteTime": {
     "start_time": "2023-04-20T09:01:11.574311Z",
     "end_time": "2023-04-20T09:01:11.584814Z"
    }
   }
  },
  {
   "cell_type": "code",
   "execution_count": 243,
   "outputs": [
    {
     "data": {
      "text/plain": "0.5561987099806434"
     },
     "execution_count": 243,
     "metadata": {},
     "output_type": "execute_result"
    }
   ],
   "source": [
    "from agreement.utils.transform import pivot_table_frequency\n",
    "answer_table = pivot_table_frequency(np.array(df['annot_id']), np.array(df['annotation'].replace('-', '0').fillna(0)).astype('int64'))\n",
    "user_table = pivot_table_frequency(np.array(df['annotator']), np.array(df['annotation'].replace('-', '0').fillna(0)).astype('int64'))\n",
    "alpha = krippendorffs_alpha(answer_table)\n",
    "alpha"
   ],
   "metadata": {
    "collapsed": false,
    "ExecuteTime": {
     "start_time": "2023-04-19T10:40:49.156092Z",
     "end_time": "2023-04-19T10:40:49.249705Z"
    }
   }
  },
  {
   "cell_type": "code",
   "execution_count": 244,
   "outputs": [
    {
     "data": {
      "text/plain": "0.5567438677681285"
     },
     "execution_count": 244,
     "metadata": {},
     "output_type": "execute_result"
    }
   ],
   "source": [
    "from agreement import cohens_kappa\n",
    "\n",
    "kappa = cohens_kappa(answer_table, user_table)\n",
    "kappa"
   ],
   "metadata": {
    "collapsed": false,
    "ExecuteTime": {
     "start_time": "2023-04-19T10:40:49.173545Z",
     "end_time": "2023-04-19T10:40:49.250069Z"
    }
   }
  },
  {
   "cell_type": "code",
   "execution_count": 245,
   "outputs": [
    {
     "data": {
      "text/plain": "array([1, 0, 0, ..., 0, 0, 0], dtype=object)"
     },
     "execution_count": 245,
     "metadata": {},
     "output_type": "execute_result"
    }
   ],
   "source": [
    "np.array(df['annotation'])"
   ],
   "metadata": {
    "collapsed": false,
    "ExecuteTime": {
     "start_time": "2023-04-19T10:40:49.185125Z",
     "end_time": "2023-04-19T10:40:49.328083Z"
    }
   }
  },
  {
   "cell_type": "code",
   "execution_count": 246,
   "outputs": [
    {
     "data": {
      "text/plain": "dtype('int64')"
     },
     "execution_count": 246,
     "metadata": {},
     "output_type": "execute_result"
    }
   ],
   "source": [
    "np.array(df['annot_id']).dtype"
   ],
   "metadata": {
    "collapsed": false,
    "ExecuteTime": {
     "start_time": "2023-04-19T10:40:49.193811Z",
     "end_time": "2023-04-19T10:40:49.328318Z"
    }
   }
  },
  {
   "cell_type": "code",
   "execution_count": 247,
   "outputs": [
    {
     "data": {
      "text/plain": "[(0, 954), (1, 678)]"
     },
     "execution_count": 247,
     "metadata": {},
     "output_type": "execute_result"
    }
   ],
   "source": [
    "from collections import Counter\n",
    "\n",
    "Counter(df['annotation'].replace('-', '0').fillna(0).astype('int64')).most_common()"
   ],
   "metadata": {
    "collapsed": false,
    "ExecuteTime": {
     "start_time": "2023-04-19T10:40:49.204036Z",
     "end_time": "2023-04-19T10:40:49.328506Z"
    }
   }
  },
  {
   "cell_type": "code",
   "execution_count": 248,
   "outputs": [],
   "source": [
    "disagreement =  agg_df[agg_df['annotation1'] != agg_df['annotation2']]"
   ],
   "metadata": {
    "collapsed": false,
    "ExecuteTime": {
     "start_time": "2023-04-19T10:40:49.251748Z",
     "end_time": "2023-04-19T10:40:49.328566Z"
    }
   }
  },
  {
   "cell_type": "code",
   "execution_count": 249,
   "outputs": [
    {
     "data": {
      "text/plain": "     annot_id                      project  \\\n9           9             Waikato|weka-3.8   \n59         59            OpenOLAT|OpenOLAT   \n70         70         Camelcade|Perl5-IDEA   \n71         71         Camelcade|Perl5-IDEA   \n73         73         Camelcade|Perl5-IDEA   \n..        ...                          ...   \n779       779          epam|cloud-pipeline   \n791       791  aliyun|aliyun-odps-java-sdk   \n798       798  aliyun|aliyun-odps-java-sdk   \n814       814       apache|brooklyn-server   \n815       815       apache|brooklyn-server   \n\n                                                url                   label  \\\n9               https://github.com/Waikato/weka-3.8                database   \n59             https://github.com/OpenOLAT/OpenOLAT            data binding   \n70          https://github.com/Camelcade/Perl5-IDEA                debugger   \n71          https://github.com/Camelcade/Perl5-IDEA       Parser combinator   \n73          https://github.com/Camelcade/Perl5-IDEA         code generation   \n..                                              ...                     ...   \n779          https://github.com/epam/cloud-pipeline              web server   \n791  https://github.com/aliyun/aliyun-odps-java-sdk             file system   \n798  https://github.com/aliyun/aliyun-odps-java-sdk  File Transfer Protocol   \n814       https://github.com/apache/brooklyn-server  computer configuration   \n815       https://github.com/apache/brooklyn-server           microservices   \n\n    annotator annotation1 annotation2  \n9      [G, H]           1           0  \n59     [G, H]           1           0  \n70     [G, H]           1           0  \n71     [G, H]           1           0  \n73     [G, H]           1           0  \n..        ...         ...         ...  \n779    [F, G]           0           1  \n791    [F, G]           0           1  \n798    [F, G]           0           1  \n814    [F, G]           0           1  \n815    [F, G]           1           0  \n\n[178 rows x 7 columns]",
      "text/html": "<div>\n<style scoped>\n    .dataframe tbody tr th:only-of-type {\n        vertical-align: middle;\n    }\n\n    .dataframe tbody tr th {\n        vertical-align: top;\n    }\n\n    .dataframe thead th {\n        text-align: right;\n    }\n</style>\n<table border=\"1\" class=\"dataframe\">\n  <thead>\n    <tr style=\"text-align: right;\">\n      <th></th>\n      <th>annot_id</th>\n      <th>project</th>\n      <th>url</th>\n      <th>label</th>\n      <th>annotator</th>\n      <th>annotation1</th>\n      <th>annotation2</th>\n    </tr>\n  </thead>\n  <tbody>\n    <tr>\n      <th>9</th>\n      <td>9</td>\n      <td>Waikato|weka-3.8</td>\n      <td>https://github.com/Waikato/weka-3.8</td>\n      <td>database</td>\n      <td>[G, H]</td>\n      <td>1</td>\n      <td>0</td>\n    </tr>\n    <tr>\n      <th>59</th>\n      <td>59</td>\n      <td>OpenOLAT|OpenOLAT</td>\n      <td>https://github.com/OpenOLAT/OpenOLAT</td>\n      <td>data binding</td>\n      <td>[G, H]</td>\n      <td>1</td>\n      <td>0</td>\n    </tr>\n    <tr>\n      <th>70</th>\n      <td>70</td>\n      <td>Camelcade|Perl5-IDEA</td>\n      <td>https://github.com/Camelcade/Perl5-IDEA</td>\n      <td>debugger</td>\n      <td>[G, H]</td>\n      <td>1</td>\n      <td>0</td>\n    </tr>\n    <tr>\n      <th>71</th>\n      <td>71</td>\n      <td>Camelcade|Perl5-IDEA</td>\n      <td>https://github.com/Camelcade/Perl5-IDEA</td>\n      <td>Parser combinator</td>\n      <td>[G, H]</td>\n      <td>1</td>\n      <td>0</td>\n    </tr>\n    <tr>\n      <th>73</th>\n      <td>73</td>\n      <td>Camelcade|Perl5-IDEA</td>\n      <td>https://github.com/Camelcade/Perl5-IDEA</td>\n      <td>code generation</td>\n      <td>[G, H]</td>\n      <td>1</td>\n      <td>0</td>\n    </tr>\n    <tr>\n      <th>...</th>\n      <td>...</td>\n      <td>...</td>\n      <td>...</td>\n      <td>...</td>\n      <td>...</td>\n      <td>...</td>\n      <td>...</td>\n    </tr>\n    <tr>\n      <th>779</th>\n      <td>779</td>\n      <td>epam|cloud-pipeline</td>\n      <td>https://github.com/epam/cloud-pipeline</td>\n      <td>web server</td>\n      <td>[F, G]</td>\n      <td>0</td>\n      <td>1</td>\n    </tr>\n    <tr>\n      <th>791</th>\n      <td>791</td>\n      <td>aliyun|aliyun-odps-java-sdk</td>\n      <td>https://github.com/aliyun/aliyun-odps-java-sdk</td>\n      <td>file system</td>\n      <td>[F, G]</td>\n      <td>0</td>\n      <td>1</td>\n    </tr>\n    <tr>\n      <th>798</th>\n      <td>798</td>\n      <td>aliyun|aliyun-odps-java-sdk</td>\n      <td>https://github.com/aliyun/aliyun-odps-java-sdk</td>\n      <td>File Transfer Protocol</td>\n      <td>[F, G]</td>\n      <td>0</td>\n      <td>1</td>\n    </tr>\n    <tr>\n      <th>814</th>\n      <td>814</td>\n      <td>apache|brooklyn-server</td>\n      <td>https://github.com/apache/brooklyn-server</td>\n      <td>computer configuration</td>\n      <td>[F, G]</td>\n      <td>0</td>\n      <td>1</td>\n    </tr>\n    <tr>\n      <th>815</th>\n      <td>815</td>\n      <td>apache|brooklyn-server</td>\n      <td>https://github.com/apache/brooklyn-server</td>\n      <td>microservices</td>\n      <td>[F, G]</td>\n      <td>1</td>\n      <td>0</td>\n    </tr>\n  </tbody>\n</table>\n<p>178 rows × 7 columns</p>\n</div>"
     },
     "execution_count": 249,
     "metadata": {},
     "output_type": "execute_result"
    }
   ],
   "source": [
    "disagreement"
   ],
   "metadata": {
    "collapsed": false,
    "ExecuteTime": {
     "start_time": "2023-04-19T10:40:49.251906Z",
     "end_time": "2023-04-19T10:40:49.329526Z"
    }
   }
  },
  {
   "cell_type": "code",
   "execution_count": 250,
   "outputs": [],
   "source": [
    "disagreement.to_csv('/home/sasce/PycharmProjects/CodeGraphClassification/data/processed/manual_eval/project_human_disagreements.xlsx', index=False)"
   ],
   "metadata": {
    "collapsed": false,
    "ExecuteTime": {
     "start_time": "2023-04-19T10:40:49.295954Z",
     "end_time": "2023-04-19T10:40:49.329590Z"
    }
   }
  },
  {
   "cell_type": "code",
   "execution_count": 251,
   "outputs": [],
   "source": [
    "df = read_annotations('/home/sasce/PycharmProjects/CodeGraphClassification/data/processed/manual_eval/file_human_eval_best-voting.xlsx')"
   ],
   "metadata": {
    "collapsed": false,
    "ExecuteTime": {
     "start_time": "2023-04-19T10:40:49.296094Z",
     "end_time": "2023-04-19T10:40:49.655553Z"
    }
   }
  },
  {
   "cell_type": "code",
   "execution_count": 252,
   "outputs": [
    {
     "data": {
      "text/plain": "      annot_id                      project  \\\n0          125            OpenOLAT|OpenOLAT   \n1          126            OpenOLAT|OpenOLAT   \n2          127            OpenOLAT|OpenOLAT   \n3          128            OpenOLAT|OpenOLAT   \n4          129            OpenOLAT|OpenOLAT   \n...        ...                          ...   \n1995       245  aliyun|aliyun-odps-java-sdk   \n1996       246  aliyun|aliyun-odps-java-sdk   \n1997       247  aliyun|aliyun-odps-java-sdk   \n1998       248  aliyun|aliyun-odps-java-sdk   \n1999       249  aliyun|aliyun-odps-java-sdk   \n\n                                                 url  \\\n0               https://github.com/OpenOLAT/OpenOLAT   \n1               https://github.com/OpenOLAT/OpenOLAT   \n2               https://github.com/OpenOLAT/OpenOLAT   \n3               https://github.com/OpenOLAT/OpenOLAT   \n4               https://github.com/OpenOLAT/OpenOLAT   \n...                                              ...   \n1995  https://github.com/aliyun/aliyun-odps-java-sdk   \n1996  https://github.com/aliyun/aliyun-odps-java-sdk   \n1997  https://github.com/aliyun/aliyun-odps-java-sdk   \n1998  https://github.com/aliyun/aliyun-odps-java-sdk   \n1999  https://github.com/aliyun/aliyun-odps-java-sdk   \n\n                                                   file         label_1  \\\n0     src/main/java/org/olat/instantMessaging/syncse...       education   \n1     src/main/java/org/olat/course/nodes/fo/FOPeekv...    data binding   \n2     src/main/java/org/olat/course/assessment/Asses...       education   \n3     src/main/java/org/olat/user/ProfileFormControl...  user interface   \n4     src/main/java/org/olat/portal/calendar/Calenda...       education   \n...                                                 ...             ...   \n1995  odps-sdk/odps-sdk-core/src/main/java/com/aliyu...           Other   \n1996  odps-sdk/odps-sdk-core/src/main/java/com/aliyu...        big data   \n1997  odps-sdk/odps-sdk-udf/src/main/java/com/aliyun...        big data   \n1998  odps-sdk/odps-sdk-core/src/main/java/com/aliyu...        big data   \n1999  odps-sdk/odps-sdk-core/src/main/java/com/aliyu...    data binding   \n\n                        label_2                    label_3 annotator  \\\n0                user interface              microservices         A   \n1                     education                    website         A   \n2                 microservices                    website         A   \n3     content management system   graphical user interface         A   \n4                       website            web application         A   \n...                         ...                        ...       ...   \n1995                        NaN                        NaN         H   \n1996               data binding             data structure         H   \n1997              random forest  artificial neural network         H   \n1998                        NaN                        NaN         H   \n1999             data structure  artificial neural network         H   \n\n     annotation  \n0             0  \n1             2  \n2             1  \n3             1  \n4             1  \n...         ...  \n1995          0  \n1996          0  \n1997          0  \n1998          0  \n1999          0  \n\n[2000 rows x 9 columns]",
      "text/html": "<div>\n<style scoped>\n    .dataframe tbody tr th:only-of-type {\n        vertical-align: middle;\n    }\n\n    .dataframe tbody tr th {\n        vertical-align: top;\n    }\n\n    .dataframe thead th {\n        text-align: right;\n    }\n</style>\n<table border=\"1\" class=\"dataframe\">\n  <thead>\n    <tr style=\"text-align: right;\">\n      <th></th>\n      <th>annot_id</th>\n      <th>project</th>\n      <th>url</th>\n      <th>file</th>\n      <th>label_1</th>\n      <th>label_2</th>\n      <th>label_3</th>\n      <th>annotator</th>\n      <th>annotation</th>\n    </tr>\n  </thead>\n  <tbody>\n    <tr>\n      <th>0</th>\n      <td>125</td>\n      <td>OpenOLAT|OpenOLAT</td>\n      <td>https://github.com/OpenOLAT/OpenOLAT</td>\n      <td>src/main/java/org/olat/instantMessaging/syncse...</td>\n      <td>education</td>\n      <td>user interface</td>\n      <td>microservices</td>\n      <td>A</td>\n      <td>0</td>\n    </tr>\n    <tr>\n      <th>1</th>\n      <td>126</td>\n      <td>OpenOLAT|OpenOLAT</td>\n      <td>https://github.com/OpenOLAT/OpenOLAT</td>\n      <td>src/main/java/org/olat/course/nodes/fo/FOPeekv...</td>\n      <td>data binding</td>\n      <td>education</td>\n      <td>website</td>\n      <td>A</td>\n      <td>2</td>\n    </tr>\n    <tr>\n      <th>2</th>\n      <td>127</td>\n      <td>OpenOLAT|OpenOLAT</td>\n      <td>https://github.com/OpenOLAT/OpenOLAT</td>\n      <td>src/main/java/org/olat/course/assessment/Asses...</td>\n      <td>education</td>\n      <td>microservices</td>\n      <td>website</td>\n      <td>A</td>\n      <td>1</td>\n    </tr>\n    <tr>\n      <th>3</th>\n      <td>128</td>\n      <td>OpenOLAT|OpenOLAT</td>\n      <td>https://github.com/OpenOLAT/OpenOLAT</td>\n      <td>src/main/java/org/olat/user/ProfileFormControl...</td>\n      <td>user interface</td>\n      <td>content management system</td>\n      <td>graphical user interface</td>\n      <td>A</td>\n      <td>1</td>\n    </tr>\n    <tr>\n      <th>4</th>\n      <td>129</td>\n      <td>OpenOLAT|OpenOLAT</td>\n      <td>https://github.com/OpenOLAT/OpenOLAT</td>\n      <td>src/main/java/org/olat/portal/calendar/Calenda...</td>\n      <td>education</td>\n      <td>website</td>\n      <td>web application</td>\n      <td>A</td>\n      <td>1</td>\n    </tr>\n    <tr>\n      <th>...</th>\n      <td>...</td>\n      <td>...</td>\n      <td>...</td>\n      <td>...</td>\n      <td>...</td>\n      <td>...</td>\n      <td>...</td>\n      <td>...</td>\n      <td>...</td>\n    </tr>\n    <tr>\n      <th>1995</th>\n      <td>245</td>\n      <td>aliyun|aliyun-odps-java-sdk</td>\n      <td>https://github.com/aliyun/aliyun-odps-java-sdk</td>\n      <td>odps-sdk/odps-sdk-core/src/main/java/com/aliyu...</td>\n      <td>Other</td>\n      <td>NaN</td>\n      <td>NaN</td>\n      <td>H</td>\n      <td>0</td>\n    </tr>\n    <tr>\n      <th>1996</th>\n      <td>246</td>\n      <td>aliyun|aliyun-odps-java-sdk</td>\n      <td>https://github.com/aliyun/aliyun-odps-java-sdk</td>\n      <td>odps-sdk/odps-sdk-core/src/main/java/com/aliyu...</td>\n      <td>big data</td>\n      <td>data binding</td>\n      <td>data structure</td>\n      <td>H</td>\n      <td>0</td>\n    </tr>\n    <tr>\n      <th>1997</th>\n      <td>247</td>\n      <td>aliyun|aliyun-odps-java-sdk</td>\n      <td>https://github.com/aliyun/aliyun-odps-java-sdk</td>\n      <td>odps-sdk/odps-sdk-udf/src/main/java/com/aliyun...</td>\n      <td>big data</td>\n      <td>random forest</td>\n      <td>artificial neural network</td>\n      <td>H</td>\n      <td>0</td>\n    </tr>\n    <tr>\n      <th>1998</th>\n      <td>248</td>\n      <td>aliyun|aliyun-odps-java-sdk</td>\n      <td>https://github.com/aliyun/aliyun-odps-java-sdk</td>\n      <td>odps-sdk/odps-sdk-core/src/main/java/com/aliyu...</td>\n      <td>big data</td>\n      <td>NaN</td>\n      <td>NaN</td>\n      <td>H</td>\n      <td>0</td>\n    </tr>\n    <tr>\n      <th>1999</th>\n      <td>249</td>\n      <td>aliyun|aliyun-odps-java-sdk</td>\n      <td>https://github.com/aliyun/aliyun-odps-java-sdk</td>\n      <td>odps-sdk/odps-sdk-core/src/main/java/com/aliyu...</td>\n      <td>data binding</td>\n      <td>data structure</td>\n      <td>artificial neural network</td>\n      <td>H</td>\n      <td>0</td>\n    </tr>\n  </tbody>\n</table>\n<p>2000 rows × 9 columns</p>\n</div>"
     },
     "execution_count": 252,
     "metadata": {},
     "output_type": "execute_result"
    }
   ],
   "source": [
    "df"
   ],
   "metadata": {
    "collapsed": false,
    "ExecuteTime": {
     "start_time": "2023-04-19T10:40:49.650973Z",
     "end_time": "2023-04-19T10:40:49.655858Z"
    }
   }
  },
  {
   "cell_type": "code",
   "execution_count": 253,
   "outputs": [],
   "source": [
    "agg_df = others_group_annotations(df)"
   ],
   "metadata": {
    "collapsed": false,
    "ExecuteTime": {
     "start_time": "2023-04-19T10:40:49.655051Z",
     "end_time": "2023-04-19T10:40:49.851024Z"
    }
   }
  },
  {
   "cell_type": "code",
   "execution_count": 254,
   "outputs": [
    {
     "data": {
      "text/plain": "     annot_id                project  \\\n0           0  BitwiseInc|Hydrograph   \n1           1  BitwiseInc|Hydrograph   \n2           2  BitwiseInc|Hydrograph   \n3           3  BitwiseInc|Hydrograph   \n4           4  BitwiseInc|Hydrograph   \n..        ...                    ...   \n995       995        zaproxy|zaproxy   \n996       996        zaproxy|zaproxy   \n997       997        zaproxy|zaproxy   \n998       998        zaproxy|zaproxy   \n999       999        zaproxy|zaproxy   \n\n                                          url  \\\n0    https://github.com/BitwiseInc/Hydrograph   \n1    https://github.com/BitwiseInc/Hydrograph   \n2    https://github.com/BitwiseInc/Hydrograph   \n3    https://github.com/BitwiseInc/Hydrograph   \n4    https://github.com/BitwiseInc/Hydrograph   \n..                                        ...   \n995        https://github.com/zaproxy/zaproxy   \n996        https://github.com/zaproxy/zaproxy   \n997        https://github.com/zaproxy/zaproxy   \n998        https://github.com/zaproxy/zaproxy   \n999        https://github.com/zaproxy/zaproxy   \n\n                                                  file  \\\n0    hydrograph.ui/hydrograph.ui.validators/src/mai...   \n1    hydrograph.ui/hydrograph.ui.common/src/main/ja...   \n2    hydrograph.engine/hydrograph.engine.core/src/m...   \n3    hydrograph.engine/hydrograph.engine.core/src/m...   \n4    hydrograph.ui/hydrograph.ui.expression.editor/...   \n..                                                 ...   \n995  zap/src/main/java/org/zaproxy/zap/extension/ps...   \n996  zap/src/main/java/org/zaproxy/zap/view/message...   \n997  zap/src/main/java/org/zaproxy/zap/extension/st...   \n998  zap/src/main/java/org/zaproxy/zap/view/Context...   \n999  zap/src/main/java/org/zaproxy/zap/extension/pa...   \n\n                      label_1             label_2                   label_3  \\\n0    extract, transform, load                None                      None   \n1    extract, transform, load      Web Components                  big data   \n2                       Other                None                      None   \n3              Web Components      language model  graphical user interface   \n4    graphical user interface      user interface                      None   \n..                        ...                 ...                       ...   \n995                  security         text editor            user interface   \n996                  security  web browser engine                      None   \n997                web server            security                      None   \n998  graphical user interface            security               text editor   \n999            user interface            security               text editor   \n\n    annotator annotation1 annotation2  \n0      [G, H]           0           0  \n1      [G, H]           0           0  \n2      [G, H]           0           0  \n3      [G, H]           0           0  \n4      [G, H]           1           0  \n..        ...         ...         ...  \n995    [F, G]           1           1  \n996    [F, G]           0           0  \n997    [F, G]           1           1  \n998    [F, G]           1           0  \n999    [F, G]           1           1  \n\n[1000 rows x 10 columns]",
      "text/html": "<div>\n<style scoped>\n    .dataframe tbody tr th:only-of-type {\n        vertical-align: middle;\n    }\n\n    .dataframe tbody tr th {\n        vertical-align: top;\n    }\n\n    .dataframe thead th {\n        text-align: right;\n    }\n</style>\n<table border=\"1\" class=\"dataframe\">\n  <thead>\n    <tr style=\"text-align: right;\">\n      <th></th>\n      <th>annot_id</th>\n      <th>project</th>\n      <th>url</th>\n      <th>file</th>\n      <th>label_1</th>\n      <th>label_2</th>\n      <th>label_3</th>\n      <th>annotator</th>\n      <th>annotation1</th>\n      <th>annotation2</th>\n    </tr>\n  </thead>\n  <tbody>\n    <tr>\n      <th>0</th>\n      <td>0</td>\n      <td>BitwiseInc|Hydrograph</td>\n      <td>https://github.com/BitwiseInc/Hydrograph</td>\n      <td>hydrograph.ui/hydrograph.ui.validators/src/mai...</td>\n      <td>extract, transform, load</td>\n      <td>None</td>\n      <td>None</td>\n      <td>[G, H]</td>\n      <td>0</td>\n      <td>0</td>\n    </tr>\n    <tr>\n      <th>1</th>\n      <td>1</td>\n      <td>BitwiseInc|Hydrograph</td>\n      <td>https://github.com/BitwiseInc/Hydrograph</td>\n      <td>hydrograph.ui/hydrograph.ui.common/src/main/ja...</td>\n      <td>extract, transform, load</td>\n      <td>Web Components</td>\n      <td>big data</td>\n      <td>[G, H]</td>\n      <td>0</td>\n      <td>0</td>\n    </tr>\n    <tr>\n      <th>2</th>\n      <td>2</td>\n      <td>BitwiseInc|Hydrograph</td>\n      <td>https://github.com/BitwiseInc/Hydrograph</td>\n      <td>hydrograph.engine/hydrograph.engine.core/src/m...</td>\n      <td>Other</td>\n      <td>None</td>\n      <td>None</td>\n      <td>[G, H]</td>\n      <td>0</td>\n      <td>0</td>\n    </tr>\n    <tr>\n      <th>3</th>\n      <td>3</td>\n      <td>BitwiseInc|Hydrograph</td>\n      <td>https://github.com/BitwiseInc/Hydrograph</td>\n      <td>hydrograph.engine/hydrograph.engine.core/src/m...</td>\n      <td>Web Components</td>\n      <td>language model</td>\n      <td>graphical user interface</td>\n      <td>[G, H]</td>\n      <td>0</td>\n      <td>0</td>\n    </tr>\n    <tr>\n      <th>4</th>\n      <td>4</td>\n      <td>BitwiseInc|Hydrograph</td>\n      <td>https://github.com/BitwiseInc/Hydrograph</td>\n      <td>hydrograph.ui/hydrograph.ui.expression.editor/...</td>\n      <td>graphical user interface</td>\n      <td>user interface</td>\n      <td>None</td>\n      <td>[G, H]</td>\n      <td>1</td>\n      <td>0</td>\n    </tr>\n    <tr>\n      <th>...</th>\n      <td>...</td>\n      <td>...</td>\n      <td>...</td>\n      <td>...</td>\n      <td>...</td>\n      <td>...</td>\n      <td>...</td>\n      <td>...</td>\n      <td>...</td>\n      <td>...</td>\n    </tr>\n    <tr>\n      <th>995</th>\n      <td>995</td>\n      <td>zaproxy|zaproxy</td>\n      <td>https://github.com/zaproxy/zaproxy</td>\n      <td>zap/src/main/java/org/zaproxy/zap/extension/ps...</td>\n      <td>security</td>\n      <td>text editor</td>\n      <td>user interface</td>\n      <td>[F, G]</td>\n      <td>1</td>\n      <td>1</td>\n    </tr>\n    <tr>\n      <th>996</th>\n      <td>996</td>\n      <td>zaproxy|zaproxy</td>\n      <td>https://github.com/zaproxy/zaproxy</td>\n      <td>zap/src/main/java/org/zaproxy/zap/view/message...</td>\n      <td>security</td>\n      <td>web browser engine</td>\n      <td>None</td>\n      <td>[F, G]</td>\n      <td>0</td>\n      <td>0</td>\n    </tr>\n    <tr>\n      <th>997</th>\n      <td>997</td>\n      <td>zaproxy|zaproxy</td>\n      <td>https://github.com/zaproxy/zaproxy</td>\n      <td>zap/src/main/java/org/zaproxy/zap/extension/st...</td>\n      <td>web server</td>\n      <td>security</td>\n      <td>None</td>\n      <td>[F, G]</td>\n      <td>1</td>\n      <td>1</td>\n    </tr>\n    <tr>\n      <th>998</th>\n      <td>998</td>\n      <td>zaproxy|zaproxy</td>\n      <td>https://github.com/zaproxy/zaproxy</td>\n      <td>zap/src/main/java/org/zaproxy/zap/view/Context...</td>\n      <td>graphical user interface</td>\n      <td>security</td>\n      <td>text editor</td>\n      <td>[F, G]</td>\n      <td>1</td>\n      <td>0</td>\n    </tr>\n    <tr>\n      <th>999</th>\n      <td>999</td>\n      <td>zaproxy|zaproxy</td>\n      <td>https://github.com/zaproxy/zaproxy</td>\n      <td>zap/src/main/java/org/zaproxy/zap/extension/pa...</td>\n      <td>user interface</td>\n      <td>security</td>\n      <td>text editor</td>\n      <td>[F, G]</td>\n      <td>1</td>\n      <td>1</td>\n    </tr>\n  </tbody>\n</table>\n<p>1000 rows × 10 columns</p>\n</div>"
     },
     "execution_count": 254,
     "metadata": {},
     "output_type": "execute_result"
    }
   ],
   "source": [
    "agg_df"
   ],
   "metadata": {
    "collapsed": false,
    "ExecuteTime": {
     "start_time": "2023-04-19T10:40:49.746008Z",
     "end_time": "2023-04-19T10:40:49.851551Z"
    }
   }
  },
  {
   "cell_type": "code",
   "execution_count": 255,
   "outputs": [
    {
     "data": {
      "text/plain": "[(0, 1021), (1, 549), (2, 277), (3, 152), (9, 1)]"
     },
     "execution_count": 255,
     "metadata": {},
     "output_type": "execute_result"
    }
   ],
   "source": [
    "Counter(df['annotation'].replace('-', '0').fillna(0).astype('int64')).most_common()"
   ],
   "metadata": {
    "collapsed": false,
    "ExecuteTime": {
     "start_time": "2023-04-19T10:40:49.750165Z",
     "end_time": "2023-04-19T10:40:49.851714Z"
    }
   }
  },
  {
   "cell_type": "code",
   "execution_count": 256,
   "outputs": [],
   "source": [
    "disagreement =  agg_df[agg_df['annotation1'] != agg_df['annotation2']]"
   ],
   "metadata": {
    "collapsed": false,
    "ExecuteTime": {
     "start_time": "2023-04-19T10:40:49.763308Z",
     "end_time": "2023-04-19T10:40:49.852589Z"
    }
   }
  },
  {
   "cell_type": "code",
   "execution_count": 257,
   "outputs": [
    {
     "data": {
      "text/plain": "     annot_id                     project  \\\n4           4       BitwiseInc|Hydrograph   \n7           7       BitwiseInc|Hydrograph   \n8           8       BitwiseInc|Hydrograph   \n9           9       BitwiseInc|Hydrograph   \n10         10        Camelcade|Perl5-IDEA   \n..        ...                         ...   \n878       878  silentbalanceyh|vertx-zero   \n911       911                 swimos|swim   \n914       914                 swimos|swim   \n916       916                 swimos|swim   \n998       998             zaproxy|zaproxy   \n\n                                               url  \\\n4         https://github.com/BitwiseInc/Hydrograph   \n7         https://github.com/BitwiseInc/Hydrograph   \n8         https://github.com/BitwiseInc/Hydrograph   \n9         https://github.com/BitwiseInc/Hydrograph   \n10         https://github.com/Camelcade/Perl5-IDEA   \n..                                             ...   \n878  https://github.com/silentbalanceyh/vertx-zero   \n911                 https://github.com/swimos/swim   \n914                 https://github.com/swimos/swim   \n916                 https://github.com/swimos/swim   \n998             https://github.com/zaproxy/zaproxy   \n\n                                                  file  \\\n4    hydrograph.ui/hydrograph.ui.expression.editor/...   \n7    hydrograph.ui/hydrograph.ui.propertywindow/src...   \n8    hydrograph.ui/hydrograph.ui.engine/src/main/ja...   \n9    hydrograph.engine/hydrograph.engine.core/src/m...   \n10   tt2/src/com/perl5/lang/tt2/TemplateToolkitLang...   \n..                                                 ...   \n878  vertx-istio/zero-eternal/aeon-inlet/src/main/j...   \n911  swim-java/swim-runtime/swim-polyglot/swim.dyna...   \n914  swim-java/swim-runtime/swim-core/swim.warp/src...   \n916  swim-java/swim-runtime/swim-core/swim.uri/src/...   \n998  zap/src/main/java/org/zaproxy/zap/view/Context...   \n\n                      label_1                             label_2  \\\n4    graphical user interface                      user interface   \n7    graphical user interface            extract, transform, load   \n8                    big data                                None   \n9    extract, transform, load                            big data   \n10             language model  integrated development environment   \n..                        ...                                 ...   \n878                web server                                None   \n911      serverless computing                           WebSocket   \n914      serverless computing                           WebSocket   \n916      serverless computing                           WebSocket   \n998  graphical user interface                            security   \n\n                 label_3 annotator annotation1 annotation2  \n4                   None    [G, H]           1           0  \n7         Web Components    [G, H]           1           2  \n8                   None    [G, H]           1           0  \n9           data binding    [G, H]           1           3  \n10              debugger    [G, H]           0           2  \n..                   ...       ...         ...         ...  \n878                 None    [F, G]           1           0  \n911  real-time computing    [F, G]           0           1  \n914  real-time computing    [F, G]           0           2  \n916        microservices    [F, G]           0           1  \n998          text editor    [F, G]           1           0  \n\n[327 rows x 10 columns]",
      "text/html": "<div>\n<style scoped>\n    .dataframe tbody tr th:only-of-type {\n        vertical-align: middle;\n    }\n\n    .dataframe tbody tr th {\n        vertical-align: top;\n    }\n\n    .dataframe thead th {\n        text-align: right;\n    }\n</style>\n<table border=\"1\" class=\"dataframe\">\n  <thead>\n    <tr style=\"text-align: right;\">\n      <th></th>\n      <th>annot_id</th>\n      <th>project</th>\n      <th>url</th>\n      <th>file</th>\n      <th>label_1</th>\n      <th>label_2</th>\n      <th>label_3</th>\n      <th>annotator</th>\n      <th>annotation1</th>\n      <th>annotation2</th>\n    </tr>\n  </thead>\n  <tbody>\n    <tr>\n      <th>4</th>\n      <td>4</td>\n      <td>BitwiseInc|Hydrograph</td>\n      <td>https://github.com/BitwiseInc/Hydrograph</td>\n      <td>hydrograph.ui/hydrograph.ui.expression.editor/...</td>\n      <td>graphical user interface</td>\n      <td>user interface</td>\n      <td>None</td>\n      <td>[G, H]</td>\n      <td>1</td>\n      <td>0</td>\n    </tr>\n    <tr>\n      <th>7</th>\n      <td>7</td>\n      <td>BitwiseInc|Hydrograph</td>\n      <td>https://github.com/BitwiseInc/Hydrograph</td>\n      <td>hydrograph.ui/hydrograph.ui.propertywindow/src...</td>\n      <td>graphical user interface</td>\n      <td>extract, transform, load</td>\n      <td>Web Components</td>\n      <td>[G, H]</td>\n      <td>1</td>\n      <td>2</td>\n    </tr>\n    <tr>\n      <th>8</th>\n      <td>8</td>\n      <td>BitwiseInc|Hydrograph</td>\n      <td>https://github.com/BitwiseInc/Hydrograph</td>\n      <td>hydrograph.ui/hydrograph.ui.engine/src/main/ja...</td>\n      <td>big data</td>\n      <td>None</td>\n      <td>None</td>\n      <td>[G, H]</td>\n      <td>1</td>\n      <td>0</td>\n    </tr>\n    <tr>\n      <th>9</th>\n      <td>9</td>\n      <td>BitwiseInc|Hydrograph</td>\n      <td>https://github.com/BitwiseInc/Hydrograph</td>\n      <td>hydrograph.engine/hydrograph.engine.core/src/m...</td>\n      <td>extract, transform, load</td>\n      <td>big data</td>\n      <td>data binding</td>\n      <td>[G, H]</td>\n      <td>1</td>\n      <td>3</td>\n    </tr>\n    <tr>\n      <th>10</th>\n      <td>10</td>\n      <td>Camelcade|Perl5-IDEA</td>\n      <td>https://github.com/Camelcade/Perl5-IDEA</td>\n      <td>tt2/src/com/perl5/lang/tt2/TemplateToolkitLang...</td>\n      <td>language model</td>\n      <td>integrated development environment</td>\n      <td>debugger</td>\n      <td>[G, H]</td>\n      <td>0</td>\n      <td>2</td>\n    </tr>\n    <tr>\n      <th>...</th>\n      <td>...</td>\n      <td>...</td>\n      <td>...</td>\n      <td>...</td>\n      <td>...</td>\n      <td>...</td>\n      <td>...</td>\n      <td>...</td>\n      <td>...</td>\n      <td>...</td>\n    </tr>\n    <tr>\n      <th>878</th>\n      <td>878</td>\n      <td>silentbalanceyh|vertx-zero</td>\n      <td>https://github.com/silentbalanceyh/vertx-zero</td>\n      <td>vertx-istio/zero-eternal/aeon-inlet/src/main/j...</td>\n      <td>web server</td>\n      <td>None</td>\n      <td>None</td>\n      <td>[F, G]</td>\n      <td>1</td>\n      <td>0</td>\n    </tr>\n    <tr>\n      <th>911</th>\n      <td>911</td>\n      <td>swimos|swim</td>\n      <td>https://github.com/swimos/swim</td>\n      <td>swim-java/swim-runtime/swim-polyglot/swim.dyna...</td>\n      <td>serverless computing</td>\n      <td>WebSocket</td>\n      <td>real-time computing</td>\n      <td>[F, G]</td>\n      <td>0</td>\n      <td>1</td>\n    </tr>\n    <tr>\n      <th>914</th>\n      <td>914</td>\n      <td>swimos|swim</td>\n      <td>https://github.com/swimos/swim</td>\n      <td>swim-java/swim-runtime/swim-core/swim.warp/src...</td>\n      <td>serverless computing</td>\n      <td>WebSocket</td>\n      <td>real-time computing</td>\n      <td>[F, G]</td>\n      <td>0</td>\n      <td>2</td>\n    </tr>\n    <tr>\n      <th>916</th>\n      <td>916</td>\n      <td>swimos|swim</td>\n      <td>https://github.com/swimos/swim</td>\n      <td>swim-java/swim-runtime/swim-core/swim.uri/src/...</td>\n      <td>serverless computing</td>\n      <td>WebSocket</td>\n      <td>microservices</td>\n      <td>[F, G]</td>\n      <td>0</td>\n      <td>1</td>\n    </tr>\n    <tr>\n      <th>998</th>\n      <td>998</td>\n      <td>zaproxy|zaproxy</td>\n      <td>https://github.com/zaproxy/zaproxy</td>\n      <td>zap/src/main/java/org/zaproxy/zap/view/Context...</td>\n      <td>graphical user interface</td>\n      <td>security</td>\n      <td>text editor</td>\n      <td>[F, G]</td>\n      <td>1</td>\n      <td>0</td>\n    </tr>\n  </tbody>\n</table>\n<p>327 rows × 10 columns</p>\n</div>"
     },
     "execution_count": 257,
     "metadata": {},
     "output_type": "execute_result"
    }
   ],
   "source": [
    "disagreement"
   ],
   "metadata": {
    "collapsed": false,
    "ExecuteTime": {
     "start_time": "2023-04-19T10:40:49.808037Z",
     "end_time": "2023-04-19T10:40:49.852736Z"
    }
   }
  },
  {
   "cell_type": "code",
   "execution_count": 258,
   "outputs": [],
   "source": [
    "disagreement.to_csv('/home/sasce/PycharmProjects/CodeGraphClassification/data/processed/manual_eval/file_human_disagreements.xlsx', index=False)"
   ],
   "metadata": {
    "collapsed": false,
    "ExecuteTime": {
     "start_time": "2023-04-19T10:40:49.808418Z",
     "end_time": "2023-04-19T10:40:49.852791Z"
    }
   }
  },
  {
   "cell_type": "code",
   "execution_count": 259,
   "outputs": [],
   "source": [
    "binarized_df = df.copy(deep=True)\n",
    "binarized_df.loc[df[\"annotation\"].replace('-', '0').fillna(0).astype('int64') > 0, \"annotation\"] = 1"
   ],
   "metadata": {
    "collapsed": false,
    "ExecuteTime": {
     "start_time": "2023-04-19T10:40:49.808745Z",
     "end_time": "2023-04-19T10:40:49.852841Z"
    }
   }
  },
  {
   "cell_type": "code",
   "execution_count": 260,
   "outputs": [
    {
     "data": {
      "text/plain": "      annot_id                      project  \\\n0          125            OpenOLAT|OpenOLAT   \n1          126            OpenOLAT|OpenOLAT   \n2          127            OpenOLAT|OpenOLAT   \n3          128            OpenOLAT|OpenOLAT   \n4          129            OpenOLAT|OpenOLAT   \n...        ...                          ...   \n1995       245  aliyun|aliyun-odps-java-sdk   \n1996       246  aliyun|aliyun-odps-java-sdk   \n1997       247  aliyun|aliyun-odps-java-sdk   \n1998       248  aliyun|aliyun-odps-java-sdk   \n1999       249  aliyun|aliyun-odps-java-sdk   \n\n                                                 url  \\\n0               https://github.com/OpenOLAT/OpenOLAT   \n1               https://github.com/OpenOLAT/OpenOLAT   \n2               https://github.com/OpenOLAT/OpenOLAT   \n3               https://github.com/OpenOLAT/OpenOLAT   \n4               https://github.com/OpenOLAT/OpenOLAT   \n...                                              ...   \n1995  https://github.com/aliyun/aliyun-odps-java-sdk   \n1996  https://github.com/aliyun/aliyun-odps-java-sdk   \n1997  https://github.com/aliyun/aliyun-odps-java-sdk   \n1998  https://github.com/aliyun/aliyun-odps-java-sdk   \n1999  https://github.com/aliyun/aliyun-odps-java-sdk   \n\n                                                   file         label_1  \\\n0     src/main/java/org/olat/instantMessaging/syncse...       education   \n1     src/main/java/org/olat/course/nodes/fo/FOPeekv...    data binding   \n2     src/main/java/org/olat/course/assessment/Asses...       education   \n3     src/main/java/org/olat/user/ProfileFormControl...  user interface   \n4     src/main/java/org/olat/portal/calendar/Calenda...       education   \n...                                                 ...             ...   \n1995  odps-sdk/odps-sdk-core/src/main/java/com/aliyu...           Other   \n1996  odps-sdk/odps-sdk-core/src/main/java/com/aliyu...        big data   \n1997  odps-sdk/odps-sdk-udf/src/main/java/com/aliyun...        big data   \n1998  odps-sdk/odps-sdk-core/src/main/java/com/aliyu...        big data   \n1999  odps-sdk/odps-sdk-core/src/main/java/com/aliyu...    data binding   \n\n                        label_2                    label_3 annotator  \\\n0                user interface              microservices         A   \n1                     education                    website         A   \n2                 microservices                    website         A   \n3     content management system   graphical user interface         A   \n4                       website            web application         A   \n...                         ...                        ...       ...   \n1995                        NaN                        NaN         H   \n1996               data binding             data structure         H   \n1997              random forest  artificial neural network         H   \n1998                        NaN                        NaN         H   \n1999             data structure  artificial neural network         H   \n\n     annotation  \n0             0  \n1             1  \n2             1  \n3             1  \n4             1  \n...         ...  \n1995          0  \n1996          0  \n1997          0  \n1998          0  \n1999          0  \n\n[2000 rows x 9 columns]",
      "text/html": "<div>\n<style scoped>\n    .dataframe tbody tr th:only-of-type {\n        vertical-align: middle;\n    }\n\n    .dataframe tbody tr th {\n        vertical-align: top;\n    }\n\n    .dataframe thead th {\n        text-align: right;\n    }\n</style>\n<table border=\"1\" class=\"dataframe\">\n  <thead>\n    <tr style=\"text-align: right;\">\n      <th></th>\n      <th>annot_id</th>\n      <th>project</th>\n      <th>url</th>\n      <th>file</th>\n      <th>label_1</th>\n      <th>label_2</th>\n      <th>label_3</th>\n      <th>annotator</th>\n      <th>annotation</th>\n    </tr>\n  </thead>\n  <tbody>\n    <tr>\n      <th>0</th>\n      <td>125</td>\n      <td>OpenOLAT|OpenOLAT</td>\n      <td>https://github.com/OpenOLAT/OpenOLAT</td>\n      <td>src/main/java/org/olat/instantMessaging/syncse...</td>\n      <td>education</td>\n      <td>user interface</td>\n      <td>microservices</td>\n      <td>A</td>\n      <td>0</td>\n    </tr>\n    <tr>\n      <th>1</th>\n      <td>126</td>\n      <td>OpenOLAT|OpenOLAT</td>\n      <td>https://github.com/OpenOLAT/OpenOLAT</td>\n      <td>src/main/java/org/olat/course/nodes/fo/FOPeekv...</td>\n      <td>data binding</td>\n      <td>education</td>\n      <td>website</td>\n      <td>A</td>\n      <td>1</td>\n    </tr>\n    <tr>\n      <th>2</th>\n      <td>127</td>\n      <td>OpenOLAT|OpenOLAT</td>\n      <td>https://github.com/OpenOLAT/OpenOLAT</td>\n      <td>src/main/java/org/olat/course/assessment/Asses...</td>\n      <td>education</td>\n      <td>microservices</td>\n      <td>website</td>\n      <td>A</td>\n      <td>1</td>\n    </tr>\n    <tr>\n      <th>3</th>\n      <td>128</td>\n      <td>OpenOLAT|OpenOLAT</td>\n      <td>https://github.com/OpenOLAT/OpenOLAT</td>\n      <td>src/main/java/org/olat/user/ProfileFormControl...</td>\n      <td>user interface</td>\n      <td>content management system</td>\n      <td>graphical user interface</td>\n      <td>A</td>\n      <td>1</td>\n    </tr>\n    <tr>\n      <th>4</th>\n      <td>129</td>\n      <td>OpenOLAT|OpenOLAT</td>\n      <td>https://github.com/OpenOLAT/OpenOLAT</td>\n      <td>src/main/java/org/olat/portal/calendar/Calenda...</td>\n      <td>education</td>\n      <td>website</td>\n      <td>web application</td>\n      <td>A</td>\n      <td>1</td>\n    </tr>\n    <tr>\n      <th>...</th>\n      <td>...</td>\n      <td>...</td>\n      <td>...</td>\n      <td>...</td>\n      <td>...</td>\n      <td>...</td>\n      <td>...</td>\n      <td>...</td>\n      <td>...</td>\n    </tr>\n    <tr>\n      <th>1995</th>\n      <td>245</td>\n      <td>aliyun|aliyun-odps-java-sdk</td>\n      <td>https://github.com/aliyun/aliyun-odps-java-sdk</td>\n      <td>odps-sdk/odps-sdk-core/src/main/java/com/aliyu...</td>\n      <td>Other</td>\n      <td>NaN</td>\n      <td>NaN</td>\n      <td>H</td>\n      <td>0</td>\n    </tr>\n    <tr>\n      <th>1996</th>\n      <td>246</td>\n      <td>aliyun|aliyun-odps-java-sdk</td>\n      <td>https://github.com/aliyun/aliyun-odps-java-sdk</td>\n      <td>odps-sdk/odps-sdk-core/src/main/java/com/aliyu...</td>\n      <td>big data</td>\n      <td>data binding</td>\n      <td>data structure</td>\n      <td>H</td>\n      <td>0</td>\n    </tr>\n    <tr>\n      <th>1997</th>\n      <td>247</td>\n      <td>aliyun|aliyun-odps-java-sdk</td>\n      <td>https://github.com/aliyun/aliyun-odps-java-sdk</td>\n      <td>odps-sdk/odps-sdk-udf/src/main/java/com/aliyun...</td>\n      <td>big data</td>\n      <td>random forest</td>\n      <td>artificial neural network</td>\n      <td>H</td>\n      <td>0</td>\n    </tr>\n    <tr>\n      <th>1998</th>\n      <td>248</td>\n      <td>aliyun|aliyun-odps-java-sdk</td>\n      <td>https://github.com/aliyun/aliyun-odps-java-sdk</td>\n      <td>odps-sdk/odps-sdk-core/src/main/java/com/aliyu...</td>\n      <td>big data</td>\n      <td>NaN</td>\n      <td>NaN</td>\n      <td>H</td>\n      <td>0</td>\n    </tr>\n    <tr>\n      <th>1999</th>\n      <td>249</td>\n      <td>aliyun|aliyun-odps-java-sdk</td>\n      <td>https://github.com/aliyun/aliyun-odps-java-sdk</td>\n      <td>odps-sdk/odps-sdk-core/src/main/java/com/aliyu...</td>\n      <td>data binding</td>\n      <td>data structure</td>\n      <td>artificial neural network</td>\n      <td>H</td>\n      <td>0</td>\n    </tr>\n  </tbody>\n</table>\n<p>2000 rows × 9 columns</p>\n</div>"
     },
     "execution_count": 260,
     "metadata": {},
     "output_type": "execute_result"
    }
   ],
   "source": [
    "binarized_df"
   ],
   "metadata": {
    "collapsed": false,
    "ExecuteTime": {
     "start_time": "2023-04-19T10:40:49.808920Z",
     "end_time": "2023-04-19T10:40:49.853679Z"
    }
   }
  },
  {
   "cell_type": "code",
   "execution_count": 261,
   "outputs": [
    {
     "data": {
      "text/plain": "[(0, 1021), (1, 979)]"
     },
     "execution_count": 261,
     "metadata": {},
     "output_type": "execute_result"
    }
   ],
   "source": [
    "Counter(binarized_df['annotation'].replace('-', '0').fillna(0).astype('int64')).most_common()"
   ],
   "metadata": {
    "collapsed": false,
    "ExecuteTime": {
     "start_time": "2023-04-19T10:40:49.851908Z",
     "end_time": "2023-04-19T10:40:49.853959Z"
    }
   }
  },
  {
   "cell_type": "code",
   "execution_count": 262,
   "outputs": [],
   "source": [
    "agg_binarized_df = others_group_annotations(binarized_df)"
   ],
   "metadata": {
    "collapsed": false,
    "ExecuteTime": {
     "start_time": "2023-04-19T10:40:49.852130Z",
     "end_time": "2023-04-19T10:40:50.154922Z"
    }
   }
  },
  {
   "cell_type": "code",
   "execution_count": 263,
   "outputs": [],
   "source": [
    "disagreement_bin =  agg_binarized_df[agg_binarized_df['annotation1'] != agg_binarized_df['annotation2']]"
   ],
   "metadata": {
    "collapsed": false,
    "ExecuteTime": {
     "start_time": "2023-04-19T10:40:49.979286Z",
     "end_time": "2023-04-19T10:40:50.267799Z"
    }
   }
  },
  {
   "cell_type": "code",
   "execution_count": 264,
   "outputs": [
    {
     "data": {
      "text/plain": "     annot_id                     project  \\\n4           4       BitwiseInc|Hydrograph   \n8           8       BitwiseInc|Hydrograph   \n10         10        Camelcade|Perl5-IDEA   \n11         11        Camelcade|Perl5-IDEA   \n13         13        Camelcade|Perl5-IDEA   \n..        ...                         ...   \n878       878  silentbalanceyh|vertx-zero   \n911       911                 swimos|swim   \n914       914                 swimos|swim   \n916       916                 swimos|swim   \n998       998             zaproxy|zaproxy   \n\n                                               url  \\\n4         https://github.com/BitwiseInc/Hydrograph   \n8         https://github.com/BitwiseInc/Hydrograph   \n10         https://github.com/Camelcade/Perl5-IDEA   \n11         https://github.com/Camelcade/Perl5-IDEA   \n13         https://github.com/Camelcade/Perl5-IDEA   \n..                                             ...   \n878  https://github.com/silentbalanceyh/vertx-zero   \n911                 https://github.com/swimos/swim   \n914                 https://github.com/swimos/swim   \n916                 https://github.com/swimos/swim   \n998             https://github.com/zaproxy/zaproxy   \n\n                                                  file  \\\n4    hydrograph.ui/hydrograph.ui.expression.editor/...   \n8    hydrograph.ui/hydrograph.ui.engine/src/main/ja...   \n10   tt2/src/com/perl5/lang/tt2/TemplateToolkitLang...   \n11   mojo/core/src/com/perl5/lang/mojolicious/psi/i...   \n13   plugin/core/src/com/perl5/lang/perl/extensions...   \n..                                                 ...   \n878  vertx-istio/zero-eternal/aeon-inlet/src/main/j...   \n911  swim-java/swim-runtime/swim-polyglot/swim.dyna...   \n914  swim-java/swim-runtime/swim-core/swim.warp/src...   \n916  swim-java/swim-runtime/swim-core/swim.uri/src/...   \n998  zap/src/main/java/org/zaproxy/zap/view/Context...   \n\n                                label_1                             label_2  \\\n4              graphical user interface                      user interface   \n8                              big data                                None   \n10                       language model  integrated development environment   \n11   integrated development environment                         text editor   \n13   integrated development environment                dependency injection   \n..                                  ...                                 ...   \n878                          web server                                None   \n911                serverless computing                           WebSocket   \n914                serverless computing                           WebSocket   \n916                serverless computing                           WebSocket   \n998            graphical user interface                            security   \n\n                 label_3 annotator annotation1 annotation2  \n4                   None    [G, H]           1           0  \n8                   None    [G, H]           1           0  \n10              debugger    [G, H]           0           1  \n11                  None    [G, H]           0           1  \n13        language model    [G, H]           1           0  \n..                   ...       ...         ...         ...  \n878                 None    [F, G]           1           0  \n911  real-time computing    [F, G]           0           1  \n914  real-time computing    [F, G]           0           1  \n916        microservices    [F, G]           0           1  \n998          text editor    [F, G]           1           0  \n\n[238 rows x 10 columns]",
      "text/html": "<div>\n<style scoped>\n    .dataframe tbody tr th:only-of-type {\n        vertical-align: middle;\n    }\n\n    .dataframe tbody tr th {\n        vertical-align: top;\n    }\n\n    .dataframe thead th {\n        text-align: right;\n    }\n</style>\n<table border=\"1\" class=\"dataframe\">\n  <thead>\n    <tr style=\"text-align: right;\">\n      <th></th>\n      <th>annot_id</th>\n      <th>project</th>\n      <th>url</th>\n      <th>file</th>\n      <th>label_1</th>\n      <th>label_2</th>\n      <th>label_3</th>\n      <th>annotator</th>\n      <th>annotation1</th>\n      <th>annotation2</th>\n    </tr>\n  </thead>\n  <tbody>\n    <tr>\n      <th>4</th>\n      <td>4</td>\n      <td>BitwiseInc|Hydrograph</td>\n      <td>https://github.com/BitwiseInc/Hydrograph</td>\n      <td>hydrograph.ui/hydrograph.ui.expression.editor/...</td>\n      <td>graphical user interface</td>\n      <td>user interface</td>\n      <td>None</td>\n      <td>[G, H]</td>\n      <td>1</td>\n      <td>0</td>\n    </tr>\n    <tr>\n      <th>8</th>\n      <td>8</td>\n      <td>BitwiseInc|Hydrograph</td>\n      <td>https://github.com/BitwiseInc/Hydrograph</td>\n      <td>hydrograph.ui/hydrograph.ui.engine/src/main/ja...</td>\n      <td>big data</td>\n      <td>None</td>\n      <td>None</td>\n      <td>[G, H]</td>\n      <td>1</td>\n      <td>0</td>\n    </tr>\n    <tr>\n      <th>10</th>\n      <td>10</td>\n      <td>Camelcade|Perl5-IDEA</td>\n      <td>https://github.com/Camelcade/Perl5-IDEA</td>\n      <td>tt2/src/com/perl5/lang/tt2/TemplateToolkitLang...</td>\n      <td>language model</td>\n      <td>integrated development environment</td>\n      <td>debugger</td>\n      <td>[G, H]</td>\n      <td>0</td>\n      <td>1</td>\n    </tr>\n    <tr>\n      <th>11</th>\n      <td>11</td>\n      <td>Camelcade|Perl5-IDEA</td>\n      <td>https://github.com/Camelcade/Perl5-IDEA</td>\n      <td>mojo/core/src/com/perl5/lang/mojolicious/psi/i...</td>\n      <td>integrated development environment</td>\n      <td>text editor</td>\n      <td>None</td>\n      <td>[G, H]</td>\n      <td>0</td>\n      <td>1</td>\n    </tr>\n    <tr>\n      <th>13</th>\n      <td>13</td>\n      <td>Camelcade|Perl5-IDEA</td>\n      <td>https://github.com/Camelcade/Perl5-IDEA</td>\n      <td>plugin/core/src/com/perl5/lang/perl/extensions...</td>\n      <td>integrated development environment</td>\n      <td>dependency injection</td>\n      <td>language model</td>\n      <td>[G, H]</td>\n      <td>1</td>\n      <td>0</td>\n    </tr>\n    <tr>\n      <th>...</th>\n      <td>...</td>\n      <td>...</td>\n      <td>...</td>\n      <td>...</td>\n      <td>...</td>\n      <td>...</td>\n      <td>...</td>\n      <td>...</td>\n      <td>...</td>\n      <td>...</td>\n    </tr>\n    <tr>\n      <th>878</th>\n      <td>878</td>\n      <td>silentbalanceyh|vertx-zero</td>\n      <td>https://github.com/silentbalanceyh/vertx-zero</td>\n      <td>vertx-istio/zero-eternal/aeon-inlet/src/main/j...</td>\n      <td>web server</td>\n      <td>None</td>\n      <td>None</td>\n      <td>[F, G]</td>\n      <td>1</td>\n      <td>0</td>\n    </tr>\n    <tr>\n      <th>911</th>\n      <td>911</td>\n      <td>swimos|swim</td>\n      <td>https://github.com/swimos/swim</td>\n      <td>swim-java/swim-runtime/swim-polyglot/swim.dyna...</td>\n      <td>serverless computing</td>\n      <td>WebSocket</td>\n      <td>real-time computing</td>\n      <td>[F, G]</td>\n      <td>0</td>\n      <td>1</td>\n    </tr>\n    <tr>\n      <th>914</th>\n      <td>914</td>\n      <td>swimos|swim</td>\n      <td>https://github.com/swimos/swim</td>\n      <td>swim-java/swim-runtime/swim-core/swim.warp/src...</td>\n      <td>serverless computing</td>\n      <td>WebSocket</td>\n      <td>real-time computing</td>\n      <td>[F, G]</td>\n      <td>0</td>\n      <td>1</td>\n    </tr>\n    <tr>\n      <th>916</th>\n      <td>916</td>\n      <td>swimos|swim</td>\n      <td>https://github.com/swimos/swim</td>\n      <td>swim-java/swim-runtime/swim-core/swim.uri/src/...</td>\n      <td>serverless computing</td>\n      <td>WebSocket</td>\n      <td>microservices</td>\n      <td>[F, G]</td>\n      <td>0</td>\n      <td>1</td>\n    </tr>\n    <tr>\n      <th>998</th>\n      <td>998</td>\n      <td>zaproxy|zaproxy</td>\n      <td>https://github.com/zaproxy/zaproxy</td>\n      <td>zap/src/main/java/org/zaproxy/zap/view/Context...</td>\n      <td>graphical user interface</td>\n      <td>security</td>\n      <td>text editor</td>\n      <td>[F, G]</td>\n      <td>1</td>\n      <td>0</td>\n    </tr>\n  </tbody>\n</table>\n<p>238 rows × 10 columns</p>\n</div>"
     },
     "execution_count": 264,
     "metadata": {},
     "output_type": "execute_result"
    }
   ],
   "source": [
    "disagreement_bin"
   ],
   "metadata": {
    "collapsed": false,
    "ExecuteTime": {
     "start_time": "2023-04-19T10:40:50.020174Z",
     "end_time": "2023-04-19T10:40:50.302018Z"
    }
   }
  },
  {
   "cell_type": "code",
   "execution_count": 265,
   "outputs": [],
   "source": [
    "disagreement_bin.to_csv('/home/sasce/PycharmProjects/CodeGraphClassification/data/processed/manual_eval/file_human_disagreements_binary.xlsx', index=False)"
   ],
   "metadata": {
    "collapsed": false,
    "ExecuteTime": {
     "start_time": "2023-04-19T10:40:50.020659Z",
     "end_time": "2023-04-19T10:40:50.302295Z"
    }
   }
  },
  {
   "cell_type": "code",
   "execution_count": 266,
   "outputs": [
    {
     "data": {
      "text/plain": "0.5057872163309504"
     },
     "execution_count": 266,
     "metadata": {},
     "output_type": "execute_result"
    }
   ],
   "source": [
    "answer_table = pivot_table_frequency(np.array(df['annot_id']), np.array(df['annotation'].replace('-', '0').fillna(0)).astype('int64'))\n",
    "user_table = pivot_table_frequency(np.array(df['annotator']), np.array(df['annotation'].replace('-', '0').fillna(0)).astype('int64'))\n",
    "alpha = krippendorffs_alpha(answer_table)\n",
    "alpha"
   ],
   "metadata": {
    "collapsed": false,
    "ExecuteTime": {
     "start_time": "2023-04-19T10:40:50.021120Z",
     "end_time": "2023-04-19T10:40:50.332198Z"
    }
   }
  },
  {
   "cell_type": "code",
   "execution_count": 267,
   "outputs": [
    {
     "data": {
      "text/plain": "0.5460267978178377"
     },
     "execution_count": 267,
     "metadata": {},
     "output_type": "execute_result"
    }
   ],
   "source": [
    "answer_table = pivot_table_frequency(np.array(binarized_df['annot_id']), np.array(binarized_df['annotation'].replace('-', '0').fillna(0)).astype('int64'))\n",
    "user_table = pivot_table_frequency(np.array(binarized_df['annotator']), np.array(binarized_df['annotation'].replace('-', '0').fillna(0)).astype('int64'))\n",
    "alpha = krippendorffs_alpha(answer_table)\n",
    "alpha"
   ],
   "metadata": {
    "collapsed": false,
    "ExecuteTime": {
     "start_time": "2023-04-19T10:40:50.063963Z",
     "end_time": "2023-04-19T10:40:50.332755Z"
    }
   }
  },
  {
   "cell_type": "code",
   "execution_count": 268,
   "outputs": [
    {
     "data": {
      "text/plain": "0.5462095215466232"
     },
     "execution_count": 268,
     "metadata": {},
     "output_type": "execute_result"
    }
   ],
   "source": [
    "kappa = cohens_kappa(answer_table, user_table)\n",
    "kappa"
   ],
   "metadata": {
    "collapsed": false,
    "ExecuteTime": {
     "start_time": "2023-04-19T10:40:50.064509Z",
     "end_time": "2023-04-19T10:40:50.333003Z"
    }
   }
  },
  {
   "cell_type": "code",
   "execution_count": 269,
   "outputs": [
    {
     "data": {
      "text/plain": "[(0, 926), (1, 633), (2, 270), (3, 171)]"
     },
     "execution_count": 269,
     "metadata": {},
     "output_type": "execute_result"
    }
   ],
   "source": [
    "df = read_annotations(\n",
    "    '/home/sasce/PycharmProjects/CodeGraphClassification/data/processed/manual_eval/package_human_eval_best-voting.xlsx')\n",
    "df\n",
    "agg_df = others_group_annotations(df, 'package')\n",
    "agg_df\n",
    "Counter(df['annotation'].replace('-', '0').fillna(0).astype('int64')).most_common()"
   ],
   "metadata": {
    "collapsed": false,
    "ExecuteTime": {
     "start_time": "2023-04-19T10:40:50.064967Z",
     "end_time": "2023-04-19T10:40:50.629814Z"
    }
   }
  },
  {
   "cell_type": "code",
   "execution_count": 270,
   "outputs": [
    {
     "data": {
      "text/plain": "     annot_id                project  \\\n0           0  BitwiseInc|Hydrograph   \n1           1  BitwiseInc|Hydrograph   \n3           3  BitwiseInc|Hydrograph   \n6           6  BitwiseInc|Hydrograph   \n12         12   Camelcade|Perl5-IDEA   \n..        ...                    ...   \n966       966  wso2|micro-integrator   \n969       969  wso2|micro-integrator   \n970       970                xap|xap   \n974       974                xap|xap   \n975       975                xap|xap   \n\n                                          url  \\\n0    https://github.com/BitwiseInc/Hydrograph   \n1    https://github.com/BitwiseInc/Hydrograph   \n3    https://github.com/BitwiseInc/Hydrograph   \n6    https://github.com/BitwiseInc/Hydrograph   \n12    https://github.com/Camelcade/Perl5-IDEA   \n..                                        ...   \n966  https://github.com/wso2/micro-integrator   \n969  https://github.com/wso2/micro-integrator   \n970                https://github.com/xap/xap   \n974                https://github.com/xap/xap   \n975                https://github.com/xap/xap   \n\n                                               package  \\\n0                          hydrograph.engine.jaxb.sort   \n1                         hydrograph.engine.jaxb.ifxml   \n3                     hydrograph.ui.graph.model.helper   \n6                 hydrograph.engine.jaxb.ofmixedscheme   \n12                           com.perl5.lang.perl.lexer   \n..                                                 ...   \n966  org.wso2.carbon.inbound.endpoint.protocol.http...   \n969  org.wso2.esb.integration.common.clients.inboun...   \n970          org.openspaces.persistency.kafka.internal   \n974                            org.openspaces.core.map   \n975                                 net.jini.discovery   \n\n                                label_1                   label_2  \\\n0              extract, transform, load            data structure   \n1              extract, transform, load                  big data   \n3                        language model  graphical user interface   \n6              extract, transform, load                  big data   \n12   integrated development environment        regular expression   \n..                                  ...                       ...   \n966                       microservices         instant messaging   \n969                         web service                      None   \n970               distributed computing             microservices   \n974               distributed computing                  big data   \n975                       microservices     distributed computing   \n\n           label_3 annotator  annotation1  annotation2  \n0         big data    [G, H]            0            1  \n1     data binding    [G, H]            3            1  \n3     data binding    [G, H]            0            2  \n6     data binding    [G, H]            3            1  \n12     interpreter    [G, H]            1            3  \n..             ...       ...          ...          ...  \n966         server    [F, G]            1            3  \n969           None    [F, G]            1            3  \n970       big data    [F, G]            3            0  \n974  microservices    [F, G]            0            1  \n975       big data    [F, G]            0            1  \n\n[355 rows x 10 columns]",
      "text/html": "<div>\n<style scoped>\n    .dataframe tbody tr th:only-of-type {\n        vertical-align: middle;\n    }\n\n    .dataframe tbody tr th {\n        vertical-align: top;\n    }\n\n    .dataframe thead th {\n        text-align: right;\n    }\n</style>\n<table border=\"1\" class=\"dataframe\">\n  <thead>\n    <tr style=\"text-align: right;\">\n      <th></th>\n      <th>annot_id</th>\n      <th>project</th>\n      <th>url</th>\n      <th>package</th>\n      <th>label_1</th>\n      <th>label_2</th>\n      <th>label_3</th>\n      <th>annotator</th>\n      <th>annotation1</th>\n      <th>annotation2</th>\n    </tr>\n  </thead>\n  <tbody>\n    <tr>\n      <th>0</th>\n      <td>0</td>\n      <td>BitwiseInc|Hydrograph</td>\n      <td>https://github.com/BitwiseInc/Hydrograph</td>\n      <td>hydrograph.engine.jaxb.sort</td>\n      <td>extract, transform, load</td>\n      <td>data structure</td>\n      <td>big data</td>\n      <td>[G, H]</td>\n      <td>0</td>\n      <td>1</td>\n    </tr>\n    <tr>\n      <th>1</th>\n      <td>1</td>\n      <td>BitwiseInc|Hydrograph</td>\n      <td>https://github.com/BitwiseInc/Hydrograph</td>\n      <td>hydrograph.engine.jaxb.ifxml</td>\n      <td>extract, transform, load</td>\n      <td>big data</td>\n      <td>data binding</td>\n      <td>[G, H]</td>\n      <td>3</td>\n      <td>1</td>\n    </tr>\n    <tr>\n      <th>3</th>\n      <td>3</td>\n      <td>BitwiseInc|Hydrograph</td>\n      <td>https://github.com/BitwiseInc/Hydrograph</td>\n      <td>hydrograph.ui.graph.model.helper</td>\n      <td>language model</td>\n      <td>graphical user interface</td>\n      <td>data binding</td>\n      <td>[G, H]</td>\n      <td>0</td>\n      <td>2</td>\n    </tr>\n    <tr>\n      <th>6</th>\n      <td>6</td>\n      <td>BitwiseInc|Hydrograph</td>\n      <td>https://github.com/BitwiseInc/Hydrograph</td>\n      <td>hydrograph.engine.jaxb.ofmixedscheme</td>\n      <td>extract, transform, load</td>\n      <td>big data</td>\n      <td>data binding</td>\n      <td>[G, H]</td>\n      <td>3</td>\n      <td>1</td>\n    </tr>\n    <tr>\n      <th>12</th>\n      <td>12</td>\n      <td>Camelcade|Perl5-IDEA</td>\n      <td>https://github.com/Camelcade/Perl5-IDEA</td>\n      <td>com.perl5.lang.perl.lexer</td>\n      <td>integrated development environment</td>\n      <td>regular expression</td>\n      <td>interpreter</td>\n      <td>[G, H]</td>\n      <td>1</td>\n      <td>3</td>\n    </tr>\n    <tr>\n      <th>...</th>\n      <td>...</td>\n      <td>...</td>\n      <td>...</td>\n      <td>...</td>\n      <td>...</td>\n      <td>...</td>\n      <td>...</td>\n      <td>...</td>\n      <td>...</td>\n      <td>...</td>\n    </tr>\n    <tr>\n      <th>966</th>\n      <td>966</td>\n      <td>wso2|micro-integrator</td>\n      <td>https://github.com/wso2/micro-integrator</td>\n      <td>org.wso2.carbon.inbound.endpoint.protocol.http...</td>\n      <td>microservices</td>\n      <td>instant messaging</td>\n      <td>server</td>\n      <td>[F, G]</td>\n      <td>1</td>\n      <td>3</td>\n    </tr>\n    <tr>\n      <th>969</th>\n      <td>969</td>\n      <td>wso2|micro-integrator</td>\n      <td>https://github.com/wso2/micro-integrator</td>\n      <td>org.wso2.esb.integration.common.clients.inboun...</td>\n      <td>web service</td>\n      <td>None</td>\n      <td>None</td>\n      <td>[F, G]</td>\n      <td>1</td>\n      <td>3</td>\n    </tr>\n    <tr>\n      <th>970</th>\n      <td>970</td>\n      <td>xap|xap</td>\n      <td>https://github.com/xap/xap</td>\n      <td>org.openspaces.persistency.kafka.internal</td>\n      <td>distributed computing</td>\n      <td>microservices</td>\n      <td>big data</td>\n      <td>[F, G]</td>\n      <td>3</td>\n      <td>0</td>\n    </tr>\n    <tr>\n      <th>974</th>\n      <td>974</td>\n      <td>xap|xap</td>\n      <td>https://github.com/xap/xap</td>\n      <td>org.openspaces.core.map</td>\n      <td>distributed computing</td>\n      <td>big data</td>\n      <td>microservices</td>\n      <td>[F, G]</td>\n      <td>0</td>\n      <td>1</td>\n    </tr>\n    <tr>\n      <th>975</th>\n      <td>975</td>\n      <td>xap|xap</td>\n      <td>https://github.com/xap/xap</td>\n      <td>net.jini.discovery</td>\n      <td>microservices</td>\n      <td>distributed computing</td>\n      <td>big data</td>\n      <td>[F, G]</td>\n      <td>0</td>\n      <td>1</td>\n    </tr>\n  </tbody>\n</table>\n<p>355 rows × 10 columns</p>\n</div>"
     },
     "execution_count": 270,
     "metadata": {},
     "output_type": "execute_result"
    }
   ],
   "source": [
    "disagreement = agg_df[agg_df['annotation1'] != agg_df['annotation2']]\n",
    "disagreement"
   ],
   "metadata": {
    "collapsed": false,
    "ExecuteTime": {
     "start_time": "2023-04-19T10:40:50.599548Z",
     "end_time": "2023-04-19T10:40:50.630593Z"
    }
   }
  },
  {
   "cell_type": "code",
   "execution_count": 271,
   "outputs": [
    {
     "data": {
      "text/plain": "[(1, 1074), (0, 926)]"
     },
     "execution_count": 271,
     "metadata": {},
     "output_type": "execute_result"
    }
   ],
   "source": [
    "disagreement.to_csv(\n",
    "    '/home/sasce/PycharmProjects/CodeGraphClassification/data/processed/manual_eval/package_human_disagreements.xlsx',\n",
    "    index=False)\n",
    "binarized_df = df.copy(deep=True)\n",
    "binarized_df.loc[df[\"annotation\"].replace('-', '0').fillna(0).astype('int64') > 0, \"annotation\"] = 1\n",
    "binarized_df\n",
    "Counter(binarized_df['annotation'].replace('-', '0').fillna(0).astype('int64')).most_common()"
   ],
   "metadata": {
    "collapsed": false,
    "ExecuteTime": {
     "start_time": "2023-04-19T10:40:50.604645Z",
     "end_time": "2023-04-19T10:40:50.631047Z"
    }
   }
  },
  {
   "cell_type": "code",
   "execution_count": 272,
   "outputs": [
    {
     "data": {
      "text/plain": "     annot_id                project  \\\n0           0  BitwiseInc|Hydrograph   \n3           3  BitwiseInc|Hydrograph   \n22         22         Daimler|sechub   \n24         24         Daimler|sechub   \n26         26         Daimler|sechub   \n..        ...                    ...   \n961       961  wso2|micro-integrator   \n965       965  wso2|micro-integrator   \n970       970                xap|xap   \n974       974                xap|xap   \n975       975                xap|xap   \n\n                                          url  \\\n0    https://github.com/BitwiseInc/Hydrograph   \n3    https://github.com/BitwiseInc/Hydrograph   \n22          https://github.com/Daimler/sechub   \n24          https://github.com/Daimler/sechub   \n26          https://github.com/Daimler/sechub   \n..                                        ...   \n961  https://github.com/wso2/micro-integrator   \n965  https://github.com/wso2/micro-integrator   \n970                https://github.com/xap/xap   \n974                https://github.com/xap/xap   \n975                https://github.com/xap/xap   \n\n                                               package  \\\n0                          hydrograph.engine.jaxb.sort   \n3                     hydrograph.ui.graph.model.helper   \n22   com.mercedesbenz.sechub.integrationtest.scenario6   \n24   com.mercedesbenz.sechub.domain.administration....   \n26   com.mercedesbenz.sechub.sharedkernel.usecases....   \n..                                                 ...   \n961  org.wso2.micro.integrator.dataservices.core.sc...   \n965  org.wso2.micro.integrator.security.user.core.jdbc   \n970          org.openspaces.persistency.kafka.internal   \n974                            org.openspaces.core.map   \n975                                 net.jini.discovery   \n\n                      label_1                   label_2            label_3  \\\n0    extract, transform, load            data structure           big data   \n3              language model  graphical user interface       data binding   \n22                   security                    client             server   \n24                   security    continuous integration    web application   \n26                   security             microservices     user interface   \n..                        ...                       ...                ...   \n961             microservices                  database  instant messaging   \n965             microservices  web application security  instant messaging   \n970     distributed computing             microservices           big data   \n974     distributed computing                  big data      microservices   \n975             microservices     distributed computing           big data   \n\n    annotator  annotation1  annotation2  \n0      [G, H]            0            1  \n3      [G, H]            0            1  \n22     [G, H]            0            1  \n24     [G, H]            0            1  \n26     [G, H]            1            0  \n..        ...          ...          ...  \n961    [F, G]            1            0  \n965    [F, G]            1            0  \n970    [F, G]            1            0  \n974    [F, G]            0            1  \n975    [F, G]            0            1  \n\n[250 rows x 10 columns]",
      "text/html": "<div>\n<style scoped>\n    .dataframe tbody tr th:only-of-type {\n        vertical-align: middle;\n    }\n\n    .dataframe tbody tr th {\n        vertical-align: top;\n    }\n\n    .dataframe thead th {\n        text-align: right;\n    }\n</style>\n<table border=\"1\" class=\"dataframe\">\n  <thead>\n    <tr style=\"text-align: right;\">\n      <th></th>\n      <th>annot_id</th>\n      <th>project</th>\n      <th>url</th>\n      <th>package</th>\n      <th>label_1</th>\n      <th>label_2</th>\n      <th>label_3</th>\n      <th>annotator</th>\n      <th>annotation1</th>\n      <th>annotation2</th>\n    </tr>\n  </thead>\n  <tbody>\n    <tr>\n      <th>0</th>\n      <td>0</td>\n      <td>BitwiseInc|Hydrograph</td>\n      <td>https://github.com/BitwiseInc/Hydrograph</td>\n      <td>hydrograph.engine.jaxb.sort</td>\n      <td>extract, transform, load</td>\n      <td>data structure</td>\n      <td>big data</td>\n      <td>[G, H]</td>\n      <td>0</td>\n      <td>1</td>\n    </tr>\n    <tr>\n      <th>3</th>\n      <td>3</td>\n      <td>BitwiseInc|Hydrograph</td>\n      <td>https://github.com/BitwiseInc/Hydrograph</td>\n      <td>hydrograph.ui.graph.model.helper</td>\n      <td>language model</td>\n      <td>graphical user interface</td>\n      <td>data binding</td>\n      <td>[G, H]</td>\n      <td>0</td>\n      <td>1</td>\n    </tr>\n    <tr>\n      <th>22</th>\n      <td>22</td>\n      <td>Daimler|sechub</td>\n      <td>https://github.com/Daimler/sechub</td>\n      <td>com.mercedesbenz.sechub.integrationtest.scenario6</td>\n      <td>security</td>\n      <td>client</td>\n      <td>server</td>\n      <td>[G, H]</td>\n      <td>0</td>\n      <td>1</td>\n    </tr>\n    <tr>\n      <th>24</th>\n      <td>24</td>\n      <td>Daimler|sechub</td>\n      <td>https://github.com/Daimler/sechub</td>\n      <td>com.mercedesbenz.sechub.domain.administration....</td>\n      <td>security</td>\n      <td>continuous integration</td>\n      <td>web application</td>\n      <td>[G, H]</td>\n      <td>0</td>\n      <td>1</td>\n    </tr>\n    <tr>\n      <th>26</th>\n      <td>26</td>\n      <td>Daimler|sechub</td>\n      <td>https://github.com/Daimler/sechub</td>\n      <td>com.mercedesbenz.sechub.sharedkernel.usecases....</td>\n      <td>security</td>\n      <td>microservices</td>\n      <td>user interface</td>\n      <td>[G, H]</td>\n      <td>1</td>\n      <td>0</td>\n    </tr>\n    <tr>\n      <th>...</th>\n      <td>...</td>\n      <td>...</td>\n      <td>...</td>\n      <td>...</td>\n      <td>...</td>\n      <td>...</td>\n      <td>...</td>\n      <td>...</td>\n      <td>...</td>\n      <td>...</td>\n    </tr>\n    <tr>\n      <th>961</th>\n      <td>961</td>\n      <td>wso2|micro-integrator</td>\n      <td>https://github.com/wso2/micro-integrator</td>\n      <td>org.wso2.micro.integrator.dataservices.core.sc...</td>\n      <td>microservices</td>\n      <td>database</td>\n      <td>instant messaging</td>\n      <td>[F, G]</td>\n      <td>1</td>\n      <td>0</td>\n    </tr>\n    <tr>\n      <th>965</th>\n      <td>965</td>\n      <td>wso2|micro-integrator</td>\n      <td>https://github.com/wso2/micro-integrator</td>\n      <td>org.wso2.micro.integrator.security.user.core.jdbc</td>\n      <td>microservices</td>\n      <td>web application security</td>\n      <td>instant messaging</td>\n      <td>[F, G]</td>\n      <td>1</td>\n      <td>0</td>\n    </tr>\n    <tr>\n      <th>970</th>\n      <td>970</td>\n      <td>xap|xap</td>\n      <td>https://github.com/xap/xap</td>\n      <td>org.openspaces.persistency.kafka.internal</td>\n      <td>distributed computing</td>\n      <td>microservices</td>\n      <td>big data</td>\n      <td>[F, G]</td>\n      <td>1</td>\n      <td>0</td>\n    </tr>\n    <tr>\n      <th>974</th>\n      <td>974</td>\n      <td>xap|xap</td>\n      <td>https://github.com/xap/xap</td>\n      <td>org.openspaces.core.map</td>\n      <td>distributed computing</td>\n      <td>big data</td>\n      <td>microservices</td>\n      <td>[F, G]</td>\n      <td>0</td>\n      <td>1</td>\n    </tr>\n    <tr>\n      <th>975</th>\n      <td>975</td>\n      <td>xap|xap</td>\n      <td>https://github.com/xap/xap</td>\n      <td>net.jini.discovery</td>\n      <td>microservices</td>\n      <td>distributed computing</td>\n      <td>big data</td>\n      <td>[F, G]</td>\n      <td>0</td>\n      <td>1</td>\n    </tr>\n  </tbody>\n</table>\n<p>250 rows × 10 columns</p>\n</div>"
     },
     "execution_count": 272,
     "metadata": {},
     "output_type": "execute_result"
    }
   ],
   "source": [
    "\n",
    "agg_binarized_df = others_group_annotations(binarized_df, 'package')\n",
    "disagreement_bin = agg_binarized_df[agg_binarized_df['annotation1'] != agg_binarized_df['annotation2']]\n",
    "disagreement_bin"
   ],
   "metadata": {
    "collapsed": false,
    "ExecuteTime": {
     "start_time": "2023-04-19T10:40:50.616191Z",
     "end_time": "2023-04-19T10:40:50.879676Z"
    }
   }
  },
  {
   "cell_type": "code",
   "execution_count": 273,
   "outputs": [
    {
     "data": {
      "text/plain": "0.46232783042276865"
     },
     "execution_count": 273,
     "metadata": {},
     "output_type": "execute_result"
    }
   ],
   "source": [
    "\n",
    "disagreement_bin.to_csv(\n",
    "    '/home/sasce/PycharmProjects/CodeGraphClassification/data/processed/manual_eval/package_human_disagreements_binary.xlsx',\n",
    "    index=False)\n",
    "answer_table = pivot_table_frequency(np.array(df['annot_id']),\n",
    "                                     np.array(df['annotation'].replace('-', '0').fillna(0)).astype('int64'))\n",
    "user_table = pivot_table_frequency(np.array(df['annotator']),\n",
    "                                   np.array(df['annotation'].replace('-', '0').fillna(0)).astype('int64'))\n",
    "alpha = krippendorffs_alpha(answer_table)\n",
    "alpha\n"
   ],
   "metadata": {
    "collapsed": false,
    "ExecuteTime": {
     "start_time": "2023-04-19T10:40:50.726439Z",
     "end_time": "2023-04-19T10:40:50.904223Z"
    }
   }
  },
  {
   "cell_type": "code",
   "execution_count": 274,
   "outputs": [
    {
     "data": {
      "text/plain": "0.46370919010376205"
     },
     "execution_count": 274,
     "metadata": {},
     "output_type": "execute_result"
    }
   ],
   "source": [
    "kappa = cohens_kappa(answer_table, user_table)\n",
    "kappa"
   ],
   "metadata": {
    "collapsed": false,
    "ExecuteTime": {
     "start_time": "2023-04-19T10:40:50.767796Z",
     "end_time": "2023-04-19T10:40:50.904712Z"
    }
   }
  },
  {
   "cell_type": "code",
   "execution_count": 275,
   "outputs": [
    {
     "data": {
      "text/plain": "0.49929959165735843"
     },
     "execution_count": 275,
     "metadata": {},
     "output_type": "execute_result"
    }
   ],
   "source": [
    "answer_table = pivot_table_frequency(np.array(binarized_df['annot_id']),\n",
    "                                     np.array(binarized_df['annotation'].replace('-', '0').fillna(0)).astype('int64'))\n",
    "user_table = pivot_table_frequency(np.array(binarized_df['annotator']),\n",
    "                                   np.array(binarized_df['annotation'].replace('-', '0').fillna(0)).astype('int64'))\n",
    "alpha = krippendorffs_alpha(answer_table)\n",
    "alpha\n",
    "kappa = cohens_kappa(answer_table, user_table)\n",
    "kappa"
   ],
   "metadata": {
    "collapsed": false,
    "ExecuteTime": {
     "start_time": "2023-04-19T10:40:50.767986Z",
     "end_time": "2023-04-19T10:40:50.961689Z"
    }
   }
  },
  {
   "cell_type": "code",
   "execution_count": 275,
   "outputs": [],
   "source": [],
   "metadata": {
    "collapsed": false,
    "ExecuteTime": {
     "start_time": "2023-04-19T10:40:50.811873Z",
     "end_time": "2023-04-19T10:40:50.962028Z"
    }
   }
  }
 ],
 "metadata": {
  "kernelspec": {
   "display_name": "Python 3",
   "language": "python",
   "name": "python3"
  },
  "language_info": {
   "codemirror_mode": {
    "name": "ipython",
    "version": 2
   },
   "file_extension": ".py",
   "mimetype": "text/x-python",
   "name": "python",
   "nbconvert_exporter": "python",
   "pygments_lexer": "ipython2",
   "version": "2.7.6"
  }
 },
 "nbformat": 4,
 "nbformat_minor": 0
}
