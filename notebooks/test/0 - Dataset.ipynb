{
 "cells": [
  {
   "cell_type": "code",
   "execution_count": 1,
   "metadata": {
    "collapsed": true
   },
   "outputs": [],
   "source": [
    "graph_dir = \"/home/sasce/PycharmProjects/CodeGraphClassification/data/interim/arcanOutput\"\n",
    "feature_dir = \"/home/sasce/PycharmProjects/CodeGraphClassification/data/processed/embedding/name/fastText\"\n",
    "out_dir = \"/home/sasce/PycharmProjects/CodeGraphClassification/data/processed/torch\"\n",
    "project_path = \"/home/sasce/PycharmProjects/CodeGraphClassification/data/raw/dev_dataset.csv\""
   ]
  },
  {
   "cell_type": "code",
   "execution_count": 2,
   "outputs": [],
   "source": [
    "import pandas\n",
    "\n",
    "from data.dataset import GitRankingDataset"
   ],
   "metadata": {
    "collapsed": false
   }
  },
  {
   "cell_type": "code",
   "execution_count": 3,
   "outputs": [],
   "source": [
    "\n",
    "from utils import encode_labels\n",
    "\n",
    "projects = pandas.read_csv(project_path)\n"
   ],
   "metadata": {
    "collapsed": false
   }
  },
  {
   "cell_type": "code",
   "execution_count": 7,
   "outputs": [
    {
     "data": {
      "text/plain": "'[3, 5]'"
     },
     "execution_count": 7,
     "metadata": {},
     "output_type": "execute_result"
    }
   ],
   "source": [
    "projects['level'].tolist()[0]"
   ],
   "metadata": {
    "collapsed": false
   }
  },
  {
   "cell_type": "code",
   "execution_count": 8,
   "outputs": [],
   "source": [
    "projects = encode_labels(projects)"
   ],
   "metadata": {
    "collapsed": false
   }
  },
  {
   "cell_type": "code",
   "execution_count": 9,
   "outputs": [],
   "source": [
    "from more_itertools import flatten\n",
    "\n",
    "num_classes = len(set(flatten(projects[\"label\"].tolist())))"
   ],
   "metadata": {
    "collapsed": false
   }
  },
  {
   "cell_type": "code",
   "execution_count": 10,
   "outputs": [],
   "source": [
    "data = GitRankingDataset(graph_dir, feature_dir, out_dir, projects, 300, num_classes)"
   ],
   "metadata": {
    "collapsed": false
   }
  },
  {
   "cell_type": "code",
   "execution_count": 11,
   "outputs": [
    {
     "data": {
      "text/plain": "99"
     },
     "execution_count": 11,
     "metadata": {},
     "output_type": "execute_result"
    }
   ],
   "source": [
    "len(data)"
   ],
   "metadata": {
    "collapsed": false
   }
  },
  {
   "cell_type": "code",
   "execution_count": 12,
   "outputs": [
    {
     "data": {
      "text/plain": "['/home/sasce/PycharmProjects/CodeGraphClassification/data/processed/torch/processed/Norconex|collector-filesystem-133_292a42769f7f6f1beaf4b178c3f7170fddfee282.pt',\n '/home/sasce/PycharmProjects/CodeGraphClassification/data/processed/torch/processed/Norconex|collector-filesystem-63_c01cf7bf4093aa21fafc1fba93ba50ca0343c619.pt',\n '/home/sasce/PycharmProjects/CodeGraphClassification/data/processed/torch/processed/Norconex|collector-filesystem-72_785b7928896b302fd84d81f9437ec47af5d7b330.pt',\n '/home/sasce/PycharmProjects/CodeGraphClassification/data/processed/torch/processed/Norconex|collector-filesystem-21_b08c040bfe57cb1f3220ca487d33b0240a6564fa.pt',\n '/home/sasce/PycharmProjects/CodeGraphClassification/data/processed/torch/processed/Norconex|collector-filesystem-115_30cb73f240f83e7a3a363d4a5a5d27c04e313907.pt',\n '/home/sasce/PycharmProjects/CodeGraphClassification/data/processed/torch/processed/Norconex|collector-filesystem-140_7c16b72fdb8a7db9066bbe3fe1b138e340f9a2ea.pt',\n '/home/sasce/PycharmProjects/CodeGraphClassification/data/processed/torch/processed/Norconex|collector-filesystem-129_424bf7310ae143f83d81f7355d0f94845513c204.pt',\n '/home/sasce/PycharmProjects/CodeGraphClassification/data/processed/torch/processed/Norconex|collector-filesystem-97_7caa497eab82995a62c9a47bef1cf6f7a4ffb67d.pt',\n '/home/sasce/PycharmProjects/CodeGraphClassification/data/processed/torch/processed/Norconex|collector-filesystem-153_9cfe8898f14e5fdd3461482d028fac5a3e472810.pt',\n '/home/sasce/PycharmProjects/CodeGraphClassification/data/processed/torch/processed/Norconex|collector-filesystem-157_faca3000e56347e2ca2f677825fefd874097145f.pt',\n '/home/sasce/PycharmProjects/CodeGraphClassification/data/processed/torch/processed/Norconex|collector-filesystem-60_43ce584eb693b2ad1896a58cd889585be9b60e2e.pt',\n '/home/sasce/PycharmProjects/CodeGraphClassification/data/processed/torch/processed/Norconex|collector-filesystem-64_42548c7bbe259d83ed7d094afe1f4258a8ae0124.pt',\n '/home/sasce/PycharmProjects/CodeGraphClassification/data/processed/torch/processed/Norconex|collector-filesystem-163_b3e600eba5558f0312e7b15c7fd33463cc042390.pt',\n '/home/sasce/PycharmProjects/CodeGraphClassification/data/processed/torch/processed/Norconex|collector-filesystem-160_98c33475b9fcc3a1f3e8481911d9221d9f285076.pt',\n '/home/sasce/PycharmProjects/CodeGraphClassification/data/processed/torch/processed/Norconex|collector-filesystem-68_16fa1f3119b0b4a965e5308056719ffec8463e86.pt',\n '/home/sasce/PycharmProjects/CodeGraphClassification/data/processed/torch/processed/Norconex|collector-filesystem-42_2a0b2de1afa858395598e8fe0b11f5cec736f19a.pt',\n '/home/sasce/PycharmProjects/CodeGraphClassification/data/processed/torch/processed/Norconex|collector-filesystem-125_cbb972e6d0dd8735151f81f9645db5821e04cd52.pt',\n '/home/sasce/PycharmProjects/CodeGraphClassification/data/processed/torch/processed/Norconex|collector-filesystem-71_36ac5587e7a92906a0536c0cdd209f969f24bc2d.pt',\n '/home/sasce/PycharmProjects/CodeGraphClassification/data/processed/torch/processed/Norconex|collector-filesystem-132_b5ed6589c411248f3c42191dcec9bdb15c34d310.pt',\n '/home/sasce/PycharmProjects/CodeGraphClassification/data/processed/torch/processed/Norconex|collector-filesystem-158_6a5a7eca829beb5ce1b911f645a8822fe2510b46.pt',\n '/home/sasce/PycharmProjects/CodeGraphClassification/data/processed/torch/processed/Norconex|collector-filesystem-99_f04df31fce8c703217a85f6dd55988054dc4cb9e.pt',\n '/home/sasce/PycharmProjects/CodeGraphClassification/data/processed/torch/processed/Norconex|collector-filesystem-89_546d0adc1aacb6b3e9c7e6ba297337d27d32ac36.pt',\n '/home/sasce/PycharmProjects/CodeGraphClassification/data/processed/torch/processed/Norconex|collector-filesystem-145_ef04e732ecd9fcc042668125752dd408450f12b0.pt',\n '/home/sasce/PycharmProjects/CodeGraphClassification/data/processed/torch/processed/Norconex|collector-filesystem-101_b2e8f9fcb548b5a940017890b42424d13acd2cec.pt',\n '/home/sasce/PycharmProjects/CodeGraphClassification/data/processed/torch/processed/Norconex|collector-filesystem-104_1487f5876249052112ee664cb7cb5bd7804e6c87.pt',\n '/home/sasce/PycharmProjects/CodeGraphClassification/data/processed/torch/processed/Norconex|collector-filesystem-146_74a799317f44cf9dddf1854854ca21784a11ab5a.pt',\n '/home/sasce/PycharmProjects/CodeGraphClassification/data/processed/torch/processed/Norconex|collector-filesystem-156_2af146b4838d152fd5ee2e6ced58d4d9d993645d.pt',\n '/home/sasce/PycharmProjects/CodeGraphClassification/data/processed/torch/processed/Norconex|collector-filesystem-111_36f0504f5c1716732a98defcefa2d37fc856f9c7.pt',\n '/home/sasce/PycharmProjects/CodeGraphClassification/data/processed/torch/processed/Norconex|collector-filesystem-162_5221e66a95350e3c95769be707e34decf95dde43.pt',\n '/home/sasce/PycharmProjects/CodeGraphClassification/data/processed/torch/processed/Norconex|collector-filesystem-155_c839b677d52f4b4cc3e169e2f3ebafdbf249017b.pt',\n '/home/sasce/PycharmProjects/CodeGraphClassification/data/processed/torch/processed/Norconex|collector-filesystem-84_3b6720285bf010a2616ecf968b1809dfb3e8eafa.pt',\n '/home/sasce/PycharmProjects/CodeGraphClassification/data/processed/torch/processed/Norconex|collector-filesystem-75_15c68b38a90806aefb3726a1d14d692f96f021bf.pt',\n '/home/sasce/PycharmProjects/CodeGraphClassification/data/processed/torch/processed/Norconex|collector-filesystem-164_647015be99f9391e1d660b5d7f582924eaa37acf.pt',\n '/home/sasce/PycharmProjects/CodeGraphClassification/data/processed/torch/processed/Norconex|collector-filesystem-130_1d5bc0b4a3c9c2ec777f1ca56e2e91c8fff11ad5.pt',\n '/home/sasce/PycharmProjects/CodeGraphClassification/data/processed/torch/processed/Norconex|collector-filesystem-94_768bd216a8b76fef3bc84d1d2910612f647c9ab7.pt',\n '/home/sasce/PycharmProjects/CodeGraphClassification/data/processed/torch/processed/Norconex|collector-filesystem-149_eb9ac0d33e4201c9cb745c8c2790ec9bc6c6784a.pt',\n '/home/sasce/PycharmProjects/CodeGraphClassification/data/processed/torch/processed/Norconex|collector-filesystem-98_f4a721cb91b97c593e9210a23c3fdb2372fe38b2.pt',\n '/home/sasce/PycharmProjects/CodeGraphClassification/data/processed/torch/processed/Norconex|collector-filesystem-136_ec7a1a6f957831413c4b33e50c1d05c33a2b4f0e.pt',\n '/home/sasce/PycharmProjects/CodeGraphClassification/data/processed/torch/processed/Norconex|collector-filesystem-12_a14a90356a1791ebe6e17f8bcf4e399c8534aa73.pt',\n '/home/sasce/PycharmProjects/CodeGraphClassification/data/processed/torch/processed/Norconex|collector-filesystem-58_60e8340692a36a55b661608f4f2707e8cd414966.pt',\n '/home/sasce/PycharmProjects/CodeGraphClassification/data/processed/torch/processed/Norconex|collector-filesystem-29_cbfea6129d71f6875ac87d2925e91f636f470c55.pt',\n '/home/sasce/PycharmProjects/CodeGraphClassification/data/processed/torch/processed/Norconex|collector-filesystem-121_1475f3dcc5ed2de7b8f6bcec373d4e515f00c90f.pt',\n '/home/sasce/PycharmProjects/CodeGraphClassification/data/processed/torch/processed/Norconex|collector-filesystem-82_7703d551ddc053984995634ecc01527f6ded7196.pt',\n '/home/sasce/PycharmProjects/CodeGraphClassification/data/processed/torch/processed/Norconex|collector-filesystem-134_d95e617dd68390e1a42ed6893f54b6923f8d83b9.pt',\n '/home/sasce/PycharmProjects/CodeGraphClassification/data/processed/torch/processed/Norconex|collector-filesystem-88_7952e0ddd759b1c0d5a13dec468bd7660f03192b.pt',\n '/home/sasce/PycharmProjects/CodeGraphClassification/data/processed/torch/processed/Norconex|collector-filesystem-13_cc308c9b2ce841ec97abb0bb0341945b02a3fb08.pt',\n '/home/sasce/PycharmProjects/CodeGraphClassification/data/processed/torch/processed/awslabs|multi-model-server-1157_c8efee5821b26e5da3239f37d9bfd684f2aec429.pt',\n '/home/sasce/PycharmProjects/CodeGraphClassification/data/processed/torch/processed/awslabs|multi-model-server-1176_363c5642444b42d290c0a6a57a8674506efc6e3f.pt',\n '/home/sasce/PycharmProjects/CodeGraphClassification/data/processed/torch/processed/awslabs|multi-model-server-1204_aa7c2309aa7da429c4f86c0b863918ddf0fbceb1.pt',\n '/home/sasce/PycharmProjects/CodeGraphClassification/data/processed/torch/processed/awslabs|multi-model-server-1173_0b635b675fef813cd550fe552ac17c1c67b1490d.pt',\n '/home/sasce/PycharmProjects/CodeGraphClassification/data/processed/torch/processed/awslabs|multi-model-server-1221_1fee69499137522aca6946275b298a2bf1c01baf.pt',\n '/home/sasce/PycharmProjects/CodeGraphClassification/data/processed/torch/processed/awslabs|multi-model-server-1031_a01138a59703bb64d1ed91ea8b686a4f66b17e68.pt',\n '/home/sasce/PycharmProjects/CodeGraphClassification/data/processed/torch/processed/awslabs|multi-model-server-1162_3b5329aa9c6b4a90a2ca265c4e1d9ada6359b035.pt',\n '/home/sasce/PycharmProjects/CodeGraphClassification/data/processed/torch/processed/awslabs|multi-model-server-1190_423c5cef9e42be463b2ca032b6a48c10796381a3.pt',\n '/home/sasce/PycharmProjects/CodeGraphClassification/data/processed/torch/processed/awslabs|multi-model-server-989_abdae2eeafd0043e60c2f0f7b269ebcd416c12dc.pt',\n '/home/sasce/PycharmProjects/CodeGraphClassification/data/processed/torch/processed/awslabs|multi-model-server-1183_62e7c292573053dab0d8e371287d9680032347f6.pt',\n '/home/sasce/PycharmProjects/CodeGraphClassification/data/processed/torch/processed/awslabs|multi-model-server-1084_b98407d4b6e8668dea2ea26e142287a7168deed3.pt',\n '/home/sasce/PycharmProjects/CodeGraphClassification/data/processed/torch/processed/awslabs|multi-model-server-1117_9f42e51fdf6596a6e698483f496c7e1f72323304.pt',\n '/home/sasce/PycharmProjects/CodeGraphClassification/data/processed/torch/processed/awslabs|multi-model-server-1128_a82ab3a8a021ef05c9e0c54656ecae3ba8d0dc79.pt',\n '/home/sasce/PycharmProjects/CodeGraphClassification/data/processed/torch/processed/awslabs|multi-model-server-936_479d523ecd1f7606f214878a6b51a36948da4746.pt',\n '/home/sasce/PycharmProjects/CodeGraphClassification/data/processed/torch/processed/awslabs|multi-model-server-1051_2876a3f2f97c373d5ed9e3f380debd9a24c8892d.pt',\n '/home/sasce/PycharmProjects/CodeGraphClassification/data/processed/torch/processed/awslabs|multi-model-server-1133_1de5b6b297082230243983e165e95b0c052c59be.pt',\n '/home/sasce/PycharmProjects/CodeGraphClassification/data/processed/torch/processed/awslabs|multi-model-server-1210_c5a9a1ca2d9fb5d710220b9cfa8e3a1335163847.pt',\n '/home/sasce/PycharmProjects/CodeGraphClassification/data/processed/torch/processed/awslabs|multi-model-server-1008_cabcc233ca1f3a5620cbdaef8f03c4357bdae3d9.pt',\n '/home/sasce/PycharmProjects/CodeGraphClassification/data/processed/torch/processed/awslabs|multi-model-server-1070_84dda9e63568a8a3a8501c29ecf34d2541903588.pt',\n '/home/sasce/PycharmProjects/CodeGraphClassification/data/processed/torch/processed/awslabs|multi-model-server-978_941df2961b94e9d48d5041c393409fb3eb9e6320.pt',\n '/home/sasce/PycharmProjects/CodeGraphClassification/data/processed/torch/processed/awslabs|multi-model-server-1202_229344494742fc438ad47273c47e6fd25aede9ee.pt',\n '/home/sasce/PycharmProjects/CodeGraphClassification/data/processed/torch/processed/awslabs|multi-model-server-1220_769ad6bd6fb85a8013bccdea709beda491f6e048.pt',\n '/home/sasce/PycharmProjects/CodeGraphClassification/data/processed/torch/processed/awslabs|multi-model-server-1108_7a68ccaa238d1dc00891b23ad2929a4055ed2d2b.pt',\n '/home/sasce/PycharmProjects/CodeGraphClassification/data/processed/torch/processed/awslabs|multi-model-server-1211_02c3526a93fa7de1290688d4e7af55da2a920fec.pt',\n '/home/sasce/PycharmProjects/CodeGraphClassification/data/processed/torch/processed/awslabs|multi-model-server-1144_d0c6c756b669308248228c20f2ebc44ec25d2c71.pt',\n '/home/sasce/PycharmProjects/CodeGraphClassification/data/processed/torch/processed/apache|apex-core-6111_f6f6d5f541bb88301a4b401392e848ee0d2bc3c9.pt',\n '/home/sasce/PycharmProjects/CodeGraphClassification/data/processed/torch/processed/apache|apex-core-4982_a7815557e75b9dc702fb464689b45988d5cf8fa9.pt',\n '/home/sasce/PycharmProjects/CodeGraphClassification/data/processed/torch/processed/apache|apex-core-5977_7c4f308654b9ef72fd9ad5a41074b5b03d4a0825.pt',\n '/home/sasce/PycharmProjects/CodeGraphClassification/data/processed/torch/processed/apache|apex-core-3531_ad90dce6800f7cf8eee710934ba8f173a6775a4b.pt',\n '/home/sasce/PycharmProjects/CodeGraphClassification/data/processed/torch/processed/apache|apex-core-3860_6dcc52f3f2910d31cb5026b8fb5baccf61b49dd2.pt',\n '/home/sasce/PycharmProjects/CodeGraphClassification/data/processed/torch/processed/apache|apex-core-6000_ae46b47cdfcd839cce69f01681af56764e16b2ca.pt',\n '/home/sasce/PycharmProjects/CodeGraphClassification/data/processed/torch/processed/apache|apex-core-1469_a474e71d1f939cfbe410cec72463b8f5f8805c56.pt',\n '/home/sasce/PycharmProjects/CodeGraphClassification/data/processed/torch/processed/apache|apex-core-6289_5a42ffb900b0f06548e3bafbad903ba80f79b11c.pt',\n '/home/sasce/PycharmProjects/CodeGraphClassification/data/processed/torch/processed/apache|apex-core-3197_cd08f49b119d88182a68fad308652d6171708647.pt',\n '/home/sasce/PycharmProjects/CodeGraphClassification/data/processed/torch/processed/apache|apex-core-4833_2f7cb6daed849ea759f30469e9ebc7af0eed6d83.pt',\n '/home/sasce/PycharmProjects/CodeGraphClassification/data/processed/torch/processed/apache|apex-core-53_f73ced2191823a69f14294701a6c902d55dbd6d3.pt',\n '/home/sasce/PycharmProjects/CodeGraphClassification/data/processed/torch/processed/apache|apex-core-1153_d6b95183cb1ad6cf04cf987bd60cff5d6ef08136.pt',\n '/home/sasce/PycharmProjects/CodeGraphClassification/data/processed/torch/processed/apache|apex-core-1_c009003628cd09ab14215e10f52ec1b492b6f24f.pt',\n '/home/sasce/PycharmProjects/CodeGraphClassification/data/processed/torch/processed/apache|apex-core-4501_80efa36a80883c47d466d4fdca4d068a3404f2b4.pt',\n '/home/sasce/PycharmProjects/CodeGraphClassification/data/processed/torch/processed/apache|apex-core-4641_2ee5f6135d39fc9d48037cc585b89c26f4d76bbc.pt',\n '/home/sasce/PycharmProjects/CodeGraphClassification/data/processed/torch/processed/apache|apex-core-5680_0d5bfa5be27128de0be89335346c7c3cac40e31a.pt',\n '/home/sasce/PycharmProjects/CodeGraphClassification/data/processed/torch/processed/apache|apex-core-4914_366e43a850e713c951db4592e922639534428c33.pt',\n '/home/sasce/PycharmProjects/CodeGraphClassification/data/processed/torch/processed/apache|apex-core-6274_646674ba9810b60d6e51950f6d12eb8bd5b0894a.pt',\n '/home/sasce/PycharmProjects/CodeGraphClassification/data/processed/torch/processed/apache|apex-core-2397_bf185627b6277c9106fa0f7dfcda01c20d01b1b7.pt',\n '/home/sasce/PycharmProjects/CodeGraphClassification/data/processed/torch/processed/apache|apex-core-6248_c78ebd8fbee2f13cea05d903034158b10cfbf8c5.pt',\n '/home/sasce/PycharmProjects/CodeGraphClassification/data/processed/torch/processed/apache|apex-core-4150_9040cb4118c497acba409b5f2208b7687153ad29.pt',\n '/home/sasce/PycharmProjects/CodeGraphClassification/data/processed/torch/processed/apache|apex-core-6019_9bcde2e306ce7f6c3199112ad5bb737370f6624e.pt',\n '/home/sasce/PycharmProjects/CodeGraphClassification/data/processed/torch/processed/apache|apex-core-6231_a0dd30d8fdc27c0503f59c93ea84f7edacf53137.pt',\n '/home/sasce/PycharmProjects/CodeGraphClassification/data/processed/torch/processed/apache|apex-core-6163_8d46cc6d1256d00ad14024dbf12c601835af14f6.pt',\n '/home/sasce/PycharmProjects/CodeGraphClassification/data/processed/torch/processed/apache|apex-core-4416_c83de71917520525150c2699c87ab695e096223e.pt',\n '/home/sasce/PycharmProjects/CodeGraphClassification/data/processed/torch/processed/apache|apex-core-6297_f09bc61fd09441e6c8c7d8c3aa10def7e74eb160.pt',\n '/home/sasce/PycharmProjects/CodeGraphClassification/data/processed/torch/processed/apache|apex-core-1220_fd92e389aaf566be8d479e0e1f6ca527099a014a.pt',\n '/home/sasce/PycharmProjects/CodeGraphClassification/data/processed/torch/processed/apache|apex-core-6221_0de7be9b36a7b8ee0edb823e8c8eb376d4fdb277.pt']"
     },
     "execution_count": 12,
     "metadata": {},
     "output_type": "execute_result"
    }
   ],
   "source": [
    "data.processed_paths"
   ],
   "metadata": {
    "collapsed": false
   }
  },
  {
   "cell_type": "code",
   "execution_count": 13,
   "outputs": [],
   "source": [
    "from pathlib import Path\n",
    "import os.path as osp\n",
    "\n",
    "skipped = []\n",
    "for f in data.processed_paths:\n",
    "    if not Path(f).exists():\n",
    "        skipped.append(f)"
   ],
   "metadata": {
    "collapsed": false
   }
  },
  {
   "cell_type": "code",
   "execution_count": 14,
   "outputs": [
    {
     "data": {
      "text/plain": "0"
     },
     "execution_count": 14,
     "metadata": {},
     "output_type": "execute_result"
    }
   ],
   "source": [
    "len(skipped)"
   ],
   "metadata": {
    "collapsed": false
   }
  },
  {
   "cell_type": "code",
   "execution_count": 15,
   "outputs": [
    {
     "data": {
      "text/plain": "'/home/sasce/PycharmProjects/CodeGraphClassification/data/processed/torch/processed/Norconex|collector-filesystem-63_c01cf7bf4093aa21fafc1fba93ba50ca0343c619.pt'"
     },
     "execution_count": 15,
     "metadata": {},
     "output_type": "execute_result"
    }
   ],
   "source": [
    "data.processed_paths[1]"
   ],
   "metadata": {
    "collapsed": false
   }
  },
  {
   "cell_type": "code",
   "execution_count": 16,
   "outputs": [
    {
     "data": {
      "text/plain": "True"
     },
     "execution_count": 16,
     "metadata": {},
     "output_type": "execute_result"
    }
   ],
   "source": [
    "osp.exists(data.processed_paths[0])"
   ],
   "metadata": {
    "collapsed": false
   }
  },
  {
   "cell_type": "code",
   "execution_count": 17,
   "outputs": [
    {
     "data": {
      "text/plain": "tensor([[0., 0., 0., 0., 0., 0., 0., 0., 0., 0., 0., 0., 0., 0., 0., 0., 0., 0.,\n         0., 0., 0., 0., 0., 0., 0., 0., 0., 0., 0., 0., 0., 0., 0., 0., 0., 0.,\n         0., 0., 0., 0., 0., 0., 0., 0., 0., 0., 0., 0., 0., 0., 0., 0., 0., 0.,\n         0., 0., 0., 0., 0., 0., 0., 0., 0., 0., 0., 0., 0., 0., 0., 0., 0., 0.,\n         0., 0., 0., 0., 0., 0., 0., 0., 0., 0., 0., 0., 0., 0., 0., 0., 0., 0.,\n         0., 0., 0., 0., 0., 0., 0., 0., 0., 0., 0., 0., 0., 0., 0., 0., 0., 0.,\n         0., 0., 0., 0., 0., 0., 0., 0., 0., 0., 0., 0., 0., 0., 0., 0., 0., 0.,\n         0., 0., 0., 0., 0., 0., 0., 0., 0., 0., 0., 0., 0., 0., 0., 0., 0., 0.,\n         0., 0., 0., 0., 0., 0., 0., 0., 0., 0., 0., 0., 0., 0., 0., 0., 0., 0.,\n         0., 0., 0., 0., 0., 0., 0., 0., 0., 0., 0., 0., 0., 0., 0., 0., 0., 0.,\n         0., 0., 0., 0., 0., 0., 0., 0., 0., 0., 0., 0., 0., 0., 0., 0., 0., 0.,\n         0., 0., 0., 0., 1., 0., 0., 0., 0., 0., 0., 0., 0., 0., 0., 0., 0., 0.,\n         0., 0., 0., 0., 0., 0., 0., 0., 0., 0., 0., 0., 0., 0., 0., 0., 0., 0.,\n         0., 0., 0., 0., 0., 0., 0., 0., 0., 0., 0., 0., 0., 0., 0., 0., 0., 0.,\n         0., 0., 0., 0., 0., 0., 0., 0., 1., 0., 0., 0., 0., 0., 0.]])"
     },
     "execution_count": 17,
     "metadata": {},
     "output_type": "execute_result"
    }
   ],
   "source": [
    "data[2].y"
   ],
   "metadata": {
    "collapsed": false
   }
  },
  {
   "cell_type": "code",
   "execution_count": 18,
   "outputs": [
    {
     "data": {
      "text/plain": "array([202, 260])"
     },
     "execution_count": 18,
     "metadata": {},
     "output_type": "execute_result"
    }
   ],
   "source": [
    "data[2].label_id"
   ],
   "metadata": {
    "collapsed": false
   }
  },
  {
   "cell_type": "code",
   "execution_count": 18,
   "outputs": [],
   "source": [],
   "metadata": {
    "collapsed": false
   }
  }
 ],
 "metadata": {
  "kernelspec": {
   "display_name": "Python 3",
   "language": "python",
   "name": "python3"
  },
  "language_info": {
   "codemirror_mode": {
    "name": "ipython",
    "version": 2
   },
   "file_extension": ".py",
   "mimetype": "text/x-python",
   "name": "python",
   "nbconvert_exporter": "python",
   "pygments_lexer": "ipython2",
   "version": "2.7.6"
  }
 },
 "nbformat": 4,
 "nbformat_minor": 0
}
