{
 "cells": [
  {
   "cell_type": "code",
   "execution_count": 24,
   "metadata": {
    "collapsed": true
   },
   "outputs": [],
   "source": [
    "import yake\n",
    "from data.graph import ArcanGraphLoader\n",
    "import os.path as osp"
   ]
  },
  {
   "cell_type": "code",
   "execution_count": 25,
   "outputs": [],
   "source": [
    "file_loader = ArcanGraphLoader()"
   ],
   "metadata": {
    "collapsed": false
   }
  },
  {
   "cell_type": "code",
   "execution_count": 50,
   "outputs": [],
   "source": [
    "graph = file_loader.load(\"/home/sasce/PycharmProjects/CodeGraphClassification/data/interim/arcanOutput/apache|zookeeper/dependency-graph-598_266b24b91dfaf65b94f74297d0ef46d6949fe20d.graphml\")\n",
    "repo_path = \"/home/sasce/PycharmProjects/CodeGraphClassification/data/raw/repositories/zookeeper\"\n",
    "files = [osp.join(repo_path, node['filePathRelative']) for i, node in enumerate(graph.vs)]"
   ],
   "metadata": {
    "collapsed": false
   }
  },
  {
   "cell_type": "code",
   "execution_count": 51,
   "outputs": [
    {
     "data": {
      "text/plain": "['/home/sasce/PycharmProjects/CodeGraphClassification/data/raw/repositories/zookeeper/.',\n '/home/sasce/PycharmProjects/CodeGraphClassification/data/raw/repositories/zookeeper/src/java/systest/org/apache/zookeeper/test/system/InstanceContainer.java',\n '/home/sasce/PycharmProjects/CodeGraphClassification/data/raw/repositories/zookeeper/src/java/test/org/apache/zookeeper/test/ACLRootTest.java',\n '/home/sasce/PycharmProjects/CodeGraphClassification/data/raw/repositories/zookeeper/src/contrib/bookkeeper/src/java/org/apache/bookkeeper/client/QuorumEngine.java',\n '/home/sasce/PycharmProjects/CodeGraphClassification/data/raw/repositories/zookeeper/src/java/main/org/apache/zookeeper/server/persistence/TxnLog.java',\n '/home/sasce/PycharmProjects/CodeGraphClassification/data/raw/repositories/zookeeper/src/java/main/org/apache/zookeeper/KeeperException.java',\n '/home/sasce/PycharmProjects/CodeGraphClassification/data/raw/repositories/zookeeper/src/java/main/org/apache/zookeeper/server/quorum/LeaderMXBean.java',\n '/home/sasce/PycharmProjects/CodeGraphClassification/data/raw/repositories/zookeeper/src/java/main/org/apache/jute/Record.java',\n '/home/sasce/PycharmProjects/CodeGraphClassification/data/raw/repositories/zookeeper/src/java/test/org/apache/zookeeper/test/JMXEnv.java',\n '/home/sasce/PycharmProjects/CodeGraphClassification/data/raw/repositories/zookeeper/src/contrib/bookkeeper/src/java/org/apache/bookkeeper/client/BookieHandle.java',\n '/home/sasce/PycharmProjects/CodeGraphClassification/data/raw/repositories/zookeeper/src/java/test/org/apache/zookeeper/server/DeserializationPerfTest.java',\n '/home/sasce/PycharmProjects/CodeGraphClassification/data/raw/repositories/zookeeper/src/java/main/org/apache/zookeeper/server/ZooKeeperServerMXBean.java',\n '/home/sasce/PycharmProjects/CodeGraphClassification/data/raw/repositories/zookeeper/src/java/main/org/apache/zookeeper/CreateMode.java',\n '/home/sasce/PycharmProjects/CodeGraphClassification/data/raw/repositories/zookeeper/src/java/test/org/apache/zookeeper/test/ClientRetry.java',\n '/home/sasce/PycharmProjects/CodeGraphClassification/data/raw/repositories/zookeeper/src/contrib/bookkeeper/test/org/apache/bookkeeper/test/BookieClientTest.java',\n '/home/sasce/PycharmProjects/CodeGraphClassification/data/raw/repositories/zookeeper/src/java/test/org/apache/zookeeper/test/QuorumBase.java',\n '/home/sasce/PycharmProjects/CodeGraphClassification/data/raw/repositories/zookeeper/src/java/main/org/apache/zookeeper/server/persistence/SnapShot.java',\n '/home/sasce/PycharmProjects/CodeGraphClassification/data/raw/repositories/zookeeper/src/java/systest/org/apache/zookeeper/test/system/Instance.java',\n '/home/sasce/PycharmProjects/CodeGraphClassification/data/raw/repositories/zookeeper/src/contrib/bookkeeper/src/java/org/apache/bookkeeper/client/AsyncCallback.java',\n '/home/sasce/PycharmProjects/CodeGraphClassification/data/raw/repositories/zookeeper/src/java/main/org/apache/zookeeper/server/quorum/LocalPeerMXBean.java',\n '/home/sasce/PycharmProjects/CodeGraphClassification/data/raw/repositories/zookeeper/src/java/test/org/apache/zookeeper/test/FLEZeroWeightTest.java',\n '/home/sasce/PycharmProjects/CodeGraphClassification/data/raw/repositories/zookeeper/src/java/main/org/apache/zookeeper/server/DataTree.java',\n '/home/sasce/PycharmProjects/CodeGraphClassification/data/raw/repositories/zookeeper/src/contrib/bookkeeper/src/java/org/apache/bookkeeper/client/AsyncCallback.java',\n '/home/sasce/PycharmProjects/CodeGraphClassification/data/raw/repositories/zookeeper/src/java/main/org/apache/zookeeper/WatchedEvent.java',\n '/home/sasce/PycharmProjects/CodeGraphClassification/data/raw/repositories/zookeeper/src/java/test/org/apache/zookeeper/test/NullDataTest.java',\n '/home/sasce/PycharmProjects/CodeGraphClassification/data/raw/repositories/zookeeper/src/java/main/org/apache/zookeeper/server/quorum/ServerBean.java',\n '/home/sasce/PycharmProjects/CodeGraphClassification/data/raw/repositories/zookeeper/src/contrib/bookkeeper/src/java/org/apache/bookkeeper/client/AsyncCallback.java',\n '/home/sasce/PycharmProjects/CodeGraphClassification/data/raw/repositories/zookeeper/src/java/main/org/apache/zookeeper/Environment.java',\n '/home/sasce/PycharmProjects/CodeGraphClassification/data/raw/repositories/zookeeper/src/java/main/org/apache/zookeeper/server/persistence/FileSnap.java',\n '/home/sasce/PycharmProjects/CodeGraphClassification/data/raw/repositories/zookeeper/src/java/main/org/apache/zookeeper/AsyncCallback.java',\n '/home/sasce/PycharmProjects/CodeGraphClassification/data/raw/repositories/zookeeper/src/java/test/org/apache/zookeeper/test/KeeperStateTest.java',\n '/home/sasce/PycharmProjects/CodeGraphClassification/data/raw/repositories/zookeeper/src/contrib/bookkeeper/src/java/org/apache/bookkeeper/client/AsyncCallback.java',\n '/home/sasce/PycharmProjects/CodeGraphClassification/data/raw/repositories/zookeeper/src/contrib/bookkeeper/src/java/org/apache/bookkeeper/client/LedgerEntry.java',\n '/home/sasce/PycharmProjects/CodeGraphClassification/data/raw/repositories/zookeeper/src/java/main/org/apache/jute/OutputArchive.java',\n '/home/sasce/PycharmProjects/CodeGraphClassification/data/raw/repositories/zookeeper/src/java/test/org/apache/zookeeper/test/QuorumTest.java',\n '/home/sasce/PycharmProjects/CodeGraphClassification/data/raw/repositories/zookeeper/src/java/main/org/apache/zookeeper/ZooKeeper.java',\n '/home/sasce/PycharmProjects/CodeGraphClassification/data/raw/repositories/zookeeper/src/java/main/org/apache/zookeeper/server/ByteBufferInputStream.java',\n '/home/sasce/PycharmProjects/CodeGraphClassification/data/raw/repositories/zookeeper/src/java/test/org/apache/zookeeper/test/ZooKeeperTestClient.java',\n '/home/sasce/PycharmProjects/CodeGraphClassification/data/raw/repositories/zookeeper/src/contrib/bookkeeper/test/org/apache/bookkeeper/test/LoopbackClient.java',\n '/home/sasce/PycharmProjects/CodeGraphClassification/data/raw/repositories/zookeeper/src/contrib/bookkeeper/src/java/org/apache/bookkeeper/client/ClientCBWorker.java',\n '/home/sasce/PycharmProjects/CodeGraphClassification/data/raw/repositories/zookeeper/src/java/main/org/apache/jute/BinaryOutputArchive.java',\n '/home/sasce/PycharmProjects/CodeGraphClassification/data/raw/repositories/zookeeper/src/java/main/org/apache/zookeeper/Watcher.java',\n '/home/sasce/PycharmProjects/CodeGraphClassification/data/raw/repositories/zookeeper/src/java/main/org/apache/zookeeper/server/quorum/Leader.java',\n '/home/sasce/PycharmProjects/CodeGraphClassification/data/raw/repositories/zookeeper/src/contrib/bookkeeper/src/java/org/apache/bookkeeper/client/QuorumOpMonitor.java',\n '/home/sasce/PycharmProjects/CodeGraphClassification/data/raw/repositories/zookeeper/src/java/main/org/apache/jute/InputArchive.java',\n '/home/sasce/PycharmProjects/CodeGraphClassification/data/raw/repositories/zookeeper/src/java/main/org/apache/zookeeper/AsyncCallback.java',\n '/home/sasce/PycharmProjects/CodeGraphClassification/data/raw/repositories/zookeeper/src/java/main/org/apache/zookeeper/server/SessionTracker.java',\n '/home/sasce/PycharmProjects/CodeGraphClassification/data/raw/repositories/zookeeper/src/java/test/org/apache/zookeeper/test/QuorumQuotaTest.java',\n '/home/sasce/PycharmProjects/CodeGraphClassification/data/raw/repositories/zookeeper/src/java/main/org/apache/zookeeper/server/util/SerializeUtils.java',\n '/home/sasce/PycharmProjects/CodeGraphClassification/data/raw/repositories/zookeeper/src/java/test/org/apache/zookeeper/test/ClientTest.java',\n '/home/sasce/PycharmProjects/CodeGraphClassification/data/raw/repositories/zookeeper/src/contrib/bookkeeper/test/org/apache/bookkeeper/test/BookieFailureTest.java',\n '/home/sasce/PycharmProjects/CodeGraphClassification/data/raw/repositories/zookeeper/src/java/main/org/apache/zookeeper/server/quorum/FollowerZooKeeperServer.java',\n '/home/sasce/PycharmProjects/CodeGraphClassification/data/raw/repositories/zookeeper/src/java/main/org/apache/zookeeper/server/ServerStats.java',\n '/home/sasce/PycharmProjects/CodeGraphClassification/data/raw/repositories/zookeeper/src/java/systest/org/apache/zookeeper/test/system/SimpleClient.java',\n '/home/sasce/PycharmProjects/CodeGraphClassification/data/raw/repositories/zookeeper/src/java/main/org/apache/jute/BinaryInputArchive.java',\n '/home/sasce/PycharmProjects/CodeGraphClassification/data/raw/repositories/zookeeper/src/java/main/org/apache/zookeeper/server/quorum/FollowerHandler.java',\n '/home/sasce/PycharmProjects/CodeGraphClassification/data/raw/repositories/zookeeper/src/java/test/org/apache/zookeeper/test/StatTest.java',\n '/home/sasce/PycharmProjects/CodeGraphClassification/data/raw/repositories/zookeeper/src/java/main/org/apache/zookeeper/server/persistence/Util.java',\n '/home/sasce/PycharmProjects/CodeGraphClassification/data/raw/repositories/zookeeper/src/java/main/org/apache/zookeeper/AsyncCallback.java',\n '/home/sasce/PycharmProjects/CodeGraphClassification/data/raw/repositories/zookeeper/src/java/test/org/apache/zookeeper/test/LETest.java',\n '/home/sasce/PycharmProjects/CodeGraphClassification/data/raw/repositories/zookeeper/src/java/main/org/apache/zookeeper/AsyncCallback.java',\n '/home/sasce/PycharmProjects/CodeGraphClassification/data/raw/repositories/zookeeper/src/java/test/org/apache/zookeeper/server/ZooKeeperServerTest.java',\n '/home/sasce/PycharmProjects/CodeGraphClassification/data/raw/repositories/zookeeper/.',\n '/home/sasce/PycharmProjects/CodeGraphClassification/data/raw/repositories/zookeeper/src/java/test/org/apache/zookeeper/test/DataTreeTest.java',\n '/home/sasce/PycharmProjects/CodeGraphClassification/data/raw/repositories/zookeeper/src/java/main/org/apache/zookeeper/server/persistence/FileTxnSnapLog.java',\n '/home/sasce/PycharmProjects/CodeGraphClassification/data/raw/repositories/zookeeper/src/java/main/org/apache/zookeeper/server/quorum/LeaderElection.java',\n '/home/sasce/PycharmProjects/CodeGraphClassification/data/raw/repositories/zookeeper/src/java/main/org/apache/zookeeper/jmx/ManagedUtil.java',\n '/home/sasce/PycharmProjects/CodeGraphClassification/data/raw/repositories/zookeeper/src/java/main/org/apache/zookeeper/AsyncCallback.java',\n '/home/sasce/PycharmProjects/CodeGraphClassification/data/raw/repositories/zookeeper/src/java/main/org/apache/jute/CsvOutputArchive.java',\n '/home/sasce/PycharmProjects/CodeGraphClassification/data/raw/repositories/zookeeper/src/java/main/org/apache/zookeeper/server/ZooTrace.java',\n '/home/sasce/PycharmProjects/CodeGraphClassification/data/raw/repositories/zookeeper/src/java/test/org/apache/zookeeper/test/FLELostMessageTest.java',\n '/home/sasce/PycharmProjects/CodeGraphClassification/data/raw/repositories/zookeeper/src/java/main/org/apache/jute/Utils.java',\n '/home/sasce/PycharmProjects/CodeGraphClassification/data/raw/repositories/zookeeper/src/java/main/org/apache/zookeeper/server/ZooKeeperServerMain.java',\n '/home/sasce/PycharmProjects/CodeGraphClassification/data/raw/repositories/zookeeper/src/java/systest/org/apache/zookeeper/test/system/SimpleSysTest.java',\n '/home/sasce/PycharmProjects/CodeGraphClassification/data/raw/repositories/zookeeper/src/java/test/org/apache/zookeeper/test/WatcherFuncTest.java',\n '/home/sasce/PycharmProjects/CodeGraphClassification/data/raw/repositories/zookeeper/src/java/main/org/apache/zookeeper/server/ServerConfig.java',\n '/home/sasce/PycharmProjects/CodeGraphClassification/data/raw/repositories/zookeeper/src/java/main/org/apache/zookeeper/ZooDefs.java',\n '/home/sasce/PycharmProjects/CodeGraphClassification/data/raw/repositories/zookeeper/src/java/test/org/apache/zookeeper/test/SledgeHammer.java',\n '/home/sasce/PycharmProjects/CodeGraphClassification/data/raw/repositories/zookeeper/src/java/main/org/apache/zookeeper/server/persistence/FileTxnLog.java',\n '/home/sasce/PycharmProjects/CodeGraphClassification/data/raw/repositories/zookeeper/src/java/systest/org/apache/zookeeper/test/system/BaseSysTest.java',\n '/home/sasce/PycharmProjects/CodeGraphClassification/data/raw/repositories/zookeeper/src/java/main/org/apache/jute/CsvInputArchive.java',\n '/home/sasce/PycharmProjects/CodeGraphClassification/data/raw/repositories/zookeeper/src/java/test/org/apache/zookeeper/test/CnxManagerTest.java',\n '/home/sasce/PycharmProjects/CodeGraphClassification/data/raw/repositories/zookeeper/src/java/main/org/apache/zookeeper/server/WatchManager.java',\n '/home/sasce/PycharmProjects/CodeGraphClassification/data/raw/repositories/zookeeper/src/java/main/org/apache/jute/Index.java',\n '/home/sasce/PycharmProjects/CodeGraphClassification/data/raw/repositories/zookeeper/src/java/main/org/apache/zookeeper/server/quorum/SendAckRequestProcessor.java',\n '/home/sasce/PycharmProjects/CodeGraphClassification/data/raw/repositories/zookeeper/src/java/main/org/apache/zookeeper/server/Request.java',\n '/home/sasce/PycharmProjects/CodeGraphClassification/data/raw/repositories/zookeeper/src/java/test/org/apache/zookeeper/test/AuthTest.java',\n '/home/sasce/PycharmProjects/CodeGraphClassification/data/raw/repositories/zookeeper/src/java/main/org/apache/zookeeper/server/quorum/QuorumCnxManager.java',\n '/home/sasce/PycharmProjects/CodeGraphClassification/data/raw/repositories/zookeeper/src/java/systest/org/apache/zookeeper/test/system/InstanceManager.java',\n '/home/sasce/PycharmProjects/CodeGraphClassification/data/raw/repositories/zookeeper/.',\n '/home/sasce/PycharmProjects/CodeGraphClassification/data/raw/repositories/zookeeper/src/java/test/org/apache/zookeeper/server/ToStringTest.java',\n '/home/sasce/PycharmProjects/CodeGraphClassification/data/raw/repositories/zookeeper/src/java/test/org/apache/zookeeper/test/InvalidSnapshotTest.java',\n '/home/sasce/PycharmProjects/CodeGraphClassification/data/raw/repositories/zookeeper/src/java/main/org/apache/jute/RecordReader.java',\n '/home/sasce/PycharmProjects/CodeGraphClassification/data/raw/repositories/zookeeper/src/java/test/org/apache/zookeeper/server/InvalidSnapshotTest.java',\n '/home/sasce/PycharmProjects/CodeGraphClassification/data/raw/repositories/zookeeper/src/java/systest/org/apache/zookeeper/test/system/NoAvailableContainers.java',\n '/home/sasce/PycharmProjects/CodeGraphClassification/data/raw/repositories/zookeeper/src/java/main/org/apache/zookeeper/server/auth/IPAuthenticationProvider.java',\n '/home/sasce/PycharmProjects/CodeGraphClassification/data/raw/repositories/zookeeper/.',\n '/home/sasce/PycharmProjects/CodeGraphClassification/data/raw/repositories/zookeeper/src/java/main/org/apache/zookeeper/server/quorum/RemotePeerBean.java',\n '/home/sasce/PycharmProjects/CodeGraphClassification/data/raw/repositories/zookeeper/src/java/main/org/apache/jute/XmlInputArchive.java',\n '/home/sasce/PycharmProjects/CodeGraphClassification/data/raw/repositories/zookeeper/.',\n '/home/sasce/PycharmProjects/CodeGraphClassification/data/raw/repositories/zookeeper/.',\n '/home/sasce/PycharmProjects/CodeGraphClassification/data/raw/repositories/zookeeper/src/java/test/org/apache/zookeeper/test/MaxCnxnsTest.java',\n '/home/sasce/PycharmProjects/CodeGraphClassification/data/raw/repositories/zookeeper/src/java/main/org/apache/zookeeper/server/quorum/AuthFastLeaderElection.java',\n '/home/sasce/PycharmProjects/CodeGraphClassification/data/raw/repositories/zookeeper/src/java/main/org/apache/zookeeper/server/auth/DigestAuthenticationProvider.java',\n '/home/sasce/PycharmProjects/CodeGraphClassification/data/raw/repositories/zookeeper/src/java/main/org/apache/jute/compiler/generated/SimpleCharStream.java',\n '/home/sasce/PycharmProjects/CodeGraphClassification/data/raw/repositories/zookeeper/src/java/systest/org/apache/zookeeper/test/system/QuorumPeerInstance.java',\n '/home/sasce/PycharmProjects/CodeGraphClassification/data/raw/repositories/zookeeper/.',\n '/home/sasce/PycharmProjects/CodeGraphClassification/data/raw/repositories/zookeeper/src/java/main/org/apache/jute/compiler/generated/Rcc.java',\n '/home/sasce/PycharmProjects/CodeGraphClassification/data/raw/repositories/zookeeper/.',\n '/home/sasce/PycharmProjects/CodeGraphClassification/data/raw/repositories/zookeeper/src/java/main/org/apache/jute/XmlOutputArchive.java',\n '/home/sasce/PycharmProjects/CodeGraphClassification/data/raw/repositories/zookeeper/src/java/test/org/apache/zookeeper/test/AsyncTest.java',\n '/home/sasce/PycharmProjects/CodeGraphClassification/data/raw/repositories/zookeeper/src/java/main/org/apache/zookeeper/server/quorum/QuorumPeer.java',\n '/home/sasce/PycharmProjects/CodeGraphClassification/data/raw/repositories/zookeeper/src/java/main/org/apache/jute/compiler/JBuffer.java',\n '/home/sasce/PycharmProjects/CodeGraphClassification/data/raw/repositories/zookeeper/.',\n '/home/sasce/PycharmProjects/CodeGraphClassification/data/raw/repositories/zookeeper/src/java/main/org/apache/zookeeper/server/quorum/QuorumStats.java',\n '/home/sasce/PycharmProjects/CodeGraphClassification/data/raw/repositories/zookeeper/.',\n '/home/sasce/PycharmProjects/CodeGraphClassification/data/raw/repositories/zookeeper/.',\n '/home/sasce/PycharmProjects/CodeGraphClassification/data/raw/repositories/zookeeper/src/java/main/org/apache/jute/compiler/JFile.java',\n '/home/sasce/PycharmProjects/CodeGraphClassification/data/raw/repositories/zookeeper/src/java/systest/org/apache/zookeeper/test/system/GenerateLoad.java',\n '/home/sasce/PycharmProjects/CodeGraphClassification/data/raw/repositories/zookeeper/src/java/main/org/apache/zookeeper/server/quorum/ServerMXBean.java',\n '/home/sasce/PycharmProjects/CodeGraphClassification/data/raw/repositories/zookeeper/.',\n '/home/sasce/PycharmProjects/CodeGraphClassification/data/raw/repositories/zookeeper/src/java/main/org/apache/jute/RecordWriter.java',\n '/home/sasce/PycharmProjects/CodeGraphClassification/data/raw/repositories/zookeeper/.',\n '/home/sasce/PycharmProjects/CodeGraphClassification/data/raw/repositories/zookeeper/src/java/main/org/apache/jute/compiler/JField.java',\n '/home/sasce/PycharmProjects/CodeGraphClassification/data/raw/repositories/zookeeper/src/java/main/org/apache/zookeeper/server/PrepRequestProcessor.java',\n '/home/sasce/PycharmProjects/CodeGraphClassification/data/raw/repositories/zookeeper/src/java/main/org/apache/zookeeper/server/quorum/FollowerRequestProcessor.java',\n '/home/sasce/PycharmProjects/CodeGraphClassification/data/raw/repositories/zookeeper/.',\n '/home/sasce/PycharmProjects/CodeGraphClassification/data/raw/repositories/zookeeper/src/contrib/rest/src/java/org/apache/zookeeper/server/jersey/resources/RuntimeExceptionMapper.java',\n '/home/sasce/PycharmProjects/CodeGraphClassification/data/raw/repositories/zookeeper/src/java/main/org/apache/jute/compiler/JString.java',\n '/home/sasce/PycharmProjects/CodeGraphClassification/data/raw/repositories/zookeeper/src/java/main/org/apache/zookeeper/common/PathTrie.java',\n '/home/sasce/PycharmProjects/CodeGraphClassification/data/raw/repositories/zookeeper/src/java/main/org/apache/zookeeper/server/quorum/flexible/QuorumVerifier.java',\n '/home/sasce/PycharmProjects/CodeGraphClassification/data/raw/repositories/zookeeper/src/java/main/org/apache/zookeeper/server/quorum/RemotePeerMXBean.java',\n '/home/sasce/PycharmProjects/CodeGraphClassification/data/raw/repositories/zookeeper/src/java/main/org/apache/jute/compiler/JType.java',\n '/home/sasce/PycharmProjects/CodeGraphClassification/data/raw/repositories/zookeeper/src/contrib/rest/src/java/org/apache/zookeeper/server/jersey/resources/ZErrorWriter.java',\n '/home/sasce/PycharmProjects/CodeGraphClassification/data/raw/repositories/zookeeper/src/java/test/org/apache/zookeeper/test/TestHammer.java',\n '/home/sasce/PycharmProjects/CodeGraphClassification/data/raw/repositories/zookeeper/src/java/main/org/apache/zookeeper/server/quorum/QuorumPeerConfig.java',\n '/home/sasce/PycharmProjects/CodeGraphClassification/data/raw/repositories/zookeeper/.',\n '/home/sasce/PycharmProjects/CodeGraphClassification/data/raw/repositories/zookeeper/src/java/main/org/apache/jute/compiler/JVector.java',\n '/home/sasce/PycharmProjects/CodeGraphClassification/data/raw/repositories/zookeeper/.',\n '/home/sasce/PycharmProjects/CodeGraphClassification/data/raw/repositories/zookeeper/src/contrib/rest/src/java/org/apache/zookeeper/server/jersey/resources/ZNodeResource.java',\n '/home/sasce/PycharmProjects/CodeGraphClassification/data/raw/repositories/zookeeper/src/java/test/org/apache/zookeeper/test/UpgradeTest.java',\n '/home/sasce/PycharmProjects/CodeGraphClassification/data/raw/repositories/zookeeper/src/java/test/org/apache/zookeeper/server/CRCTest.java',\n '/home/sasce/PycharmProjects/CodeGraphClassification/data/raw/repositories/zookeeper/src/java/test/org/apache/zookeeper/test/RecoveryTest.java',\n '/home/sasce/PycharmProjects/CodeGraphClassification/data/raw/repositories/zookeeper/src/contrib/rest/src/java/org/apache/zookeeper/server/jersey/RestMain.java',\n '/home/sasce/PycharmProjects/CodeGraphClassification/data/raw/repositories/zookeeper/src/java/main/org/apache/jute/compiler/JRecord.java',\n '/home/sasce/PycharmProjects/CodeGraphClassification/data/raw/repositories/zookeeper/src/java/main/org/apache/zookeeper/server/quorum/flexible/QuorumMaj.java',\n '/home/sasce/PycharmProjects/CodeGraphClassification/data/raw/repositories/zookeeper/src/java/main/org/apache/zookeeper/server/SyncRequestProcessor.java',\n '/home/sasce/PycharmProjects/CodeGraphClassification/data/raw/repositories/zookeeper/src/contrib/rest/src/java/org/apache/zookeeper/server/jersey/ZooKeeperService.java',\n '/home/sasce/PycharmProjects/CodeGraphClassification/data/raw/repositories/zookeeper/src/java/main/org/apache/jute/compiler/JFloat.java',\n '/home/sasce/PycharmProjects/CodeGraphClassification/data/raw/repositories/zookeeper/src/java/test/org/apache/zookeeper/PortAssignment.java',\n '/home/sasce/PycharmProjects/CodeGraphClassification/data/raw/repositories/zookeeper/.',\n '/home/sasce/PycharmProjects/CodeGraphClassification/data/raw/repositories/zookeeper/src/contrib/rest/src/java/org/apache/zookeeper/server/jersey/resources/KeeperExceptionMapper.java',\n '/home/sasce/PycharmProjects/CodeGraphClassification/data/raw/repositories/zookeeper/src/java/main/org/apache/jute/compiler/JLong.java',\n '/home/sasce/PycharmProjects/CodeGraphClassification/data/raw/repositories/zookeeper/src/java/test/org/apache/zookeeper/test/ChrootTest.java',\n '/home/sasce/PycharmProjects/CodeGraphClassification/data/raw/repositories/zookeeper/src/java/main/org/apache/zookeeper/version/util/VerGen.java',\n '/home/sasce/PycharmProjects/CodeGraphClassification/data/raw/repositories/zookeeper/src/java/main/org/apache/zookeeper/server/NIOServerCnxn.java',\n '/home/sasce/PycharmProjects/CodeGraphClassification/data/raw/repositories/zookeeper/src/contrib/rest/src/java/org/apache/zookeeper/server/jersey/resources/JAXBContextResolver.java',\n '/home/sasce/PycharmProjects/CodeGraphClassification/data/raw/repositories/zookeeper/.',\n '/home/sasce/PycharmProjects/CodeGraphClassification/data/raw/repositories/zookeeper/src/java/main/org/apache/zookeeper/server/quorum/LeaderElectionMXBean.java',\n '/home/sasce/PycharmProjects/CodeGraphClassification/data/raw/repositories/zookeeper/src/java/main/org/apache/jute/compiler/JDouble.java',\n '/home/sasce/PycharmProjects/CodeGraphClassification/data/raw/repositories/zookeeper/.',\n '/home/sasce/PycharmProjects/CodeGraphClassification/data/raw/repositories/zookeeper/src/java/test/org/apache/zookeeper/test/ClientBase.java',\n '/home/sasce/PycharmProjects/CodeGraphClassification/data/raw/repositories/zookeeper/.',\n '/home/sasce/PycharmProjects/CodeGraphClassification/data/raw/repositories/zookeeper/src/java/main/org/apache/jute/compiler/CGenerator.java',\n '/home/sasce/PycharmProjects/CodeGraphClassification/data/raw/repositories/zookeeper/src/java/main/org/apache/jute/compiler/JBoolean.java',\n '/home/sasce/PycharmProjects/CodeGraphClassification/data/raw/repositories/zookeeper/src/java/test/org/apache/zookeeper/test/ACLTest.java',\n '/home/sasce/PycharmProjects/CodeGraphClassification/data/raw/repositories/zookeeper/.',\n '/home/sasce/PycharmProjects/CodeGraphClassification/data/raw/repositories/zookeeper/src/java/main/org/apache/zookeeper/server/ZooKeeperServer.java',\n '/home/sasce/PycharmProjects/CodeGraphClassification/data/raw/repositories/zookeeper/src/java/main/org/apache/jute/compiler/JMap.java',\n '/home/sasce/PycharmProjects/CodeGraphClassification/data/raw/repositories/zookeeper/src/java/main/org/apache/jute/compiler/CppGenerator.java',\n '/home/sasce/PycharmProjects/CodeGraphClassification/data/raw/repositories/zookeeper/.',\n '/home/sasce/PycharmProjects/CodeGraphClassification/data/raw/repositories/zookeeper/src/java/test/org/apache/zookeeper/server/quorum/QuorumPeerMainTest.java',\n '/home/sasce/PycharmProjects/CodeGraphClassification/data/raw/repositories/zookeeper/src/java/main/org/apache/zookeeper/server/upgrade/UpgradeMain.java',\n '/home/sasce/PycharmProjects/CodeGraphClassification/data/raw/repositories/zookeeper/src/java/main/org/apache/zookeeper/server/util/Profiler.java',\n '/home/sasce/PycharmProjects/CodeGraphClassification/data/raw/repositories/zookeeper/src/java/main/org/apache/jute/compiler/generated/Token.java',\n '/home/sasce/PycharmProjects/CodeGraphClassification/data/raw/repositories/zookeeper/.',\n '/home/sasce/PycharmProjects/CodeGraphClassification/data/raw/repositories/zookeeper/src/java/main/org/apache/jute/compiler/JCompType.java',\n '/home/sasce/PycharmProjects/CodeGraphClassification/data/raw/repositories/zookeeper/src/java/main/org/apache/zookeeper/server/quorum/QuorumPeerMain.java',\n '/home/sasce/PycharmProjects/CodeGraphClassification/data/raw/repositories/zookeeper/src/java/test/org/apache/zookeeper/test/AsyncOps.java',\n '/home/sasce/PycharmProjects/CodeGraphClassification/data/raw/repositories/zookeeper/.',\n '/home/sasce/PycharmProjects/CodeGraphClassification/data/raw/repositories/zookeeper/src/java/main/org/apache/jute/compiler/JInt.java',\n '/home/sasce/PycharmProjects/CodeGraphClassification/data/raw/repositories/zookeeper/src/java/test/org/apache/zookeeper/test/SessionTest.java',\n '/home/sasce/PycharmProjects/CodeGraphClassification/data/raw/repositories/zookeeper/src/java/main/org/apache/zookeeper/server/quorum/AckRequestProcessor.java',\n '/home/sasce/PycharmProjects/CodeGraphClassification/data/raw/repositories/zookeeper/src/recipes/lock/src/java/org/apache/zookeeper/recipes/lock/WriteLock.java',\n '/home/sasce/PycharmProjects/CodeGraphClassification/data/raw/repositories/zookeeper/src/java/main/org/apache/jute/compiler/generated/RccTokenManager.java',\n '/home/sasce/PycharmProjects/CodeGraphClassification/data/raw/repositories/zookeeper/src/java/test/org/apache/zookeeper/test/FLETest.java',\n '/home/sasce/PycharmProjects/CodeGraphClassification/data/raw/repositories/zookeeper/src/java/main/org/apache/jute/compiler/JavaGenerator.java',\n '/home/sasce/PycharmProjects/CodeGraphClassification/data/raw/repositories/zookeeper/src/contrib/bookkeeper/benchmark/org/apache/bookkeeper/benchmark/MySqlClient.java',\n '/home/sasce/PycharmProjects/CodeGraphClassification/data/raw/repositories/zookeeper/src/java/main/org/apache/zookeeper/server/quorum/LeaderZooKeeperServer.java',\n '/home/sasce/PycharmProjects/CodeGraphClassification/data/raw/repositories/zookeeper/src/java/test/org/apache/zookeeper/test/DisconnectableZooKeeper.java',\n '/home/sasce/PycharmProjects/CodeGraphClassification/data/raw/repositories/zookeeper/src/recipes/lock/src/java/org/apache/zookeeper/recipes/lock/ZooKeeperOperation.java',\n '/home/sasce/PycharmProjects/CodeGraphClassification/data/raw/repositories/zookeeper/src/java/main/org/apache/jute/compiler/JByte.java',\n '/home/sasce/PycharmProjects/CodeGraphClassification/data/raw/repositories/zookeeper/src/java/main/org/apache/zookeeper/server/RequestProcessor.java',\n '/home/sasce/PycharmProjects/CodeGraphClassification/data/raw/repositories/zookeeper/src/contrib/bookkeeper/benchmark/org/apache/bookkeeper/benchmark/TestClient.java',\n '/home/sasce/PycharmProjects/CodeGraphClassification/data/raw/repositories/zookeeper/src/java/test/org/apache/zookeeper/test/CreateModeTest.java',\n '/home/sasce/PycharmProjects/CodeGraphClassification/data/raw/repositories/zookeeper/src/recipes/lock/src/java/org/apache/zookeeper/recipes/lock/LockListener.java',\n '/home/sasce/PycharmProjects/CodeGraphClassification/data/raw/repositories/zookeeper/src/java/main/org/apache/jute/compiler/generated/RccConstants.java',\n '/home/sasce/PycharmProjects/CodeGraphClassification/data/raw/repositories/zookeeper/src/java/main/org/apache/zookeeper/server/SessionTrackerImpl.java',\n '/home/sasce/PycharmProjects/CodeGraphClassification/data/raw/repositories/zookeeper/src/java/test/org/apache/zookeeper/test/OOMTest.java',\n '/home/sasce/PycharmProjects/CodeGraphClassification/data/raw/repositories/zookeeper/src/recipes/lock/src/java/org/apache/zookeeper/recipes/lock/ProtocolSupport.java',\n '/home/sasce/PycharmProjects/CodeGraphClassification/data/raw/repositories/zookeeper/src/java/test/org/apache/zookeeper/test/AsyncHammerTest.java',\n '/home/sasce/PycharmProjects/CodeGraphClassification/data/raw/repositories/zookeeper/src/java/main/org/apache/jute/compiler/generated/ParseException.java',\n '/home/sasce/PycharmProjects/CodeGraphClassification/data/raw/repositories/zookeeper/src/java/main/org/apache/zookeeper/server/quorum/LocalPeerBean.java',\n '/home/sasce/PycharmProjects/CodeGraphClassification/data/raw/repositories/zookeeper/.',\n '/home/sasce/PycharmProjects/CodeGraphClassification/data/raw/repositories/zookeeper/src/recipes/lock/src/java/org/apache/zookeeper/recipes/lock/ZNodeName.java',\n '/home/sasce/PycharmProjects/CodeGraphClassification/data/raw/repositories/zookeeper/src/contrib/fatjar/src/java/org/apache/zookeeper/util/FatJarMain.java',\n '/home/sasce/PycharmProjects/CodeGraphClassification/data/raw/repositories/zookeeper/src/java/main/org/apache/zookeeper/server/quorum/LeaderBean.java',\n '/home/sasce/PycharmProjects/CodeGraphClassification/data/raw/repositories/zookeeper/.',\n '/home/sasce/PycharmProjects/CodeGraphClassification/data/raw/repositories/zookeeper/src/java/main/org/apache/jute/compiler/generated/TokenMgrError.java',\n '/home/sasce/PycharmProjects/CodeGraphClassification/data/raw/repositories/zookeeper/src/java/test/org/apache/zookeeper/test/SyncCallTest.java',\n '/home/sasce/PycharmProjects/CodeGraphClassification/data/raw/repositories/zookeeper/src/java/test/org/apache/zookeeper/server/DataTreeUnitTest.java',\n '/home/sasce/PycharmProjects/CodeGraphClassification/data/raw/repositories/zookeeper/src/java/test/org/apache/zookeeper/test/WatchedEventTest.java',\n '/home/sasce/PycharmProjects/CodeGraphClassification/data/raw/repositories/zookeeper/src/java/main/org/apache/zookeeper/server/quorum/CommitProcessor.java',\n '/home/sasce/PycharmProjects/CodeGraphClassification/data/raw/repositories/zookeeper/src/recipes/lock/test/org/apache/zookeeper/recipes/lock/ZNodeNameTest.java',\n '/home/sasce/PycharmProjects/CodeGraphClassification/data/raw/repositories/zookeeper/src/contrib/bookkeeper/src/java/org/apache/bookkeeper/bookie/LedgerDescriptor.java',\n '/home/sasce/PycharmProjects/CodeGraphClassification/data/raw/repositories/zookeeper/src/java/main/org/apache/zookeeper/server/DataTreeBean.java',\n '/home/sasce/PycharmProjects/CodeGraphClassification/data/raw/repositories/zookeeper/src/java/main/org/apache/zookeeper/AsyncCallback.java',\n '/home/sasce/PycharmProjects/CodeGraphClassification/data/raw/repositories/zookeeper/src/java/test/org/apache/zookeeper/test/RepeatStartupTest.java',\n '/home/sasce/PycharmProjects/CodeGraphClassification/data/raw/repositories/zookeeper/src/recipes/lock/test/org/apache/zookeeper/recipes/lock/WriteLockTest.java',\n '/home/sasce/PycharmProjects/CodeGraphClassification/data/raw/repositories/zookeeper/.',\n '/home/sasce/PycharmProjects/CodeGraphClassification/data/raw/repositories/zookeeper/src/java/main/org/apache/zookeeper/server/FinalRequestProcessor.java',\n '/home/sasce/PycharmProjects/CodeGraphClassification/data/raw/repositories/zookeeper/src/java/test/org/apache/zookeeper/test/WatcherTest.java',\n '/home/sasce/PycharmProjects/CodeGraphClassification/data/raw/repositories/zookeeper/src/contrib/rest/src/java/org/apache/zookeeper/server/jersey/jaxb/ZPath.java',\n '/home/sasce/PycharmProjects/CodeGraphClassification/data/raw/repositories/zookeeper/src/java/main/org/apache/zookeeper/common/PathUtils.java',\n '/home/sasce/PycharmProjects/CodeGraphClassification/data/raw/repositories/zookeeper/src/java/main/org/apache/zookeeper/server/ServerCnxn.java',\n '/home/sasce/PycharmProjects/CodeGraphClassification/data/raw/repositories/zookeeper/src/java/test/org/apache/zookeeper/TestableZooKeeper.java',\n '/home/sasce/PycharmProjects/CodeGraphClassification/data/raw/repositories/zookeeper/src/contrib/rest/src/java/org/apache/zookeeper/server/jersey/jaxb/ZChildrenJSON.java',\n '/home/sasce/PycharmProjects/CodeGraphClassification/data/raw/repositories/zookeeper/src/java/main/org/apache/zookeeper/ClientWatchManager.java',\n '/home/sasce/PycharmProjects/CodeGraphClassification/data/raw/repositories/zookeeper/src/java/main/org/apache/zookeeper/server/DataNode.java',\n '/home/sasce/PycharmProjects/CodeGraphClassification/data/raw/repositories/zookeeper/src/java/main/org/apache/zookeeper/server/quorum/ProposalRequestProcessor.java',\n '/home/sasce/PycharmProjects/CodeGraphClassification/data/raw/repositories/zookeeper/src/contrib/bookkeeper/test/org/apache/bookkeeper/test/LedgerRecoveryTest.java',\n '/home/sasce/PycharmProjects/CodeGraphClassification/data/raw/repositories/zookeeper/src/java/main/org/apache/zookeeper/ClientCnxn.java',\n '/home/sasce/PycharmProjects/CodeGraphClassification/data/raw/repositories/zookeeper/src/contrib/rest/src/java/org/apache/zookeeper/server/jersey/jaxb/ZChildren.java',\n '/home/sasce/PycharmProjects/CodeGraphClassification/data/raw/repositories/zookeeper/src/java/main/org/apache/zookeeper/jmx/CommonNames.java',\n '/home/sasce/PycharmProjects/CodeGraphClassification/data/raw/repositories/zookeeper/src/java/main/org/apache/zookeeper/server/auth/AuthenticationProvider.java',\n '/home/sasce/PycharmProjects/CodeGraphClassification/data/raw/repositories/zookeeper/src/java/main/org/apache/zookeeper/server/upgrade/DataTreeV1.java',\n '/home/sasce/PycharmProjects/CodeGraphClassification/data/raw/repositories/zookeeper/src/java/main/org/apache/zookeeper/jmx/MBeanRegistry.java',\n '/home/sasce/PycharmProjects/CodeGraphClassification/data/raw/repositories/zookeeper/src/contrib/rest/src/java/org/apache/zookeeper/server/jersey/jaxb/ZError.java',\n '/home/sasce/PycharmProjects/CodeGraphClassification/data/raw/repositories/zookeeper/src/contrib/bookkeeper/src/java/org/apache/bookkeeper/client/LedgerHandle.java',\n '/home/sasce/PycharmProjects/CodeGraphClassification/data/raw/repositories/zookeeper/src/java/main/org/apache/zookeeper/server/upgrade/DataNodeV1.java',\n '/home/sasce/PycharmProjects/CodeGraphClassification/data/raw/repositories/zookeeper/src/java/main/org/apache/zookeeper/server/auth/ProviderRegistry.java',\n '/home/sasce/PycharmProjects/CodeGraphClassification/data/raw/repositories/zookeeper/src/contrib/rest/src/java/org/apache/zookeeper/server/jersey/jaxb/ZStat.java',\n '/home/sasce/PycharmProjects/CodeGraphClassification/data/raw/repositories/zookeeper/src/java/test/org/apache/zookeeper/test/IntegrityCheck.java',\n '/home/sasce/PycharmProjects/CodeGraphClassification/data/raw/repositories/zookeeper/src/contrib/bookkeeper/src/java/org/apache/bookkeeper/client/BKException.java',\n '/home/sasce/PycharmProjects/CodeGraphClassification/data/raw/repositories/zookeeper/src/java/main/org/apache/zookeeper/server/quorum/QuorumStats.java',\n '/home/sasce/PycharmProjects/CodeGraphClassification/data/raw/repositories/zookeeper/src/java/test/org/apache/zookeeper/test/ChrootClientTest.java',\n '/home/sasce/PycharmProjects/CodeGraphClassification/data/raw/repositories/zookeeper/src/java/main/org/apache/zookeeper/JLineZNodeCompletor.java',\n '/home/sasce/PycharmProjects/CodeGraphClassification/data/raw/repositories/zookeeper/.',\n '/home/sasce/PycharmProjects/CodeGraphClassification/data/raw/repositories/zookeeper/src/java/main/org/apache/zookeeper/server/quorum/FollowerBean.java',\n '/home/sasce/PycharmProjects/CodeGraphClassification/data/raw/repositories/zookeeper/src/java/main/org/apache/zookeeper/server/upgrade/UpgradeSnapShotV1.java',\n '/home/sasce/PycharmProjects/CodeGraphClassification/data/raw/repositories/zookeeper/src/java/main/org/apache/zookeeper/server/TraceFormatter.java',\n '/home/sasce/PycharmProjects/CodeGraphClassification/data/raw/repositories/zookeeper/src/contrib/bookkeeper/src/java/org/apache/bookkeeper/util/ClientBase.java',\n '/home/sasce/PycharmProjects/CodeGraphClassification/data/raw/repositories/zookeeper/src/contrib/bookkeeper/src/java/org/apache/bookkeeper/proto/WriteCallback.java',\n '/home/sasce/PycharmProjects/CodeGraphClassification/data/raw/repositories/zookeeper/src/java/main/org/apache/zookeeper/server/ZooKeeperServerBean.java',\n '/home/sasce/PycharmProjects/CodeGraphClassification/data/raw/repositories/zookeeper/src/java/test/org/apache/zookeeper/test/ClientHammerTest.java',\n '/home/sasce/PycharmProjects/CodeGraphClassification/data/raw/repositories/zookeeper/src/java/test/org/apache/zookeeper/test/EventTypeTest.java',\n '/home/sasce/PycharmProjects/CodeGraphClassification/data/raw/repositories/zookeeper/src/java/main/org/apache/zookeeper/ServerAdminClient.java',\n '/home/sasce/PycharmProjects/CodeGraphClassification/data/raw/repositories/zookeeper/src/contrib/bookkeeper/src/java/org/apache/bookkeeper/client/BookKeeper.java',\n '/home/sasce/PycharmProjects/CodeGraphClassification/data/raw/repositories/zookeeper/src/java/main/org/apache/zookeeper/server/LogFormatter.java',\n '/home/sasce/PycharmProjects/CodeGraphClassification/data/raw/repositories/zookeeper/src/contrib/bookkeeper/src/java/org/apache/bookkeeper/proto/ServerStats.java',\n '/home/sasce/PycharmProjects/CodeGraphClassification/data/raw/repositories/zookeeper/src/java/main/org/apache/zookeeper/server/quorum/Follower.java',\n '/home/sasce/PycharmProjects/CodeGraphClassification/data/raw/repositories/zookeeper/src/java/main/org/apache/zookeeper/server/upgrade/UpgradeSnapShot.java',\n '/home/sasce/PycharmProjects/CodeGraphClassification/data/raw/repositories/zookeeper/src/contrib/bookkeeper/src/java/org/apache/bookkeeper/proto/BookieClient.java',\n '/home/sasce/PycharmProjects/CodeGraphClassification/data/raw/repositories/zookeeper/src/java/test/org/apache/zookeeper/test/ChrootAsyncTest.java',\n '/home/sasce/PycharmProjects/CodeGraphClassification/data/raw/repositories/zookeeper/src/java/test/org/apache/zookeeper/test/TruncateTest.java',\n '/home/sasce/PycharmProjects/CodeGraphClassification/data/raw/repositories/zookeeper/src/java/main/org/apache/zookeeper/server/quorum/FollowerMXBean.java',\n '/home/sasce/PycharmProjects/CodeGraphClassification/data/raw/repositories/zookeeper/src/java/test/org/apache/zookeeper/server/ZooKeeperServerMainTest.java',\n '/home/sasce/PycharmProjects/CodeGraphClassification/data/raw/repositories/zookeeper/src/contrib/bookkeeper/test/org/apache/bookkeeper/test/BookieReadWriteTest.java',\n '/home/sasce/PycharmProjects/CodeGraphClassification/data/raw/repositories/zookeeper/src/contrib/bookkeeper/src/java/org/apache/bookkeeper/proto/BookieProtocol.java',\n '/home/sasce/PycharmProjects/CodeGraphClassification/data/raw/repositories/zookeeper/src/java/test/org/apache/zookeeper/test/AsyncOpsTest.java',\n '/home/sasce/PycharmProjects/CodeGraphClassification/data/raw/repositories/zookeeper/src/contrib/bookkeeper/src/java/org/apache/bookkeeper/streaming/LedgerOutputStream.java',\n '/home/sasce/PycharmProjects/CodeGraphClassification/data/raw/repositories/zookeeper/src/contrib/bookkeeper/src/java/org/apache/bookkeeper/proto/ReadEntryCallback.java',\n '/home/sasce/PycharmProjects/CodeGraphClassification/data/raw/repositories/zookeeper/src/java/main/org/apache/zookeeper/server/ConnectionBean.java',\n '/home/sasce/PycharmProjects/CodeGraphClassification/data/raw/repositories/zookeeper/src/java/test/org/apache/zookeeper/test/QuorumHammerTest.java',\n '/home/sasce/PycharmProjects/CodeGraphClassification/data/raw/repositories/zookeeper/src/java/main/org/apache/zookeeper/server/quorum/FollowerSyncRequest.java',\n '/home/sasce/PycharmProjects/CodeGraphClassification/data/raw/repositories/zookeeper/src/java/test/org/apache/zookeeper/test/FLENewEpochTest.java',\n '/home/sasce/PycharmProjects/CodeGraphClassification/data/raw/repositories/zookeeper/src/contrib/bookkeeper/src/java/org/apache/bookkeeper/streaming/LedgerInputStream.java',\n '/home/sasce/PycharmProjects/CodeGraphClassification/data/raw/repositories/zookeeper/src/java/main/org/apache/zookeeper/server/ConnectionMXBean.java',\n '/home/sasce/PycharmProjects/CodeGraphClassification/data/raw/repositories/zookeeper/src/contrib/bookkeeper/src/java/org/apache/bookkeeper/proto/NIOServerFactory.java',\n '/home/sasce/PycharmProjects/CodeGraphClassification/data/raw/repositories/zookeeper/src/contrib/bookkeeper/src/java/org/apache/bookkeeper/util/LocalBookKeeper.java',\n '/home/sasce/PycharmProjects/CodeGraphClassification/data/raw/repositories/zookeeper/src/java/main/org/apache/zookeeper/server/quorum/FastLeaderElection.java',\n '/home/sasce/PycharmProjects/CodeGraphClassification/data/raw/repositories/zookeeper/src/java/test/org/apache/zookeeper/test/FLERestartTest.java',\n '/home/sasce/PycharmProjects/CodeGraphClassification/data/raw/repositories/zookeeper/src/contrib/bookkeeper/src/java/org/apache/bookkeeper/client/LedgerSequence.java',\n '/home/sasce/PycharmProjects/CodeGraphClassification/data/raw/repositories/zookeeper/src/java/main/org/apache/zookeeper/server/quorum/QuorumBean.java',\n '/home/sasce/PycharmProjects/CodeGraphClassification/data/raw/repositories/zookeeper/src/contrib/bookkeeper/src/java/org/apache/bookkeeper/proto/BookieServer.java',\n '/home/sasce/PycharmProjects/CodeGraphClassification/data/raw/repositories/zookeeper/src/java/main/org/apache/zookeeper/server/quorum/Vote.java',\n '/home/sasce/PycharmProjects/CodeGraphClassification/data/raw/repositories/zookeeper/src/java/main/org/apache/zookeeper/server/ServerStats.java',\n '/home/sasce/PycharmProjects/CodeGraphClassification/data/raw/repositories/zookeeper/src/java/main/org/apache/zookeeper/jmx/ZKMBeanInfo.java',\n '/home/sasce/PycharmProjects/CodeGraphClassification/data/raw/repositories/zookeeper/src/contrib/bookkeeper/src/java/org/apache/bookkeeper/bookie/BookieException.java',\n '/home/sasce/PycharmProjects/CodeGraphClassification/data/raw/repositories/zookeeper/.',\n '/home/sasce/PycharmProjects/CodeGraphClassification/data/raw/repositories/zookeeper/src/java/test/org/apache/zookeeper/test/DBSizeTest.java',\n '/home/sasce/PycharmProjects/CodeGraphClassification/data/raw/repositories/zookeeper/src/contrib/bookkeeper/src/java/org/apache/bookkeeper/client/AsyncCallback.java',\n '/home/sasce/PycharmProjects/CodeGraphClassification/data/raw/repositories/zookeeper/src/java/test/org/apache/zookeeper/test/ZooKeeperQuotaTest.java',\n '/home/sasce/PycharmProjects/CodeGraphClassification/data/raw/repositories/zookeeper/src/java/main/org/apache/zookeeper/server/quorum/QuorumMXBean.java',\n '/home/sasce/PycharmProjects/CodeGraphClassification/data/raw/repositories/zookeeper/src/java/main/org/apache/zookeeper/Version.java',\n '/home/sasce/PycharmProjects/CodeGraphClassification/data/raw/repositories/zookeeper/src/contrib/bookkeeper/src/java/org/apache/bookkeeper/client/AsyncCallback.java',\n '/home/sasce/PycharmProjects/CodeGraphClassification/data/raw/repositories/zookeeper/src/contrib/bookkeeper/src/java/org/apache/bookkeeper/bookie/Bookie.java',\n '/home/sasce/PycharmProjects/CodeGraphClassification/data/raw/repositories/zookeeper/src/contrib/bookkeeper/src/java/org/apache/bookkeeper/util/Main.java',\n '/home/sasce/PycharmProjects/CodeGraphClassification/data/raw/repositories/zookeeper/.',\n '/home/sasce/PycharmProjects/CodeGraphClassification/data/raw/repositories/zookeeper/src/java/main/org/apache/zookeeper/StatsTrack.java',\n '/home/sasce/PycharmProjects/CodeGraphClassification/data/raw/repositories/zookeeper/src/java/test/org/apache/zookeeper/test/PurgeTxnTest.java',\n '/home/sasce/PycharmProjects/CodeGraphClassification/data/raw/repositories/zookeeper/src/contrib/bookkeeper/test/org/apache/bookkeeper/test/CloseTest.java',\n '/home/sasce/PycharmProjects/CodeGraphClassification/data/raw/repositories/zookeeper/.',\n '/home/sasce/PycharmProjects/CodeGraphClassification/data/raw/repositories/zookeeper/src/contrib/bookkeeper/src/java/org/apache/bookkeeper/proto/NIOServerFactory.java',\n '/home/sasce/PycharmProjects/CodeGraphClassification/data/raw/repositories/zookeeper/src/java/main/org/apache/zookeeper/server/quorum/FollowerSessionTracker.java',\n '/home/sasce/PycharmProjects/CodeGraphClassification/data/raw/repositories/zookeeper/src/java/main/org/apache/zookeeper/Quotas.java',\n '/home/sasce/PycharmProjects/CodeGraphClassification/data/raw/repositories/zookeeper/src/java/main/org/apache/zookeeper/server/DataTreeMXBean.java',\n '/home/sasce/PycharmProjects/CodeGraphClassification/data/raw/repositories/zookeeper/src/contrib/bookkeeper/src/java/org/apache/bookkeeper/client/LedgerRecoveryMonitor.java',\n '/home/sasce/PycharmProjects/CodeGraphClassification/data/raw/repositories/zookeeper/src/java/main/org/apache/zookeeper/server/SessionTracker.java',\n '/home/sasce/PycharmProjects/CodeGraphClassification/data/raw/repositories/zookeeper/src/java/main/org/apache/zookeeper/server/PurgeTxnLog.java',\n '/home/sasce/PycharmProjects/CodeGraphClassification/data/raw/repositories/zookeeper/.',\n '/home/sasce/PycharmProjects/CodeGraphClassification/data/raw/repositories/zookeeper/src/java/main/org/apache/zookeeper/ZooKeeperMain.java',\n '/home/sasce/PycharmProjects/CodeGraphClassification/data/raw/repositories/zookeeper/src/java/systest/org/apache/zookeeper/test/system/NoAssignmentException.java',\n '/home/sasce/PycharmProjects/CodeGraphClassification/data/raw/repositories/zookeeper/src/java/main/org/apache/zookeeper/server/quorum/LeaderElectionBean.java',\n '/home/sasce/PycharmProjects/CodeGraphClassification/data/raw/repositories/zookeeper/src/contrib/bookkeeper/src/java/org/apache/bookkeeper/client/BKDefs.java',\n '/home/sasce/PycharmProjects/CodeGraphClassification/data/raw/repositories/zookeeper/src/contrib/bookkeeper/test/org/apache/bookkeeper/test/NIOServerFactoryTest.java',\n '/home/sasce/PycharmProjects/CodeGraphClassification/data/raw/repositories/zookeeper/.',\n '/home/sasce/PycharmProjects/CodeGraphClassification/data/raw/repositories/zookeeper/src/java/systest/org/apache/zookeeper/test/system/DuplicateNameException.java',\n '/home/sasce/PycharmProjects/CodeGraphClassification/data/raw/repositories/zookeeper/src/java/test/org/apache/zookeeper/test/HierarchicalQuorumTest.java',\n '/home/sasce/PycharmProjects/CodeGraphClassification/data/raw/repositories/zookeeper/src/java/main/org/apache/zookeeper/server/quorum/Election.java',\n '/home/sasce/PycharmProjects/CodeGraphClassification/data/raw/repositories/zookeeper/src/contrib/bookkeeper/src/java/org/apache/bookkeeper/client/LedgerManagementProcessor.java',\n '/home/sasce/PycharmProjects/CodeGraphClassification/data/raw/repositories/zookeeper/src/java/test/org/apache/zookeeper/server/SerializationPerfTest.java',\n '/home/sasce/PycharmProjects/CodeGraphClassification/data/raw/repositories/zookeeper/src/java/main/org/apache/zookeeper/server/quorum/flexible/QuorumHierarchical.java',\n '/home/sasce/PycharmProjects/CodeGraphClassification/data/raw/repositories/zookeeper/src/contrib/bookkeeper/test/org/apache/bookkeeper/test/AsyncLedgerOpsTest.java']"
     },
     "execution_count": 51,
     "metadata": {},
     "output_type": "execute_result"
    }
   ],
   "source": [
    "files"
   ],
   "metadata": {
    "collapsed": false
   }
  },
  {
   "cell_type": "code",
   "execution_count": 65,
   "outputs": [
    {
     "name": "stdout",
     "output_type": "stream",
     "text": [
      "[Errno 21] Is a directory: '/home/sasce/PycharmProjects/CodeGraphClassification/data/raw/repositories/zookeeper/.'\n",
      "12006\n",
      "4229\n",
      "9113\n",
      "3175\n",
      "20125\n",
      "1184\n",
      "1137\n",
      "5979\n",
      "12570\n",
      "4435\n",
      "2253\n",
      "2756\n",
      "2718\n",
      "6779\n",
      "7992\n",
      "2054\n",
      "1944\n",
      "2509\n",
      "1863\n",
      "6306\n",
      "39600\n",
      "2509\n",
      "2806\n",
      "2495\n",
      "1256\n",
      "2509\n",
      "3335\n",
      "8903\n",
      "1880\n",
      "2322\n",
      "2509\n",
      "1503\n",
      "2046\n",
      "8403\n",
      "52465\n",
      "2006\n",
      "12667\n",
      "3546\n",
      "4089\n",
      "4394\n",
      "4697\n",
      "22505\n",
      "16759\n",
      "1857\n",
      "1880\n",
      "2088\n",
      "2755\n",
      "3799\n",
      "27471\n",
      "13708\n",
      "8005\n",
      "3871\n",
      "3871\n",
      "3827\n",
      "17647\n",
      "6922\n",
      "11315\n",
      "1880\n",
      "5010\n",
      "1880\n",
      "3132\n",
      "[Errno 21] Is a directory: '/home/sasce/PycharmProjects/CodeGraphClassification/data/raw/repositories/zookeeper/.'\n",
      "2133\n",
      "9395\n",
      "9582\n",
      "2615\n",
      "1880\n",
      "4406\n",
      "3021\n",
      "6536\n",
      "8409\n",
      "4238\n",
      "6661\n",
      "16543\n",
      "3215\n",
      "3298\n",
      "3943\n",
      "18074\n",
      "9202\n",
      "6332\n",
      "6325\n",
      "3853\n",
      "1252\n",
      "2833\n",
      "6098\n",
      "2872\n",
      "20891\n",
      "13286\n",
      "[Errno 21] Is a directory: '/home/sasce/PycharmProjects/CodeGraphClassification/data/raw/repositories/zookeeper/.'\n",
      "1361\n",
      "3550\n",
      "3108\n",
      "4124\n",
      "1042\n",
      "3639\n",
      "[Errno 21] Is a directory: '/home/sasce/PycharmProjects/CodeGraphClassification/data/raw/repositories/zookeeper/.'\n",
      "1533\n",
      "8097\n",
      "[Errno 21] Is a directory: '/home/sasce/PycharmProjects/CodeGraphClassification/data/raw/repositories/zookeeper/.'\n",
      "[Errno 21] Is a directory: '/home/sasce/PycharmProjects/CodeGraphClassification/data/raw/repositories/zookeeper/.'\n",
      "4071\n",
      "36591\n",
      "4562\n",
      "11991\n",
      "10542\n",
      "[Errno 21] Is a directory: '/home/sasce/PycharmProjects/CodeGraphClassification/data/raw/repositories/zookeeper/.'\n",
      "15162\n",
      "[Errno 21] Is a directory: '/home/sasce/PycharmProjects/CodeGraphClassification/data/raw/repositories/zookeeper/.'\n",
      "7407\n",
      "5843\n",
      "21875\n",
      "4135\n",
      "[Errno 21] Is a directory: '/home/sasce/PycharmProjects/CodeGraphClassification/data/raw/repositories/zookeeper/.'\n",
      "2295\n",
      "[Errno 21] Is a directory: '/home/sasce/PycharmProjects/CodeGraphClassification/data/raw/repositories/zookeeper/.'\n",
      "[Errno 21] Is a directory: '/home/sasce/PycharmProjects/CodeGraphClassification/data/raw/repositories/zookeeper/.'\n",
      "2724\n",
      "25878\n",
      "1098\n",
      "[Errno 21] Is a directory: '/home/sasce/PycharmProjects/CodeGraphClassification/data/raw/repositories/zookeeper/.'\n",
      "3834\n",
      "[Errno 21] Is a directory: '/home/sasce/PycharmProjects/CodeGraphClassification/data/raw/repositories/zookeeper/.'\n",
      "2579\n",
      "21735\n",
      "3918\n",
      "[Errno 21] Is a directory: '/home/sasce/PycharmProjects/CodeGraphClassification/data/raw/repositories/zookeeper/.'\n",
      "1663\n",
      "1521\n",
      "8317\n",
      "1166\n",
      "1113\n",
      "4394\n",
      "2245\n",
      "2211\n",
      "10755\n",
      "[Errno 21] Is a directory: '/home/sasce/PycharmProjects/CodeGraphClassification/data/raw/repositories/zookeeper/.'\n",
      "4162\n",
      "[Errno 21] Is a directory: '/home/sasce/PycharmProjects/CodeGraphClassification/data/raw/repositories/zookeeper/.'\n",
      "13936\n",
      "4224\n",
      "7097\n",
      "8510\n",
      "2594\n",
      "21732\n",
      "1567\n",
      "5644\n",
      "3805\n",
      "1231\n",
      "1230\n",
      "[Errno 21] Is a directory: '/home/sasce/PycharmProjects/CodeGraphClassification/data/raw/repositories/zookeeper/.'\n",
      "2874\n",
      "1230\n",
      "4368\n",
      "4989\n",
      "40264\n",
      "2671\n",
      "[Errno 21] Is a directory: '/home/sasce/PycharmProjects/CodeGraphClassification/data/raw/repositories/zookeeper/.'\n",
      "1055\n",
      "1297\n",
      "[Errno 21] Is a directory: '/home/sasce/PycharmProjects/CodeGraphClassification/data/raw/repositories/zookeeper/.'\n",
      "16763\n",
      "[Errno 21] Is a directory: '/home/sasce/PycharmProjects/CodeGraphClassification/data/raw/repositories/zookeeper/.'\n",
      "3344\n",
      "1372\n",
      "6922\n",
      "[Errno 21] Is a directory: '/home/sasce/PycharmProjects/CodeGraphClassification/data/raw/repositories/zookeeper/.'\n",
      "22142\n",
      "4248\n",
      "3120\n",
      "[Errno 21] Is a directory: '/home/sasce/PycharmProjects/CodeGraphClassification/data/raw/repositories/zookeeper/.'\n",
      "10770\n",
      "6717\n",
      "1448\n",
      "3489\n",
      "[Errno 21] Is a directory: '/home/sasce/PycharmProjects/CodeGraphClassification/data/raw/repositories/zookeeper/.'\n",
      "1995\n",
      "5878\n",
      "16077\n",
      "[Errno 21] Is a directory: '/home/sasce/PycharmProjects/CodeGraphClassification/data/raw/repositories/zookeeper/.'\n",
      "1100\n",
      "10779\n",
      "1736\n",
      "10997\n",
      "23696\n",
      "12464\n",
      "1949\n",
      "4667\n",
      "5821\n",
      "1973\n",
      "1453\n",
      "1099\n",
      "1519\n",
      "8355\n",
      "2755\n",
      "1228\n",
      "2124\n",
      "8637\n",
      "5902\n",
      "5965\n",
      "6091\n",
      "7247\n",
      "1873\n",
      "[Errno 21] Is a directory: '/home/sasce/PycharmProjects/CodeGraphClassification/data/raw/repositories/zookeeper/.'\n",
      "3217\n",
      "4472\n",
      "1768\n",
      "[Errno 21] Is a directory: '/home/sasce/PycharmProjects/CodeGraphClassification/data/raw/repositories/zookeeper/.'\n",
      "5033\n",
      "3391\n",
      "1829\n",
      "3409\n",
      "7104\n",
      "2075\n",
      "5079\n",
      "2004\n",
      "1880\n",
      "2796\n",
      "5281\n",
      "[Errno 21] Is a directory: '/home/sasce/PycharmProjects/CodeGraphClassification/data/raw/repositories/zookeeper/.'\n",
      "12083\n",
      "13344\n",
      "1644\n",
      "3739\n",
      "2968\n",
      "2252\n",
      "2250\n",
      "1502\n",
      "4260\n",
      "3006\n",
      "11253\n",
      "44587\n",
      "2389\n",
      "1144\n",
      "2944\n",
      "20703\n",
      "6569\n",
      "1240\n",
      "24676\n",
      "3967\n",
      "2982\n",
      "3044\n",
      "7355\n",
      "5251\n",
      "2295\n",
      "1808\n",
      "2832\n",
      "[Errno 21] Is a directory: '/home/sasce/PycharmProjects/CodeGraphClassification/data/raw/repositories/zookeeper/.'\n",
      "1646\n",
      "12433\n",
      "3818\n",
      "11438\n",
      "1152\n",
      "3174\n",
      "8404\n",
      "1633\n",
      "10652\n",
      "20519\n",
      "2782\n",
      "4038\n",
      "16581\n",
      "1188\n",
      "14783\n",
      "1604\n",
      "5495\n",
      "1293\n",
      "4223\n",
      "24498\n",
      "2677\n",
      "4556\n",
      "4520\n",
      "1207\n",
      "3683\n",
      "1626\n",
      "1253\n",
      "6669\n",
      "5534\n",
      "2074\n",
      "18815\n",
      "5284\n",
      "26376\n",
      "6860\n",
      "1852\n",
      "1424\n",
      "7520\n",
      "1923\n",
      "3871\n",
      "1332\n",
      "2330\n",
      "[Errno 21] Is a directory: '/home/sasce/PycharmProjects/CodeGraphClassification/data/raw/repositories/zookeeper/.'\n",
      "3160\n",
      "2509\n",
      "3081\n",
      "1157\n",
      "2663\n",
      "2509\n",
      "12281\n",
      "1717\n",
      "[Errno 21] Is a directory: '/home/sasce/PycharmProjects/CodeGraphClassification/data/raw/repositories/zookeeper/.'\n",
      "2773\n",
      "3425\n",
      "9681\n",
      "[Errno 21] Is a directory: '/home/sasce/PycharmProjects/CodeGraphClassification/data/raw/repositories/zookeeper/.'\n",
      "18815\n",
      "2960\n",
      "2103\n",
      "1480\n",
      "7528\n",
      "2088\n",
      "4797\n",
      "[Errno 21] Is a directory: '/home/sasce/PycharmProjects/CodeGraphClassification/data/raw/repositories/zookeeper/.'\n",
      "30608\n",
      "962\n",
      "1319\n",
      "2585\n",
      "2075\n",
      "[Errno 21] Is a directory: '/home/sasce/PycharmProjects/CodeGraphClassification/data/raw/repositories/zookeeper/.'\n",
      "1038\n",
      "9757\n",
      "993\n",
      "37575\n",
      "4554\n",
      "8805\n",
      "13634\n"
     ]
    }
   ],
   "source": [
    "contents = []\n",
    "for file in files:\n",
    "    try:\n",
    "        with open(file, 'rt') as inf:\n",
    "            text = inf.read()\n",
    "            contents.append(text)\n",
    "            print(len(text))\n",
    "    except Exception as e:\n",
    "        print(e)"
   ],
   "metadata": {
    "collapsed": false
   }
  },
  {
   "cell_type": "code",
   "execution_count": 66,
   "outputs": [
    {
     "data": {
      "text/plain": "291"
     },
     "execution_count": 66,
     "metadata": {},
     "output_type": "execute_result"
    }
   ],
   "source": [
    "len(contents)"
   ],
   "metadata": {
    "collapsed": false
   }
  },
  {
   "cell_type": "code",
   "execution_count": 67,
   "outputs": [],
   "source": [
    "text = \" \".join(contents)"
   ],
   "metadata": {
    "collapsed": false
   }
  },
  {
   "cell_type": "code",
   "execution_count": 71,
   "outputs": [],
   "source": [
    "import re\n",
    "splitted = re.sub('([A-Z][a-z]+)', r' \\1', re.sub('([A-Z]+)', r' \\1', text)).split()"
   ],
   "metadata": {
    "collapsed": false
   }
  },
  {
   "cell_type": "code",
   "execution_count": 6,
   "outputs": [],
   "source": [],
   "metadata": {
    "collapsed": false
   }
  },
  {
   "cell_type": "code",
   "execution_count": 8,
   "outputs": [
    {
     "ename": "NameError",
     "evalue": "name 'text' is not defined",
     "output_type": "error",
     "traceback": [
      "\u001B[0;31m---------------------------------------------------------------------------\u001B[0m",
      "\u001B[0;31mNameError\u001B[0m                                 Traceback (most recent call last)",
      "Cell \u001B[0;32mIn [8], line 4\u001B[0m\n\u001B[1;32m      1\u001B[0m \u001B[38;5;28;01mimport\u001B[39;00m \u001B[38;5;21;01myake\u001B[39;00m\n\u001B[1;32m      3\u001B[0m kw_extractor \u001B[38;5;241m=\u001B[39m yake\u001B[38;5;241m.\u001B[39mKeywordExtractor(n\u001B[38;5;241m=\u001B[39m\u001B[38;5;241m1\u001B[39m, stopwords\u001B[38;5;241m=\u001B[39mjava_stopwords)\n\u001B[0;32m----> 4\u001B[0m keywords \u001B[38;5;241m=\u001B[39m kw_extractor\u001B[38;5;241m.\u001B[39mextract_keywords(\u001B[43mtext\u001B[49m\u001B[38;5;241m.\u001B[39mlower())\n",
      "\u001B[0;31mNameError\u001B[0m: name 'text' is not defined"
     ]
    }
   ],
   "source": [
    "import yake\n",
    "\n",
    "kw_extractor = yake.KeywordExtractor(n=1)\n",
    "keywords = kw_extractor.extract_keywords(\" \".join(splitted))\n"
   ],
   "metadata": {
    "collapsed": false
   }
  },
  {
   "cell_type": "code",
   "execution_count": 78,
   "outputs": [
    {
     "name": "stdout",
     "output_type": "stream",
     "text": [
      "('Exception', 1.73087061043347e-06)\n",
      "('String', 2.460200569464624e-06)\n",
      "('license', 3.671786136386227e-06)\n",
      "('Keeper', 7.879958311848935e-06)\n",
      "('file', 1.2026419633239945e-05)\n",
      "('server', 1.4346511936508687e-05)\n",
      "('Data', 1.6288105135292898e-05)\n",
      "('Path', 2.017023339685878e-05)\n",
      "('byte', 2.0629635963441216e-05)\n",
      "('int', 2.1317251820940788e-05)\n",
      "('Zoo', 2.3700907627787953e-05)\n",
      "('long', 2.8218643203669898e-05)\n",
      "('Node', 2.920863112688496e-05)\n",
      "('licenses', 2.946291841162328e-05)\n",
      "('Client', 3.128880088351355e-05)\n",
      "('Quorum', 3.5030005243210734e-05)\n",
      "('List', 3.570026772226667e-05)\n",
      "('request', 3.685250040856439e-05)\n",
      "('ACL', 3.9523330607590445e-05)\n",
      "('Set', 4.033902077015476e-05)\n"
     ]
    }
   ],
   "source": [
    "for kw in keywords:\n",
    "    print(kw)"
   ],
   "metadata": {
    "collapsed": false
   }
  },
  {
   "cell_type": "code",
   "execution_count": null,
   "outputs": [],
   "source": [],
   "metadata": {
    "collapsed": false
   }
  }
 ],
 "metadata": {
  "kernelspec": {
   "display_name": "Python 3",
   "language": "python",
   "name": "python3"
  },
  "language_info": {
   "codemirror_mode": {
    "name": "ipython",
    "version": 2
   },
   "file_extension": ".py",
   "mimetype": "text/x-python",
   "name": "python",
   "nbconvert_exporter": "python",
   "pygments_lexer": "ipython2",
   "version": "2.7.6"
  }
 },
 "nbformat": 4,
 "nbformat_minor": 0
}
