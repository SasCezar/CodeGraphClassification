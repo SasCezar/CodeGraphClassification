{
 "cells": [
  {
   "cell_type": "code",
   "execution_count": 1,
   "metadata": {
    "collapsed": true
   },
   "outputs": [],
   "source": [
    "graph_dir = \"/home/sasce/PycharmProjects/CodeGraphClassification/data/interim/arcanOutput\"\n",
    "feature_dir = \"/home/sasce/PycharmProjects/CodeGraphClassification/data/processed/embedding/name/fastText\"\n",
    "out_dir = \"/home/sasce/PycharmProjects/CodeGraphClassification/data/processed/torch\"\n",
    "project_path = \"/home/sasce/PycharmProjects/CodeGraphClassification/data/raw/dev_dataset.csv\""
   ]
  },
  {
   "cell_type": "code",
   "execution_count": 2,
   "outputs": [],
   "source": [
    "import pandas\n",
    "\n",
    "from data.dataset import GitRankingDataset"
   ],
   "metadata": {
    "collapsed": false
   }
  },
  {
   "cell_type": "code",
   "execution_count": 3,
   "outputs": [],
   "source": [
    "\n",
    "from utils import encode_labels\n",
    "\n",
    "projects = pandas.read_csv(project_path)\n"
   ],
   "metadata": {
    "collapsed": false
   }
  },
  {
   "cell_type": "code",
   "execution_count": 4,
   "outputs": [
    {
     "data": {
      "text/plain": "'[3, 5]'"
     },
     "execution_count": 4,
     "metadata": {},
     "output_type": "execute_result"
    }
   ],
   "source": [
    "projects['level'].tolist()[0]"
   ],
   "metadata": {
    "collapsed": false
   }
  },
  {
   "cell_type": "code",
   "execution_count": 5,
   "outputs": [],
   "source": [
    "projects = encode_labels(projects)"
   ],
   "metadata": {
    "collapsed": false
   }
  },
  {
   "cell_type": "code",
   "execution_count": 6,
   "outputs": [],
   "source": [
    "from more_itertools import flatten\n",
    "\n",
    "num_classes = len(set(flatten(projects[\"label\"].tolist())))"
   ],
   "metadata": {
    "collapsed": false
   }
  },
  {
   "cell_type": "code",
   "execution_count": 7,
   "outputs": [],
   "source": [
    "data = GitRankingDataset(graph_dir, feature_dir, out_dir, projects, 300, num_classes)"
   ],
   "metadata": {
    "collapsed": false
   }
  },
  {
   "cell_type": "code",
   "execution_count": 8,
   "outputs": [],
   "source": [
    "from torch_geometric.loader import DataLoader\n",
    "\n",
    "dl = DataLoader(data, shuffle=True, batch_size=8)"
   ],
   "metadata": {
    "collapsed": false
   }
  },
  {
   "cell_type": "code",
   "execution_count": 9,
   "outputs": [
    {
     "data": {
      "text/plain": "<torch_geometric.loader.dataloader.DataLoader at 0x7f7cd96b7c70>"
     },
     "execution_count": 9,
     "metadata": {},
     "output_type": "execute_result"
    }
   ],
   "source": [
    "dl"
   ],
   "metadata": {
    "collapsed": false
   }
  },
  {
   "cell_type": "code",
   "execution_count": 13,
   "outputs": [
    {
     "name": "stdout",
     "output_type": "stream",
     "text": [
      "DataBatch(x=[911, 300], edge_index=[2, 4814], y=[8, 267], name=[8], version=[8], sha=[8], label_id=[8], label_text=[8], batch=[911], ptr=[9])\n",
      "DataBatch(x=[1185, 300], edge_index=[2, 6304], y=[8, 267], name=[8], version=[8], sha=[8], label_id=[8], label_text=[8], batch=[1185], ptr=[9])\n",
      "DataBatch(x=[966, 300], edge_index=[2, 4967], y=[8, 267], name=[8], version=[8], sha=[8], label_id=[8], label_text=[8], batch=[966], ptr=[9])\n",
      "DataBatch(x=[1363, 300], edge_index=[2, 7610], y=[8, 267], name=[8], version=[8], sha=[8], label_id=[8], label_text=[8], batch=[1363], ptr=[9])\n",
      "DataBatch(x=[666, 300], edge_index=[2, 3488], y=[8, 267], name=[8], version=[8], sha=[8], label_id=[8], label_text=[8], batch=[666], ptr=[9])\n",
      "DataBatch(x=[1177, 300], edge_index=[2, 6520], y=[8, 267], name=[8], version=[8], sha=[8], label_id=[8], label_text=[8], batch=[1177], ptr=[9])\n",
      "DataBatch(x=[572, 300], edge_index=[2, 2315], y=[8, 267], name=[8], version=[8], sha=[8], label_id=[8], label_text=[8], batch=[572], ptr=[9])\n",
      "DataBatch(x=[1255, 300], edge_index=[2, 7029], y=[8, 267], name=[8], version=[8], sha=[8], label_id=[8], label_text=[8], batch=[1255], ptr=[9])\n",
      "DataBatch(x=[1128, 300], edge_index=[2, 5891], y=[8, 267], name=[8], version=[8], sha=[8], label_id=[8], label_text=[8], batch=[1128], ptr=[9])\n",
      "DataBatch(x=[1392, 300], edge_index=[2, 7718], y=[8, 267], name=[8], version=[8], sha=[8], label_id=[8], label_text=[8], batch=[1392], ptr=[9])\n",
      "DataBatch(x=[1019, 300], edge_index=[2, 4919], y=[8, 267], name=[8], version=[8], sha=[8], label_id=[8], label_text=[8], batch=[1019], ptr=[9])\n"
     ]
    }
   ],
   "source": [
    "for i, x in enumerate(dl):\n",
    "    print(x)\n",
    "    if i == 10:\n",
    "        break"
   ],
   "metadata": {
    "collapsed": false
   }
  },
  {
   "cell_type": "code",
   "execution_count": null,
   "outputs": [],
   "source": [],
   "metadata": {
    "collapsed": false
   }
  }
 ],
 "metadata": {
  "kernelspec": {
   "display_name": "Python 3",
   "language": "python",
   "name": "python3"
  },
  "language_info": {
   "codemirror_mode": {
    "name": "ipython",
    "version": 2
   },
   "file_extension": ".py",
   "mimetype": "text/x-python",
   "name": "python",
   "nbconvert_exporter": "python",
   "pygments_lexer": "ipython2",
   "version": "2.7.6"
  }
 },
 "nbformat": 4,
 "nbformat_minor": 0
}
