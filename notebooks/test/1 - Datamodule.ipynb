{
 "cells": [
  {
   "cell_type": "code",
   "execution_count": 1,
   "metadata": {
    "collapsed": true
   },
   "outputs": [],
   "source": [
    "graph_dir = \"/home/sasce/PycharmProjects/CodeGraphClassification/data/interim/arcanOutput\"\n",
    "feature_dir = \"/home/sasce/PycharmProjects/CodeGraphClassification/data/processed/embedding/name/fastText\"\n",
    "out_dir = \"/home/sasce/PycharmProjects/CodeGraphClassification/data/processed/torch\"\n",
    "project_path = \"/home/sasce/PycharmProjects/CodeGraphClassification/data/raw/dev_dataset.csv\"\n"
   ]
  },
  {
   "cell_type": "code",
   "execution_count": 2,
   "outputs": [],
   "source": [
    "import pandas\n",
    "from utils import encode_labels\n",
    "\n",
    "projects = pandas.read_csv(project_path)\n",
    "projects = encode_labels(projects)"
   ],
   "metadata": {
    "collapsed": false
   }
  },
  {
   "cell_type": "code",
   "execution_count": 3,
   "outputs": [],
   "source": [
    "from data.datamodule import GitRankingDataModule\n",
    "\n",
    "datamodule = GitRankingDataModule(graph_dir, feature_dir, out_dir, projects, 300, batch_size=8, has_val=True, has_test=False, num_splits=3, split=1)"
   ],
   "metadata": {
    "collapsed": false
   }
  },
  {
   "cell_type": "code",
   "execution_count": 6,
   "outputs": [
    {
     "name": "stderr",
     "output_type": "stream",
     "text": [
      "Processing...\n",
      "100%|██████████| 71/71 [00:00<00:00, 190.49it/s]\n",
      "Done!\n",
      "Processing...\n",
      "100%|██████████| 28/28 [00:00<00:00, 57.73it/s]\n",
      "Done!\n"
     ]
    }
   ],
   "source": [
    "datamodule.setup()"
   ],
   "metadata": {
    "collapsed": false
   }
  },
  {
   "cell_type": "code",
   "execution_count": 11,
   "outputs": [],
   "source": [
    "data_sample = datamodule.train_data[0]"
   ],
   "metadata": {
    "collapsed": false
   }
  },
  {
   "cell_type": "code",
   "execution_count": 12,
   "outputs": [
    {
     "data": {
      "text/plain": "Data(x=[68, 300], edge_index=[2, 212], y=[2], name='Norconex|collector-filesystem', version=133, label_text=[2])"
     },
     "execution_count": 12,
     "metadata": {},
     "output_type": "execute_result"
    }
   ],
   "source": [
    "data_sample"
   ],
   "metadata": {
    "collapsed": false
   }
  },
  {
   "cell_type": "code",
   "execution_count": 13,
   "outputs": [
    {
     "data": {
      "text/plain": "tensor([[0.3569, 0.8698, 0.9535,  ..., 0.5596, 0.9105, 0.0161],\n        [0.6460, 0.6081, 0.7258,  ..., 0.8815, 0.0107, 0.3834],\n        [0.9285, 0.7769, 0.2303,  ..., 0.4011, 0.2284, 0.1283],\n        ...,\n        [0.3131, 0.6139, 0.7844,  ..., 0.2667, 0.2104, 0.7658],\n        [0.2652, 0.3545, 0.5129,  ..., 0.2900, 0.9892, 0.6884],\n        [0.9887, 0.0647, 0.9274,  ..., 0.7243, 0.6192, 0.1188]])"
     },
     "execution_count": 13,
     "metadata": {},
     "output_type": "execute_result"
    }
   ],
   "source": [
    "data_sample.x"
   ],
   "metadata": {
    "collapsed": false
   }
  },
  {
   "cell_type": "code",
   "execution_count": 14,
   "outputs": [
    {
     "ename": "NameError",
     "evalue": "name 'data' is not defined",
     "output_type": "error",
     "traceback": [
      "\u001B[0;31m---------------------------------------------------------------------------\u001B[0m",
      "\u001B[0;31mNameError\u001B[0m                                 Traceback (most recent call last)",
      "Cell \u001B[0;32mIn [14], line 1\u001B[0m\n\u001B[0;32m----> 1\u001B[0m \u001B[43mdata\u001B[49m\u001B[38;5;241m.\u001B[39medge_index\n",
      "\u001B[0;31mNameError\u001B[0m: name 'data' is not defined"
     ]
    }
   ],
   "source": [
    "data.edge_index"
   ],
   "metadata": {
    "collapsed": false
   }
  },
  {
   "cell_type": "code",
   "execution_count": null,
   "outputs": [],
   "source": [],
   "metadata": {
    "collapsed": false
   }
  }
 ],
 "metadata": {
  "kernelspec": {
   "display_name": "Python 3",
   "language": "python",
   "name": "python3"
  },
  "language_info": {
   "codemirror_mode": {
    "name": "ipython",
    "version": 2
   },
   "file_extension": ".py",
   "mimetype": "text/x-python",
   "name": "python",
   "nbconvert_exporter": "python",
   "pygments_lexer": "ipython2",
   "version": "2.7.6"
  }
 },
 "nbformat": 4,
 "nbformat_minor": 0
}
